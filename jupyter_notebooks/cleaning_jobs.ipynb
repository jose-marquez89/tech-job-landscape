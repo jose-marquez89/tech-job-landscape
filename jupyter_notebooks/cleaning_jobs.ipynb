{
 "cells": [
  {
   "cell_type": "markdown",
   "metadata": {},
   "source": [
    "### Data Cleaning\n",
    "\n",
    "The goal in this notebook is to remove as much of the non-tech entries as possible. The data will not be perfect but needs to be more representative of a true proportion of the tech job landscape. \n",
    "\n",
    "The approach taken here is to find the 200 (somewhat arbitrarily chosen) most common job titles and remove job titles that are not directly associated with a tech position (some sort of software or productt development involved), such as \"cashier\" or \"truck driver\". The list of jobs will then be used as a guide for a text classification model. Jobs below a certain threshold of similarity (to be decided here) will be dropped from the data. "
   ]
  },
  {
   "cell_type": "code",
   "execution_count": 59,
   "metadata": {},
   "outputs": [],
   "source": [
    "import re\n",
    "import pandas as pd\n",
    "import numpy as np\n",
    "import matplotlib.pyplot as plt\n",
    "\n",
    "\n",
    "from sklearn.neighbors import NearestNeighbors, KNeighborsClassifier\n",
    "from sklearn.naive_bayes import MultinomialNB\n",
    "from sklearn.feature_extraction.text import TfidfVectorizer\n",
    "from sklearn.preprocessing import LabelEncoder\n",
    "from sklearn.model_selection import train_test_split\n",
    "from sklearn.metrics import accuracy_score"
   ]
  },
  {
   "cell_type": "code",
   "execution_count": 2,
   "metadata": {},
   "outputs": [
    {
     "data": {
      "text/html": [
       "<div>\n",
       "<style scoped>\n",
       "    .dataframe tbody tr th:only-of-type {\n",
       "        vertical-align: middle;\n",
       "    }\n",
       "\n",
       "    .dataframe tbody tr th {\n",
       "        vertical-align: top;\n",
       "    }\n",
       "\n",
       "    .dataframe thead th {\n",
       "        text-align: right;\n",
       "    }\n",
       "</style>\n",
       "<table border=\"1\" class=\"dataframe\">\n",
       "  <thead>\n",
       "    <tr style=\"text-align: right;\">\n",
       "      <th></th>\n",
       "      <th>role</th>\n",
       "      <th>company</th>\n",
       "      <th>location</th>\n",
       "      <th>pay</th>\n",
       "      <th>remote</th>\n",
       "      <th>details</th>\n",
       "      <th>job_post_age</th>\n",
       "      <th>search_field</th>\n",
       "    </tr>\n",
       "  </thead>\n",
       "  <tbody>\n",
       "    <tr>\n",
       "      <th>0</th>\n",
       "      <td>Lead Software Engineer - eCommerce</td>\n",
       "      <td>COVETRUS INC</td>\n",
       "      <td>Birmingham, AL 35203</td>\n",
       "      <td>NaN</td>\n",
       "      <td>0</td>\n",
       "      <td>Our advanced web tools, client marketing progr...</td>\n",
       "      <td>30+ days ago</td>\n",
       "      <td>Marketing Technologist</td>\n",
       "    </tr>\n",
       "    <tr>\n",
       "      <th>1</th>\n",
       "      <td>Associate Director of UAA Student Web Experience</td>\n",
       "      <td>University of Alaska</td>\n",
       "      <td>Anchorage, AK 99508 (Rogers Park area)</td>\n",
       "      <td>NaN</td>\n",
       "      <td>0</td>\n",
       "      <td>Produces clear documentation for marketing pag...</td>\n",
       "      <td>30+ days ago</td>\n",
       "      <td>Marketing Technologist</td>\n",
       "    </tr>\n",
       "    <tr>\n",
       "      <th>2</th>\n",
       "      <td>Sales Support, Coronary Clinical Specialist - ...</td>\n",
       "      <td>Philips</td>\n",
       "      <td>Tucson, AZ</td>\n",
       "      <td>NaN</td>\n",
       "      <td>0</td>\n",
       "      <td>Supports marketing related trade shows and ven...</td>\n",
       "      <td>7 days ago</td>\n",
       "      <td>Marketing Technologist</td>\n",
       "    </tr>\n",
       "    <tr>\n",
       "      <th>3</th>\n",
       "      <td>Laboratory Operations Manager</td>\n",
       "      <td>Lighthouse Lab Services</td>\n",
       "      <td>Phoenix, AZ 85016 (Camelback East area)</td>\n",
       "      <td>NaN</td>\n",
       "      <td>0</td>\n",
       "      <td>Work with hospital strategy department and mar...</td>\n",
       "      <td>13 days ago</td>\n",
       "      <td>Marketing Technologist</td>\n",
       "    </tr>\n",
       "    <tr>\n",
       "      <th>4</th>\n",
       "      <td>Snr Key Account Technology Engineer I - EPI</td>\n",
       "      <td>ASM</td>\n",
       "      <td>Phoenix, AZ</td>\n",
       "      <td>NaN</td>\n",
       "      <td>0</td>\n",
       "      <td>Related work experience can include process en...</td>\n",
       "      <td>30+ days ago</td>\n",
       "      <td>Marketing Technologist</td>\n",
       "    </tr>\n",
       "  </tbody>\n",
       "</table>\n",
       "</div>"
      ],
      "text/plain": [
       "                                                role                  company  \\\n",
       "0                 Lead Software Engineer - eCommerce             COVETRUS INC   \n",
       "1   Associate Director of UAA Student Web Experience     University of Alaska   \n",
       "2  Sales Support, Coronary Clinical Specialist - ...                  Philips   \n",
       "3                      Laboratory Operations Manager  Lighthouse Lab Services   \n",
       "4        Snr Key Account Technology Engineer I - EPI                      ASM   \n",
       "\n",
       "                                  location  pay  remote  \\\n",
       "0                     Birmingham, AL 35203  NaN       0   \n",
       "1   Anchorage, AK 99508 (Rogers Park area)  NaN       0   \n",
       "2                               Tucson, AZ  NaN       0   \n",
       "3  Phoenix, AZ 85016 (Camelback East area)  NaN       0   \n",
       "4                              Phoenix, AZ  NaN       0   \n",
       "\n",
       "                                             details  job_post_age  \\\n",
       "0  Our advanced web tools, client marketing progr...  30+ days ago   \n",
       "1  Produces clear documentation for marketing pag...  30+ days ago   \n",
       "2  Supports marketing related trade shows and ven...    7 days ago   \n",
       "3  Work with hospital strategy department and mar...   13 days ago   \n",
       "4  Related work experience can include process en...  30+ days ago   \n",
       "\n",
       "             search_field  \n",
       "0  Marketing Technologist  \n",
       "1  Marketing Technologist  \n",
       "2  Marketing Technologist  \n",
       "3  Marketing Technologist  \n",
       "4  Marketing Technologist  "
      ]
     },
     "execution_count": 2,
     "metadata": {},
     "output_type": "execute_result"
    }
   ],
   "source": [
    "jobs = pd.read_csv('indeed_jobs.csv', sep='|')\n",
    "jobs.head()"
   ]
  },
  {
   "cell_type": "code",
   "execution_count": 3,
   "metadata": {},
   "outputs": [
    {
     "data": {
      "text/plain": [
       "Robotic Technical Lead                                                                 1\n",
       "Research Technician I                                                                  1\n",
       "Substitute Teacher District Pool (Per Diem, Building, Long Term Sub) (Districtwide)    1\n",
       "MAC Desktop Admin                                                                      1\n",
       "Fire Protection and Life Safety Consultant                                             1\n",
       "salesforce Developer 10+ Years Profiles 100% Remote job                                1\n",
       "Clinical Medical Technologist (Laboratory Manager)                                     1\n",
       "AutoCAD Telecommunications Technician                                                  1\n",
       "Engineer | Xtream Arena & GreenState Family Fieldhouse                                 1\n",
       "Assistant/Associate/Professor Dependent on Qualifications                              1\n",
       "Orchestration OSS WW Senior Solution architect                                         1\n",
       "Business Development Executive - Digital                                               1\n",
       "ELEARNING EXPERIENCE DEVELOPER                                                         1\n",
       "Manager FP&A-SCS                                                                       1\n",
       "QA Technician - RN                                                                     1\n",
       "Quality Assurance and Training Senior Manager / BPO Manager                            1\n",
       "Production Planning Coordinator                                                        1\n",
       "ECM FileNet Administrator-1                                                            1\n",
       "Supv, Technical Assistance Center                                                      1\n",
       "Gifted Teacher (2020-2021) SY                                                          1\n",
       "Name: role, dtype: int64"
      ]
     },
     "execution_count": 3,
     "metadata": {},
     "output_type": "execute_result"
    }
   ],
   "source": [
    "# As the data stands, the more unique job titles are\n",
    "# the most likely (intuitively) to not be tech related\n",
    "jobs['role'].value_counts(ascending=True)[11:31]\n",
    "\n",
    "# MEAT MANAGER! (not helpful)"
   ]
  },
  {
   "cell_type": "markdown",
   "metadata": {},
   "source": [
    "One of the main issues is that filtering by the most common\n",
    "job titles will not help the situation as too many titles\n",
    "are unique. The graph below shows the amount of unique titles \n",
    "overwhelming common titles; duplicates are in the minority."
   ]
  },
  {
   "cell_type": "code",
   "execution_count": 4,
   "metadata": {},
   "outputs": [
    {
     "data": {
      "image/png": "[encoded data removed]",
      "text/plain": [
       "<Figure size 432x288 with 1 Axes>"
      ]
     },
     "metadata": {
      "needs_background": "light"
     },
     "output_type": "display_data"
    }
   ],
   "source": [
    "plt.plot(jobs['role'].value_counts().values);"
   ]
  },
  {
   "cell_type": "code",
   "execution_count": null,
   "metadata": {},
   "outputs": [],
   "source": [
    "two_hundred_jobs = jobs['role'].value_counts()[:200].index"
   ]
  },
  {
   "cell_type": "code",
   "execution_count": null,
   "metadata": {},
   "outputs": [],
   "source": [
    "with open(\"jobs_200.txt\", \"w\") as f:\n",
    "    for job in two_hundred_jobs:\n",
    "        f.write(\"{}\\n\".format(job))"
   ]
  },
  {
   "cell_type": "code",
   "execution_count": 5,
   "metadata": {},
   "outputs": [],
   "source": [
    "with open(\"tech_jobs_edited.txt\", \"r\") as fedit:\n",
    "    valid_jobs = fedit.read()\n",
    "    valid_jobs = valid_jobs.split('\\n')"
   ]
  },
  {
   "cell_type": "code",
   "execution_count": 6,
   "metadata": {},
   "outputs": [],
   "source": [
    "def format_string(s):\n",
    "    ptrn = r'[^a-zA-z]'\n",
    "    new = re.sub(ptrn, ' ', s)\n",
    "    new = new.replace('  ', ' ')\n",
    "    new = new.strip().lower()\n",
    "    \n",
    "    return new"
   ]
  },
  {
   "cell_type": "code",
   "execution_count": 7,
   "metadata": {},
   "outputs": [],
   "source": [
    "valid_jobs = list(map(format_string, valid_jobs))"
   ]
  },
  {
   "cell_type": "code",
   "execution_count": 8,
   "metadata": {},
   "outputs": [
    {
     "data": {
      "text/plain": [
       "NearestNeighbors(algorithm='brute', metric='cosine', n_neighbors=1)"
      ]
     },
     "execution_count": 8,
     "metadata": {},
     "output_type": "execute_result"
    }
   ],
   "source": [
    "# vectorize job titles and fit nearest neighbors\n",
    "vectorizer = TfidfVectorizer(ngram_range=(1, 2),\n",
    "                             max_df=.50)\n",
    "jobs_transformed = vectorizer.fit_transform(valid_jobs)\n",
    "nn = NearestNeighbors(n_neighbors=1, algorithm=\"brute\",\n",
    "                      metric=\"cosine\")\n",
    "nn.fit(jobs_transformed)"
   ]
  },
  {
   "cell_type": "code",
   "execution_count": 9,
   "metadata": {},
   "outputs": [],
   "source": [
    "test_jobs = jobs['role'].value_counts(ascending=True)[:50].index\n",
    "test_jobs = test_jobs.to_list()\n",
    "zeros = np.zeros(len(test_jobs))\n",
    "test_data = {'job': test_jobs, 'distance': zeros}"
   ]
  },
  {
   "cell_type": "code",
   "execution_count": 10,
   "metadata": {},
   "outputs": [
    {
     "data": {
      "text/html": [
       "<div>\n",
       "<style scoped>\n",
       "    .dataframe tbody tr th:only-of-type {\n",
       "        vertical-align: middle;\n",
       "    }\n",
       "\n",
       "    .dataframe tbody tr th {\n",
       "        vertical-align: top;\n",
       "    }\n",
       "\n",
       "    .dataframe thead th {\n",
       "        text-align: right;\n",
       "    }\n",
       "</style>\n",
       "<table border=\"1\" class=\"dataframe\">\n",
       "  <thead>\n",
       "    <tr style=\"text-align: right;\">\n",
       "      <th></th>\n",
       "      <th>job</th>\n",
       "      <th>distance</th>\n",
       "    </tr>\n",
       "  </thead>\n",
       "  <tbody>\n",
       "    <tr>\n",
       "      <th>0</th>\n",
       "      <td>social scientist biological scientist nepa pla...</td>\n",
       "      <td>0.0</td>\n",
       "    </tr>\n",
       "    <tr>\n",
       "      <th>1</th>\n",
       "      <td>rn clinician neurosurgery team lead</td>\n",
       "      <td>0.0</td>\n",
       "    </tr>\n",
       "    <tr>\n",
       "      <th>2</th>\n",
       "      <td>content project manager</td>\n",
       "      <td>0.0</td>\n",
       "    </tr>\n",
       "    <tr>\n",
       "      <th>3</th>\n",
       "      <td>director of digital marketing  ecommerce</td>\n",
       "      <td>0.0</td>\n",
       "    </tr>\n",
       "    <tr>\n",
       "      <th>4</th>\n",
       "      <td>azure cloud security engineer</td>\n",
       "      <td>0.0</td>\n",
       "    </tr>\n",
       "  </tbody>\n",
       "</table>\n",
       "</div>"
      ],
      "text/plain": [
       "                                                 job  distance\n",
       "0  social scientist biological scientist nepa pla...       0.0\n",
       "1                rn clinician neurosurgery team lead       0.0\n",
       "2                            content project manager       0.0\n",
       "3           director of digital marketing  ecommerce       0.0\n",
       "4                      azure cloud security engineer       0.0"
      ]
     },
     "execution_count": 10,
     "metadata": {},
     "output_type": "execute_result"
    }
   ],
   "source": [
    "test_df = pd.DataFrame(data=test_data)\n",
    "test_df['job'] = test_df['job'].apply(format_string)\n",
    "test_df.head()"
   ]
  },
  {
   "cell_type": "code",
   "execution_count": 11,
   "metadata": {},
   "outputs": [],
   "source": [
    "test_jobs_transformed = vectorizer.transform(test_df['job'])\n",
    "distances, indices = nn.kneighbors(test_jobs_transformed)"
   ]
  },
  {
   "cell_type": "code",
   "execution_count": 12,
   "metadata": {},
   "outputs": [],
   "source": [
    "test_df['distance'] = distances\n",
    "test_df['neighbor'] = list(map(lambda x: valid_jobs[x[0]], indices))"
   ]
  },
  {
   "cell_type": "code",
   "execution_count": 13,
   "metadata": {},
   "outputs": [
    {
     "data": {
      "text/html": [
       "<div>\n",
       "<style scoped>\n",
       "    .dataframe tbody tr th:only-of-type {\n",
       "        vertical-align: middle;\n",
       "    }\n",
       "\n",
       "    .dataframe tbody tr th {\n",
       "        vertical-align: top;\n",
       "    }\n",
       "\n",
       "    .dataframe thead th {\n",
       "        text-align: right;\n",
       "    }\n",
       "</style>\n",
       "<table border=\"1\" class=\"dataframe\">\n",
       "  <thead>\n",
       "    <tr style=\"text-align: right;\">\n",
       "      <th></th>\n",
       "      <th>job</th>\n",
       "      <th>distance</th>\n",
       "      <th>neighbor</th>\n",
       "    </tr>\n",
       "  </thead>\n",
       "  <tbody>\n",
       "    <tr>\n",
       "      <th>2</th>\n",
       "      <td>content project manager</td>\n",
       "      <td>0.199729</td>\n",
       "      <td>project manager</td>\n",
       "    </tr>\n",
       "    <tr>\n",
       "      <th>3</th>\n",
       "      <td>director of digital marketing  ecommerce</td>\n",
       "      <td>0.167140</td>\n",
       "      <td>digital marketing manager</td>\n",
       "    </tr>\n",
       "    <tr>\n",
       "      <th>4</th>\n",
       "      <td>azure cloud security engineer</td>\n",
       "      <td>0.000000</td>\n",
       "      <td>cloud security engineer</td>\n",
       "    </tr>\n",
       "    <tr>\n",
       "      <th>10</th>\n",
       "      <td>senior product designer education</td>\n",
       "      <td>0.000000</td>\n",
       "      <td>senior product designer</td>\n",
       "    </tr>\n",
       "    <tr>\n",
       "      <th>11</th>\n",
       "      <td>robotic technical lead</td>\n",
       "      <td>0.000000</td>\n",
       "      <td>technical lead</td>\n",
       "    </tr>\n",
       "    <tr>\n",
       "      <th>16</th>\n",
       "      <td>salesforce developer   years profiles   remote...</td>\n",
       "      <td>0.150677</td>\n",
       "      <td>salesforce developer</td>\n",
       "    </tr>\n",
       "    <tr>\n",
       "      <th>44</th>\n",
       "      <td>lead product manager  medtech healthtech ai at...</td>\n",
       "      <td>0.168425</td>\n",
       "      <td>product manager</td>\n",
       "    </tr>\n",
       "    <tr>\n",
       "      <th>48</th>\n",
       "      <td>principal product designer disney</td>\n",
       "      <td>0.194755</td>\n",
       "      <td>product designer</td>\n",
       "    </tr>\n",
       "  </tbody>\n",
       "</table>\n",
       "</div>"
      ],
      "text/plain": [
       "                                                  job  distance  \\\n",
       "2                             content project manager  0.199729   \n",
       "3            director of digital marketing  ecommerce  0.167140   \n",
       "4                       azure cloud security engineer  0.000000   \n",
       "10                  senior product designer education  0.000000   \n",
       "11                             robotic technical lead  0.000000   \n",
       "16  salesforce developer   years profiles   remote...  0.150677   \n",
       "44  lead product manager  medtech healthtech ai at...  0.168425   \n",
       "48                  principal product designer disney  0.194755   \n",
       "\n",
       "                     neighbor  \n",
       "2             project manager  \n",
       "3   digital marketing manager  \n",
       "4     cloud security engineer  \n",
       "10    senior product designer  \n",
       "11             technical lead  \n",
       "16       salesforce developer  \n",
       "44            product manager  \n",
       "48           product designer  "
      ]
     },
     "execution_count": 13,
     "metadata": {},
     "output_type": "execute_result"
    }
   ],
   "source": [
    "test_df[test_df['distance'] <= .20]"
   ]
  },
  {
   "cell_type": "markdown",
   "metadata": {},
   "source": [
    "As seen above, there are some jobs that pass through the filter with a distance threshold of 0.35, but not many (~12% of the job listings are not accurately designated as tech jobs). It's worth the time to see how this would affect the entire dataset:"
   ]
  },
  {
   "cell_type": "code",
   "execution_count": 14,
   "metadata": {},
   "outputs": [
    {
     "data": {
      "text/html": [
       "<div>\n",
       "<style scoped>\n",
       "    .dataframe tbody tr th:only-of-type {\n",
       "        vertical-align: middle;\n",
       "    }\n",
       "\n",
       "    .dataframe tbody tr th {\n",
       "        vertical-align: top;\n",
       "    }\n",
       "\n",
       "    .dataframe thead th {\n",
       "        text-align: right;\n",
       "    }\n",
       "</style>\n",
       "<table border=\"1\" class=\"dataframe\">\n",
       "  <thead>\n",
       "    <tr style=\"text-align: right;\">\n",
       "      <th></th>\n",
       "      <th>role</th>\n",
       "      <th>company</th>\n",
       "      <th>location</th>\n",
       "      <th>pay</th>\n",
       "      <th>remote</th>\n",
       "      <th>details</th>\n",
       "      <th>job_post_age</th>\n",
       "      <th>search_field</th>\n",
       "      <th>role_formatted</th>\n",
       "      <th>distances</th>\n",
       "    </tr>\n",
       "  </thead>\n",
       "  <tbody>\n",
       "    <tr>\n",
       "      <th>0</th>\n",
       "      <td>Lead Software Engineer - eCommerce</td>\n",
       "      <td>COVETRUS INC</td>\n",
       "      <td>Birmingham, AL 35203</td>\n",
       "      <td>NaN</td>\n",
       "      <td>0</td>\n",
       "      <td>Our advanced web tools, client marketing progr...</td>\n",
       "      <td>30+ days ago</td>\n",
       "      <td>Marketing Technologist</td>\n",
       "      <td>lead software engineer  ecommerce</td>\n",
       "      <td>0.000000</td>\n",
       "    </tr>\n",
       "    <tr>\n",
       "      <th>1</th>\n",
       "      <td>Associate Director of UAA Student Web Experience</td>\n",
       "      <td>University of Alaska</td>\n",
       "      <td>Anchorage, AK 99508 (Rogers Park area)</td>\n",
       "      <td>NaN</td>\n",
       "      <td>0</td>\n",
       "      <td>Produces clear documentation for marketing pag...</td>\n",
       "      <td>30+ days ago</td>\n",
       "      <td>Marketing Technologist</td>\n",
       "      <td>associate director of uaa student web experience</td>\n",
       "      <td>0.654724</td>\n",
       "    </tr>\n",
       "    <tr>\n",
       "      <th>2</th>\n",
       "      <td>Sales Support, Coronary Clinical Specialist - ...</td>\n",
       "      <td>Philips</td>\n",
       "      <td>Tucson, AZ</td>\n",
       "      <td>NaN</td>\n",
       "      <td>0</td>\n",
       "      <td>Supports marketing related trade shows and ven...</td>\n",
       "      <td>7 days ago</td>\n",
       "      <td>Marketing Technologist</td>\n",
       "      <td>sales support coronary clinical specialist  im...</td>\n",
       "      <td>0.519860</td>\n",
       "    </tr>\n",
       "    <tr>\n",
       "      <th>3</th>\n",
       "      <td>Laboratory Operations Manager</td>\n",
       "      <td>Lighthouse Lab Services</td>\n",
       "      <td>Phoenix, AZ 85016 (Camelback East area)</td>\n",
       "      <td>NaN</td>\n",
       "      <td>0</td>\n",
       "      <td>Work with hospital strategy department and mar...</td>\n",
       "      <td>13 days ago</td>\n",
       "      <td>Marketing Technologist</td>\n",
       "      <td>laboratory operations manager</td>\n",
       "      <td>0.553017</td>\n",
       "    </tr>\n",
       "    <tr>\n",
       "      <th>4</th>\n",
       "      <td>Snr Key Account Technology Engineer I - EPI</td>\n",
       "      <td>ASM</td>\n",
       "      <td>Phoenix, AZ</td>\n",
       "      <td>NaN</td>\n",
       "      <td>0</td>\n",
       "      <td>Related work experience can include process en...</td>\n",
       "      <td>30+ days ago</td>\n",
       "      <td>Marketing Technologist</td>\n",
       "      <td>snr key account technology engineer i  epi</td>\n",
       "      <td>0.526566</td>\n",
       "    </tr>\n",
       "  </tbody>\n",
       "</table>\n",
       "</div>"
      ],
      "text/plain": [
       "                                                role                  company  \\\n",
       "0                 Lead Software Engineer - eCommerce             COVETRUS INC   \n",
       "1   Associate Director of UAA Student Web Experience     University of Alaska   \n",
       "2  Sales Support, Coronary Clinical Specialist - ...                  Philips   \n",
       "3                      Laboratory Operations Manager  Lighthouse Lab Services   \n",
       "4        Snr Key Account Technology Engineer I - EPI                      ASM   \n",
       "\n",
       "                                  location  pay  remote  \\\n",
       "0                     Birmingham, AL 35203  NaN       0   \n",
       "1   Anchorage, AK 99508 (Rogers Park area)  NaN       0   \n",
       "2                               Tucson, AZ  NaN       0   \n",
       "3  Phoenix, AZ 85016 (Camelback East area)  NaN       0   \n",
       "4                              Phoenix, AZ  NaN       0   \n",
       "\n",
       "                                             details  job_post_age  \\\n",
       "0  Our advanced web tools, client marketing progr...  30+ days ago   \n",
       "1  Produces clear documentation for marketing pag...  30+ days ago   \n",
       "2  Supports marketing related trade shows and ven...    7 days ago   \n",
       "3  Work with hospital strategy department and mar...   13 days ago   \n",
       "4  Related work experience can include process en...  30+ days ago   \n",
       "\n",
       "             search_field                                     role_formatted  \\\n",
       "0  Marketing Technologist                  lead software engineer  ecommerce   \n",
       "1  Marketing Technologist   associate director of uaa student web experience   \n",
       "2  Marketing Technologist  sales support coronary clinical specialist  im...   \n",
       "3  Marketing Technologist                      laboratory operations manager   \n",
       "4  Marketing Technologist         snr key account technology engineer i  epi   \n",
       "\n",
       "   distances  \n",
       "0   0.000000  \n",
       "1   0.654724  \n",
       "2   0.519860  \n",
       "3   0.553017  \n",
       "4   0.526566  "
      ]
     },
     "execution_count": 14,
     "metadata": {},
     "output_type": "execute_result"
    }
   ],
   "source": [
    "jobs['role_formatted'] = jobs['role'].apply(format_string)\n",
    "roles_transformed = vectorizer.transform(jobs['role_formatted'])\n",
    "distances, indices = nn.kneighbors(roles_transformed)\n",
    "jobs['distances'] = distances\n",
    "jobs.head()"
   ]
  },
  {
   "cell_type": "code",
   "execution_count": 15,
   "metadata": {},
   "outputs": [
    {
     "name": "stdout",
     "output_type": "stream",
     "text": [
      "Data retained at .35: 126286\n",
      "Data retained at .30: 117809\n",
      "Data retained at .20: 92291\n"
     ]
    }
   ],
   "source": [
    "# how much data is retained when the jobs are filtered via distance?\n",
    "print(f\"Data retained at .35: {jobs[jobs['distances'] < .35].shape[0]}\")\n",
    "print(f\"Data retained at .30: {jobs[jobs['distances'] < .30].shape[0]}\")\n",
    "print(f\"Data retained at .20: {jobs[jobs['distances'] < .20].shape[0]}\")"
   ]
  },
  {
   "cell_type": "code",
   "execution_count": 16,
   "metadata": {},
   "outputs": [
    {
     "data": {
      "text/plain": [
       "Software Engineer            2957\n",
       "Software Developer           1401\n",
       "Senior Software Engineer     1395\n",
       "Business Analyst             1253\n",
       "Full Stack Developer         1017\n",
       "Web Developer                 982\n",
       "Product Manager               912\n",
       "Systems Administrator         809\n",
       "Systems Engineer              789\n",
       "Project Manager               787\n",
       "Data Analyst                  744\n",
       "Marketing Manager             685\n",
       "DevOps Engineer               673\n",
       "Data Scientist                554\n",
       "Account Manager               509\n",
       "Digital Marketing Manager     503\n",
       "Front End Developer           499\n",
       "Social Media Manager          442\n",
       "Java Developer                385\n",
       "System Administrator          383\n",
       "Name: role, dtype: int64"
      ]
     },
     "execution_count": 16,
     "metadata": {},
     "output_type": "execute_result"
    }
   ],
   "source": [
    "jobs = jobs[jobs['distances'] < .30]\n",
    "jobs['role'].value_counts()[:20]"
   ]
  },
  {
   "cell_type": "code",
   "execution_count": 17,
   "metadata": {},
   "outputs": [
    {
     "data": {
      "text/plain": [
       "Lead Software Engineer, Testing                                                            1\n",
       "Front End Maintainer                                                                       1\n",
       "Quality Assurance Review Analyst - Part-time (Winchester, VA)                              1\n",
       "Business Systems Analyst -- Personnel Board of Jefferson County                            1\n",
       "Lead IT Financial Analyst                                                                  1\n",
       "Systems Administrator - Germany                                                            1\n",
       "Maintenance Support Engineer                                                               1\n",
       "Senior ADS Project Manager                                                                 1\n",
       "Middle Office Business Analyst                                                             1\n",
       "Senior Project Finance Developer                                                           1\n",
       "QA/Testing Engineer                                                                        1\n",
       "Manager of Software Engineering (Resolution & Edge Operations) – UltraDNS Authoritative    1\n",
       "Simulation Support Team (SST) Network Engineer                                             1\n",
       "Network Engineer (Co-Op) - United States                                                   1\n",
       "Systems Engineer (Sensor Integration)                                                      1\n",
       "Embedded Software Engineer (Automotive)                                                    1\n",
       "Information Technology Project Engineer - Waco                                             1\n",
       "VoIP System Administrator (Government)                                                     1\n",
       "Graduate and Professional Enrollment Marketing Manager                                     1\n",
       "Firmware Software Quality Assurance                                                        1\n",
       "Name: role, dtype: int64"
      ]
     },
     "execution_count": 17,
     "metadata": {},
     "output_type": "execute_result"
    }
   ],
   "source": [
    "# The more unique roles were previously more likely to\n",
    "# be related to a field other than tech. Much improved!\n",
    "jobs['role'].value_counts(ascending=True)[:20]"
   ]
  },
  {
   "cell_type": "markdown",
   "metadata": {},
   "source": [
    "The figures above are an improvement from the retention seen in past attempts (trying to align the `search_field` column with job roles) and are more likely to produce a dataset where the jobs are _actually_ related to tech. Now, we can apply a process that I attemped earlier: organizing the actual job titles into uniform categories. The following section *Individual Jobs* is from the aforementioned previous attempt. The goal here is two merge the previous process with the following one to create a totally improved, albeit thinner dataset, more representative of the population of Indeed tech jobs"
   ]
  },
  {
   "cell_type": "markdown",
   "metadata": {},
   "source": [
    "### Individual Jobs\n",
    "An explanation of what's going on here:\n",
    ">To answer the question of which jobs have more remote possibilities I'll take a look at the top 20 jobs. This will also help answer the question of average pay range per job. There is one issue, however: The `search_field` result column does not ensure that its value will be related to the `role` column. The job roles have a lot of variation in how they're named, and picking out groups manually would be an impractical waste of time. \n",
    "\n",
    ">The proposed method to alleviate this is to take a deterministic and a probabilistic model and use the text details of the job to classify the roles that are named with enough variation to make them appear to be different jobs. Here I will use a Multinomial Naive Bayes and a K-Nearest Neighbors to see which gets better accuracy. The winner will classify the job roles in a new column. Similarity score will also be stored. Scores below a threshold will be discarded. "
   ]
  },
  {
   "cell_type": "code",
   "execution_count": 18,
   "metadata": {},
   "outputs": [],
   "source": [
    "# First, some housekeeping: The software developer role and it's\n",
    "# corresponding search field have a spelling discrepancy\n",
    "jobs.loc[jobs['search_field'] == 'Software Developers', 'search_field'] = \"Software Developer\""
   ]
  },
  {
   "cell_type": "code",
   "execution_count": 19,
   "metadata": {},
   "outputs": [],
   "source": [
    "# Now, the jobs where the role and search_field align exactly\n",
    "# will become the training data. This could be difficult to test\n",
    "# because some roles only have one example\n",
    "class_data = jobs[jobs['role'] == jobs['search_field']]"
   ]
  },
  {
   "cell_type": "markdown",
   "metadata": {},
   "source": [
    "Because some of the roles only have one example, I'll manually choose some of the search results that align with the `search_field` job title to rename according to the target job roles. This will make it easier to create a stratified train/test split"
   ]
  },
  {
   "cell_type": "code",
   "execution_count": 20,
   "metadata": {},
   "outputs": [
    {
     "data": {
      "text/plain": [
       "Web Analytics Developer    1\n",
       "Game Developer             1\n",
       "Name: role, dtype: int64"
      ]
     },
     "execution_count": 20,
     "metadata": {},
     "output_type": "execute_result"
    }
   ],
   "source": [
    "class_data['role'].value_counts()[class_data['role'].value_counts() == 1]"
   ]
  },
  {
   "cell_type": "code",
   "execution_count": 21,
   "metadata": {},
   "outputs": [],
   "source": [
    "# create a new column that will be used as the new label\n",
    "jobs['job_label'] = jobs['role']"
   ]
  },
  {
   "cell_type": "code",
   "execution_count": 22,
   "metadata": {},
   "outputs": [],
   "source": [
    "weban_data = jobs[jobs['search_field'] == 'Web Analytics Developer'][['role', 'details']].values\n",
    "weban_index = jobs[jobs['search_field'] == 'Web Analytics Developer'][['role', 'details']].index\n",
    "\n",
    "gamedev_data = jobs[jobs['search_field'] == 'Game Developer'][['role', 'details']].values\n",
    "gamedev_index = jobs[jobs['search_field'] == 'Game Developer'][['role', 'details']].index\n",
    "\n",
    "weban = list(zip(weban_data, weban_index))\n",
    "gamedev = list(zip(gamedev_data, gamedev_index))"
   ]
  },
  {
   "cell_type": "code",
   "execution_count": null,
   "metadata": {},
   "outputs": [],
   "source": [
    "for value, index in weban:\n",
    "    print(value[1], index, value[0])\n",
    "    print(\">>>>>>>>>>>>>>>>>>>>>>\")"
   ]
  },
  {
   "cell_type": "code",
   "execution_count": 33,
   "metadata": {},
   "outputs": [
    {
     "data": {
      "text/plain": [
       "role          Software Developer with Strong Database Skills\n",
       "details    Work part of a team that focuses on providing ...\n",
       "Name: 1186, dtype: object"
      ]
     },
     "execution_count": 33,
     "metadata": {},
     "output_type": "execute_result"
    }
   ],
   "source": [
    "jobs.loc[1186][['role', 'details']]"
   ]
  },
  {
   "cell_type": "code",
   "execution_count": 35,
   "metadata": {},
   "outputs": [],
   "source": [
    "# create a dictionary to hold the indices of good matches for named roles\n",
    "job_label_dict = {'Game Developer':[243469, 243470, 243485, \n",
    "                                    243486, 243511, 243519],\n",
    "                  'Web Analytics Developer': [1175, 1187, 1186,\n",
    "                                              1276, 4649, 4636]}"
   ]
  },
  {
   "cell_type": "code",
   "execution_count": 36,
   "metadata": {},
   "outputs": [],
   "source": [
    "for job_name, indices in job_label_dict.items():\n",
    "    for idx in indices:\n",
    "        jobs.loc[idx, 'job_label'] = job_name"
   ]
  },
  {
   "cell_type": "markdown",
   "metadata": {},
   "source": [
    "Now there should be enough data to split into train and test"
   ]
  },
  {
   "cell_type": "code",
   "execution_count": 37,
   "metadata": {},
   "outputs": [],
   "source": [
    "class_data = jobs[jobs['job_label'] == jobs['search_field']][['job_label', 'details']]"
   ]
  },
  {
   "cell_type": "markdown",
   "metadata": {},
   "source": [
    "#### Creating Training Data\n",
    "Now the details from each job in the new training data need to be vectorized."
   ]
  },
  {
   "cell_type": "code",
   "execution_count": 41,
   "metadata": {},
   "outputs": [
    {
     "data": {
      "text/plain": [
       "Product Manager              651\n",
       "Software Developer           648\n",
       "Systems Engineer             578\n",
       "Data Analyst                 490\n",
       "Data Scientist               480\n",
       "Systems Administrator        475\n",
       "Database Administrator       273\n",
       "Digital Marketing Manager    235\n",
       "Business Systems Analyst     190\n",
       "Social Media Manager         168\n",
       "Data Architect               164\n",
       "UX Designer                  132\n",
       "Technical Account Manager    123\n",
       "Python Developer             102\n",
       "Cloud Architect               91\n",
       "Technical Lead                86\n",
       "Front-End Developer           45\n",
       "Content Manager               42\n",
       "Mobile Developer              41\n",
       "WordPress Developer           35\n",
       "UI Designer                   34\n",
       "Agile Project Manager         30\n",
       "Ruby on Rails Developer       25\n",
       "Mobile App Developer          21\n",
       "Full-Stack Developer          19\n",
       "Web Analytics Developer        7\n",
       "Game Developer                 7\n",
       "Name: job_label, dtype: int64"
      ]
     },
     "execution_count": 41,
     "metadata": {},
     "output_type": "execute_result"
    }
   ],
   "source": [
    "class_data['job_label'].value_counts()"
   ]
  },
  {
   "cell_type": "code",
   "execution_count": 42,
   "metadata": {},
   "outputs": [],
   "source": [
    "# accuracy in predictions may increase if the job_label is adds to the description\n",
    "class_data['details'] = class_data['job_label'] + ' ' + class_data['details'] "
   ]
  },
  {
   "cell_type": "code",
   "execution_count": 43,
   "metadata": {},
   "outputs": [],
   "source": [
    "def format_text(series, inplace=False):\n",
    "    \"\"\"Format text in a way that optimizes vectorization\"\"\"\n",
    "    if not inplace:\n",
    "        series = series.copy()\n",
    "    series = series.str.replace('[^a-zA-Z0-9]', ' ')\n",
    "    series = series.str.replace('\\s{2}', ' ')\n",
    "    series = series.str.lower().str.strip()\n",
    "    \n",
    "    return series"
   ]
  },
  {
   "cell_type": "code",
   "execution_count": 44,
   "metadata": {},
   "outputs": [],
   "source": [
    "documents = format_text(class_data['details'])"
   ]
  },
  {
   "cell_type": "code",
   "execution_count": 45,
   "metadata": {},
   "outputs": [
    {
     "data": {
      "text/plain": [
       "'data scientist our data scientists serve as subject matter experts on healthcare quality measurement and risk adjustment use predictive modeling to identify patient'"
      ]
     },
     "execution_count": 45,
     "metadata": {},
     "output_type": "execute_result"
    }
   ],
   "source": [
    "documents.iloc[3999]"
   ]
  },
  {
   "cell_type": "code",
   "execution_count": 48,
   "metadata": {},
   "outputs": [],
   "source": [
    "vectorizer = TfidfVectorizer(ngram_range=(1, 2), \n",
    "                             max_df=.80, min_df=10)\n",
    "le = LabelEncoder()\n",
    "le.fit(class_data['job_label'])\n",
    "\n",
    "X = vectorizer.fit_transform(documents)\n",
    "y = le.transform(class_data['job_label'])"
   ]
  },
  {
   "cell_type": "code",
   "execution_count": 49,
   "metadata": {},
   "outputs": [
    {
     "name": "stdout",
     "output_type": "stream",
     "text": [
      "(5192, 2680)\n",
      "(5192,)\n"
     ]
    }
   ],
   "source": [
    "print(X.shape)\n",
    "print(y.shape)"
   ]
  },
  {
   "cell_type": "code",
   "execution_count": 52,
   "metadata": {},
   "outputs": [
    {
     "name": "stdout",
     "output_type": "stream",
     "text": [
      "(4153, 2680) (1039, 2680)\n",
      "(4153,) (1039,)\n"
     ]
    }
   ],
   "source": [
    "# split X into train and test\n",
    "X_train, X_test, y_train, y_test = train_test_split(\n",
    "    X, y, test_size=0.20, random_state=42, stratify=y)\n",
    "\n",
    "print(X_train.shape, X_test.shape)\n",
    "print(y_train.shape, y_test.shape)"
   ]
  },
  {
   "cell_type": "code",
   "execution_count": 60,
   "metadata": {},
   "outputs": [
    {
     "name": "stdout",
     "output_type": "stream",
     "text": [
      "KNeighbors: 0.9133782483156881\n",
      "MultinomialNB: 0.9153031761308951\n"
     ]
    }
   ],
   "source": [
    "neighbors = KNeighborsClassifier(algorithm=\"brute\", metric=\"cosine\")\n",
    "neighbors.fit(X_train, y_train)\n",
    "\n",
    "n_bayes = MultinomialNB(alpha=0.1)\n",
    "n_bayes.fit(X_train, y_train)\n",
    "\n",
    "y_pred_neighbors = neighbors.predict(X_test)\n",
    "y_pred_n_bayes = n_bayes.predict(X_test)\n",
    "print(f\"KNeighbors: {accuracy_score(y_test, y_pred_neighbors)}\")\n",
    "print(f\"MultinomialNB: {accuracy_score(y_test, y_pred_n_bayes)}\")"
   ]
  },
  {
   "cell_type": "code",
   "execution_count": 61,
   "metadata": {},
   "outputs": [
    {
     "data": {
      "text/html": [
       "<div>\n",
       "<style scoped>\n",
       "    .dataframe tbody tr th:only-of-type {\n",
       "        vertical-align: middle;\n",
       "    }\n",
       "\n",
       "    .dataframe tbody tr th {\n",
       "        vertical-align: top;\n",
       "    }\n",
       "\n",
       "    .dataframe thead th {\n",
       "        text-align: right;\n",
       "    }\n",
       "</style>\n",
       "<table border=\"1\" class=\"dataframe\">\n",
       "  <thead>\n",
       "    <tr style=\"text-align: right;\">\n",
       "      <th></th>\n",
       "      <th>role</th>\n",
       "      <th>search_field</th>\n",
       "      <th>role_plus_details</th>\n",
       "    </tr>\n",
       "  </thead>\n",
       "  <tbody>\n",
       "    <tr>\n",
       "      <th>0</th>\n",
       "      <td>Lead Software Engineer - eCommerce</td>\n",
       "      <td>Marketing Technologist</td>\n",
       "      <td>lead software engineer  ecommerce our advanced...</td>\n",
       "    </tr>\n",
       "    <tr>\n",
       "      <th>6</th>\n",
       "      <td>Snr Key Account Technology Engineer II - ALD</td>\n",
       "      <td>Marketing Technologist</td>\n",
       "      <td>snr key account technology engineer ii  ald re...</td>\n",
       "    </tr>\n",
       "    <tr>\n",
       "      <th>8</th>\n",
       "      <td>Salesforce Developer - US Delivery Center</td>\n",
       "      <td>Marketing Technologist</td>\n",
       "      <td>salesforce developer  us delivery center build...</td>\n",
       "    </tr>\n",
       "    <tr>\n",
       "      <th>11</th>\n",
       "      <td>Lead Software Engineer - eCommerce</td>\n",
       "      <td>Marketing Technologist</td>\n",
       "      <td>lead software engineer  ecommerce our advanced...</td>\n",
       "    </tr>\n",
       "    <tr>\n",
       "      <th>12</th>\n",
       "      <td>UI/UX Designer-Clearance Required</td>\n",
       "      <td>Marketing Technologist</td>\n",
       "      <td>ui ux designer clearance required we implement...</td>\n",
       "    </tr>\n",
       "    <tr>\n",
       "      <th>...</th>\n",
       "      <td>...</td>\n",
       "      <td>...</td>\n",
       "      <td>...</td>\n",
       "    </tr>\n",
       "    <tr>\n",
       "      <th>248004</th>\n",
       "      <td>Part-Time, IT: Software Developer Instructor</td>\n",
       "      <td>Mobile App Developer</td>\n",
       "      <td>part time it software developer instructor net...</td>\n",
       "    </tr>\n",
       "    <tr>\n",
       "      <th>248005</th>\n",
       "      <td>Senior Salesforce Developer</td>\n",
       "      <td>Mobile App Developer</td>\n",
       "      <td>senior salesforce developer in addition we als...</td>\n",
       "    </tr>\n",
       "    <tr>\n",
       "      <th>248006</th>\n",
       "      <td>Software Development Engineer - iOS</td>\n",
       "      <td>Mobile App Developer</td>\n",
       "      <td>software development engineer  ios 3 years exp...</td>\n",
       "    </tr>\n",
       "    <tr>\n",
       "      <th>248007</th>\n",
       "      <td>Senior Principal Software Engineer</td>\n",
       "      <td>Mobile App Developer</td>\n",
       "      <td>senior principal software engineer mobile app ...</td>\n",
       "    </tr>\n",
       "    <tr>\n",
       "      <th>248008</th>\n",
       "      <td>Senior Principal Software Engineer</td>\n",
       "      <td>Mobile App Developer</td>\n",
       "      <td>senior principal software engineer mobile app ...</td>\n",
       "    </tr>\n",
       "  </tbody>\n",
       "</table>\n",
       "<p>117809 rows × 3 columns</p>\n",
       "</div>"
      ],
      "text/plain": [
       "                                                role            search_field  \\\n",
       "0                 Lead Software Engineer - eCommerce  Marketing Technologist   \n",
       "6       Snr Key Account Technology Engineer II - ALD  Marketing Technologist   \n",
       "8          Salesforce Developer - US Delivery Center  Marketing Technologist   \n",
       "11                Lead Software Engineer - eCommerce  Marketing Technologist   \n",
       "12                 UI/UX Designer-Clearance Required  Marketing Technologist   \n",
       "...                                              ...                     ...   \n",
       "248004  Part-Time, IT: Software Developer Instructor    Mobile App Developer   \n",
       "248005                   Senior Salesforce Developer    Mobile App Developer   \n",
       "248006           Software Development Engineer - iOS    Mobile App Developer   \n",
       "248007            Senior Principal Software Engineer    Mobile App Developer   \n",
       "248008            Senior Principal Software Engineer    Mobile App Developer   \n",
       "\n",
       "                                        role_plus_details  \n",
       "0       lead software engineer  ecommerce our advanced...  \n",
       "6       snr key account technology engineer ii  ald re...  \n",
       "8       salesforce developer  us delivery center build...  \n",
       "11      lead software engineer  ecommerce our advanced...  \n",
       "12      ui ux designer clearance required we implement...  \n",
       "...                                                   ...  \n",
       "248004  part time it software developer instructor net...  \n",
       "248005  senior salesforce developer in addition we als...  \n",
       "248006  software development engineer  ios 3 years exp...  \n",
       "248007  senior principal software engineer mobile app ...  \n",
       "248008  senior principal software engineer mobile app ...  \n",
       "\n",
       "[117809 rows x 3 columns]"
      ]
     },
     "execution_count": 61,
     "metadata": {},
     "output_type": "execute_result"
    }
   ],
   "source": [
    "jobs['role_plus_details'] = jobs['role'] + ' ' + jobs['details']\n",
    "jobs['role_plus_details'] = format_text(jobs['role_plus_details'])\n",
    "jobs[['role', 'search_field', 'role_plus_details']]"
   ]
  },
  {
   "cell_type": "code",
   "execution_count": 62,
   "metadata": {},
   "outputs": [
    {
     "name": "stdout",
     "output_type": "stream",
     "text": [
      "front end developer integrate data from various back end services including api and databases translation of the ui ux design wireframes to actual code that will produce visual\n"
     ]
    },
    {
     "data": {
      "text/plain": [
       "array(['Front-End Developer'], dtype=object)"
      ]
     },
     "execution_count": 62,
     "metadata": {},
     "output_type": "execute_result"
    }
   ],
   "source": [
    "desc = jobs['role_plus_details'].iloc[23094]\n",
    "print(desc)\n",
    "desc = vectorizer.transform([desc])\n",
    "le.inverse_transform(n_bayes.predict(desc))"
   ]
  },
  {
   "cell_type": "code",
   "execution_count": 63,
   "metadata": {},
   "outputs": [],
   "source": [
    "descriptions = jobs['role_plus_details']\n",
    "descriptions = vectorizer.transform(descriptions)\n",
    "descriptions = n_bayes.predict(descriptions)\n",
    "jobs['predicted_role'] = le.inverse_transform(descriptions)"
   ]
  },
  {
   "cell_type": "code",
   "execution_count": 65,
   "metadata": {},
   "outputs": [
    {
     "name": "stdout",
     "output_type": "stream",
     "text": [
      "1. Software Engineer\n",
      "2. Software Developer\n",
      "3. Senior Software Engineer\n",
      "4. Business Analyst\n",
      "5. Full Stack Developer\n",
      "6. Web Developer\n",
      "7. Product Manager\n",
      "8. Systems Administrator\n",
      "9. Systems Engineer\n",
      "10. Project Manager\n"
     ]
    }
   ],
   "source": [
    "# top ten before label prediction\n",
    "for rank, role in enumerate(jobs['role'].value_counts()[:10].index):\n",
    "    print(f\"{rank+1}. {role}\")"
   ]
  },
  {
   "cell_type": "code",
   "execution_count": 66,
   "metadata": {},
   "outputs": [
    {
     "name": "stdout",
     "output_type": "stream",
     "text": [
      "1. Software Developer\n",
      "2. Systems Engineer\n",
      "3. Product Manager\n",
      "4. Data Analyst\n",
      "5. Systems Administrator\n",
      "6. Business Systems Analyst\n",
      "7. UX Designer\n",
      "8. Data Scientist\n",
      "9. Digital Marketing Manager\n",
      "10. Technical Account Manager\n"
     ]
    }
   ],
   "source": [
    "# top ten after label prediction\n",
    "for rank, role in enumerate(jobs['predicted_role'].value_counts()[:10].index):\n",
    "    print(f\"{rank+1}. {role}\")"
   ]
  },
  {
   "cell_type": "code",
   "execution_count": 72,
   "metadata": {},
   "outputs": [
    {
     "data": {
      "text/html": [
       "<div>\n",
       "<style scoped>\n",
       "    .dataframe tbody tr th:only-of-type {\n",
       "        vertical-align: middle;\n",
       "    }\n",
       "\n",
       "    .dataframe tbody tr th {\n",
       "        vertical-align: top;\n",
       "    }\n",
       "\n",
       "    .dataframe thead th {\n",
       "        text-align: right;\n",
       "    }\n",
       "</style>\n",
       "<table border=\"1\" class=\"dataframe\">\n",
       "  <thead>\n",
       "    <tr style=\"text-align: right;\">\n",
       "      <th></th>\n",
       "      <th>role</th>\n",
       "      <th>predicted_role</th>\n",
       "      <th>search_field</th>\n",
       "    </tr>\n",
       "  </thead>\n",
       "  <tbody>\n",
       "    <tr>\n",
       "      <th>134</th>\n",
       "      <td>Staff Software Engineer, Fullstack</td>\n",
       "      <td>Data Scientist</td>\n",
       "      <td>Marketing Technologist</td>\n",
       "    </tr>\n",
       "    <tr>\n",
       "      <th>396</th>\n",
       "      <td>Data Scientist</td>\n",
       "      <td>Data Scientist</td>\n",
       "      <td>Marketing Technologist</td>\n",
       "    </tr>\n",
       "    <tr>\n",
       "      <th>405</th>\n",
       "      <td>Data Scientist - Artificial Intelligence - Rad...</td>\n",
       "      <td>Data Scientist</td>\n",
       "      <td>Marketing Technologist</td>\n",
       "    </tr>\n",
       "    <tr>\n",
       "      <th>477</th>\n",
       "      <td>Data Analyst</td>\n",
       "      <td>Data Scientist</td>\n",
       "      <td>Marketing Technologist</td>\n",
       "    </tr>\n",
       "    <tr>\n",
       "      <th>499</th>\n",
       "      <td>Product Designer</td>\n",
       "      <td>Data Scientist</td>\n",
       "      <td>Marketing Technologist</td>\n",
       "    </tr>\n",
       "  </tbody>\n",
       "</table>\n",
       "</div>"
      ],
      "text/plain": [
       "                                                  role  predicted_role  \\\n",
       "134                 Staff Software Engineer, Fullstack  Data Scientist   \n",
       "396                                     Data Scientist  Data Scientist   \n",
       "405  Data Scientist - Artificial Intelligence - Rad...  Data Scientist   \n",
       "477                                       Data Analyst  Data Scientist   \n",
       "499                                   Product Designer  Data Scientist   \n",
       "\n",
       "               search_field  \n",
       "134  Marketing Technologist  \n",
       "396  Marketing Technologist  \n",
       "405  Marketing Technologist  \n",
       "477  Marketing Technologist  \n",
       "499  Marketing Technologist  "
      ]
     },
     "execution_count": 72,
     "metadata": {},
     "output_type": "execute_result"
    }
   ],
   "source": [
    "jobs[jobs['predicted_role'] == \"Data Scientist\"][['role', 'predicted_role','search_field']].head()"
   ]
  },
  {
   "cell_type": "code",
   "execution_count": 75,
   "metadata": {},
   "outputs": [
    {
     "data": {
      "text/html": [
       "<div>\n",
       "<style scoped>\n",
       "    .dataframe tbody tr th:only-of-type {\n",
       "        vertical-align: middle;\n",
       "    }\n",
       "\n",
       "    .dataframe tbody tr th {\n",
       "        vertical-align: top;\n",
       "    }\n",
       "\n",
       "    .dataframe thead th {\n",
       "        text-align: right;\n",
       "    }\n",
       "</style>\n",
       "<table border=\"1\" class=\"dataframe\">\n",
       "  <thead>\n",
       "    <tr style=\"text-align: right;\">\n",
       "      <th></th>\n",
       "      <th>role</th>\n",
       "      <th>predicted_role</th>\n",
       "      <th>search_field</th>\n",
       "    </tr>\n",
       "  </thead>\n",
       "  <tbody>\n",
       "    <tr>\n",
       "      <th>35</th>\n",
       "      <td>Front-end Web Developer</td>\n",
       "      <td>Front-End Developer</td>\n",
       "      <td>Marketing Technologist</td>\n",
       "    </tr>\n",
       "    <tr>\n",
       "      <th>656</th>\n",
       "      <td>Front End/UI Developer (110939)</td>\n",
       "      <td>Front-End Developer</td>\n",
       "      <td>Marketing Technologist</td>\n",
       "    </tr>\n",
       "    <tr>\n",
       "      <th>1146</th>\n",
       "      <td>Front End Solutions Developer</td>\n",
       "      <td>Front-End Developer</td>\n",
       "      <td>SEO Consultant</td>\n",
       "    </tr>\n",
       "    <tr>\n",
       "      <th>1304</th>\n",
       "      <td>Front End Web Developer</td>\n",
       "      <td>Front-End Developer</td>\n",
       "      <td>Web Analytics Developer</td>\n",
       "    </tr>\n",
       "    <tr>\n",
       "      <th>1306</th>\n",
       "      <td>Front-end Web Developer</td>\n",
       "      <td>Front-End Developer</td>\n",
       "      <td>Web Analytics Developer</td>\n",
       "    </tr>\n",
       "  </tbody>\n",
       "</table>\n",
       "</div>"
      ],
      "text/plain": [
       "                                 role       predicted_role  \\\n",
       "35            Front-end Web Developer  Front-End Developer   \n",
       "656   Front End/UI Developer (110939)  Front-End Developer   \n",
       "1146    Front End Solutions Developer  Front-End Developer   \n",
       "1304          Front End Web Developer  Front-End Developer   \n",
       "1306          Front-end Web Developer  Front-End Developer   \n",
       "\n",
       "                 search_field  \n",
       "35     Marketing Technologist  \n",
       "656    Marketing Technologist  \n",
       "1146           SEO Consultant  \n",
       "1304  Web Analytics Developer  \n",
       "1306  Web Analytics Developer  "
      ]
     },
     "execution_count": 75,
     "metadata": {},
     "output_type": "execute_result"
    }
   ],
   "source": [
    "jobs[jobs['predicted_role'] == \"Front-End Developer\"][['role', 'predicted_role','search_field']].head()"
   ]
  },
  {
   "cell_type": "code",
   "execution_count": 79,
   "metadata": {},
   "outputs": [
    {
     "data": {
      "text/html": [
       "<div>\n",
       "<style scoped>\n",
       "    .dataframe tbody tr th:only-of-type {\n",
       "        vertical-align: middle;\n",
       "    }\n",
       "\n",
       "    .dataframe tbody tr th {\n",
       "        vertical-align: top;\n",
       "    }\n",
       "\n",
       "    .dataframe thead th {\n",
       "        text-align: right;\n",
       "    }\n",
       "</style>\n",
       "<table border=\"1\" class=\"dataframe\">\n",
       "  <thead>\n",
       "    <tr style=\"text-align: right;\">\n",
       "      <th></th>\n",
       "      <th>role</th>\n",
       "      <th>predicted_role</th>\n",
       "      <th>search_field</th>\n",
       "    </tr>\n",
       "  </thead>\n",
       "  <tbody>\n",
       "    <tr>\n",
       "      <th>3378</th>\n",
       "      <td>Wealth Management Technology - Senior UI/UX De...</td>\n",
       "      <td>UI Designer</td>\n",
       "      <td>Web Analytics Developer</td>\n",
       "    </tr>\n",
       "    <tr>\n",
       "      <th>14788</th>\n",
       "      <td>UX Designer</td>\n",
       "      <td>UI Designer</td>\n",
       "      <td>Content Manager</td>\n",
       "    </tr>\n",
       "    <tr>\n",
       "      <th>35925</th>\n",
       "      <td>UI Designer</td>\n",
       "      <td>UI Designer</td>\n",
       "      <td>UX Designer</td>\n",
       "    </tr>\n",
       "    <tr>\n",
       "      <th>35947</th>\n",
       "      <td>Lead UX/UI Designer</td>\n",
       "      <td>UI Designer</td>\n",
       "      <td>UX Designer</td>\n",
       "    </tr>\n",
       "    <tr>\n",
       "      <th>35969</th>\n",
       "      <td>UI Designer</td>\n",
       "      <td>UI Designer</td>\n",
       "      <td>UX Designer</td>\n",
       "    </tr>\n",
       "    <tr>\n",
       "      <th>35992</th>\n",
       "      <td>Mobile Game UX/UI Designer</td>\n",
       "      <td>UI Designer</td>\n",
       "      <td>UX Designer</td>\n",
       "    </tr>\n",
       "    <tr>\n",
       "      <th>36047</th>\n",
       "      <td>UX/UI Designer</td>\n",
       "      <td>UI Designer</td>\n",
       "      <td>UX Designer</td>\n",
       "    </tr>\n",
       "    <tr>\n",
       "      <th>36223</th>\n",
       "      <td>UI Designer</td>\n",
       "      <td>UI Designer</td>\n",
       "      <td>UX Designer</td>\n",
       "    </tr>\n",
       "    <tr>\n",
       "      <th>36271</th>\n",
       "      <td>Web Designer</td>\n",
       "      <td>UI Designer</td>\n",
       "      <td>UX Designer</td>\n",
       "    </tr>\n",
       "    <tr>\n",
       "      <th>36373</th>\n",
       "      <td>Web Designer/Developer</td>\n",
       "      <td>UI Designer</td>\n",
       "      <td>UX Designer</td>\n",
       "    </tr>\n",
       "  </tbody>\n",
       "</table>\n",
       "</div>"
      ],
      "text/plain": [
       "                                                    role predicted_role  \\\n",
       "3378   Wealth Management Technology - Senior UI/UX De...    UI Designer   \n",
       "14788                                        UX Designer    UI Designer   \n",
       "35925                                        UI Designer    UI Designer   \n",
       "35947                                Lead UX/UI Designer    UI Designer   \n",
       "35969                                        UI Designer    UI Designer   \n",
       "35992                         Mobile Game UX/UI Designer    UI Designer   \n",
       "36047                                     UX/UI Designer    UI Designer   \n",
       "36223                                        UI Designer    UI Designer   \n",
       "36271                                       Web Designer    UI Designer   \n",
       "36373                             Web Designer/Developer    UI Designer   \n",
       "\n",
       "                  search_field  \n",
       "3378   Web Analytics Developer  \n",
       "14788          Content Manager  \n",
       "35925              UX Designer  \n",
       "35947              UX Designer  \n",
       "35969              UX Designer  \n",
       "35992              UX Designer  \n",
       "36047              UX Designer  \n",
       "36223              UX Designer  \n",
       "36271              UX Designer  \n",
       "36373              UX Designer  "
      ]
     },
     "execution_count": 79,
     "metadata": {},
     "output_type": "execute_result"
    }
   ],
   "source": [
    "jobs[jobs['predicted_role'] == \"UI Designer\"][['role', 'predicted_role','search_field']].head(10)"
   ]
  },
  {
   "cell_type": "code",
   "execution_count": 80,
   "metadata": {},
   "outputs": [
    {
     "data": {
      "text/html": [
       "<div>\n",
       "<style scoped>\n",
       "    .dataframe tbody tr th:only-of-type {\n",
       "        vertical-align: middle;\n",
       "    }\n",
       "\n",
       "    .dataframe tbody tr th {\n",
       "        vertical-align: top;\n",
       "    }\n",
       "\n",
       "    .dataframe thead th {\n",
       "        text-align: right;\n",
       "    }\n",
       "</style>\n",
       "<table border=\"1\" class=\"dataframe\">\n",
       "  <thead>\n",
       "    <tr style=\"text-align: right;\">\n",
       "      <th></th>\n",
       "      <th>role</th>\n",
       "      <th>predicted_role</th>\n",
       "      <th>search_field</th>\n",
       "    </tr>\n",
       "  </thead>\n",
       "  <tbody>\n",
       "    <tr>\n",
       "      <th>1522</th>\n",
       "      <td>Hybrid Mobile App Developer</td>\n",
       "      <td>Mobile App Developer</td>\n",
       "      <td>Web Analytics Developer</td>\n",
       "    </tr>\n",
       "    <tr>\n",
       "      <th>2024</th>\n",
       "      <td>MASTER MOBILE APP DEVELOPER</td>\n",
       "      <td>Mobile App Developer</td>\n",
       "      <td>Web Analytics Developer</td>\n",
       "    </tr>\n",
       "    <tr>\n",
       "      <th>47998</th>\n",
       "      <td>Mobile App Developer Intern</td>\n",
       "      <td>Mobile App Developer</td>\n",
       "      <td>Front-End Developer</td>\n",
       "    </tr>\n",
       "    <tr>\n",
       "      <th>48339</th>\n",
       "      <td>Mobile App Developer</td>\n",
       "      <td>Mobile App Developer</td>\n",
       "      <td>Front-End Developer</td>\n",
       "    </tr>\n",
       "    <tr>\n",
       "      <th>50058</th>\n",
       "      <td>App Developer</td>\n",
       "      <td>Mobile App Developer</td>\n",
       "      <td>Front-End Developer</td>\n",
       "    </tr>\n",
       "  </tbody>\n",
       "</table>\n",
       "</div>"
      ],
      "text/plain": [
       "                              role        predicted_role  \\\n",
       "1522   Hybrid Mobile App Developer  Mobile App Developer   \n",
       "2024   MASTER MOBILE APP DEVELOPER  Mobile App Developer   \n",
       "47998  Mobile App Developer Intern  Mobile App Developer   \n",
       "48339         Mobile App Developer  Mobile App Developer   \n",
       "50058                App Developer  Mobile App Developer   \n",
       "\n",
       "                  search_field  \n",
       "1522   Web Analytics Developer  \n",
       "2024   Web Analytics Developer  \n",
       "47998      Front-End Developer  \n",
       "48339      Front-End Developer  \n",
       "50058      Front-End Developer  "
      ]
     },
     "execution_count": 80,
     "metadata": {},
     "output_type": "execute_result"
    }
   ],
   "source": [
    "jobs[jobs['predicted_role'] == \"Mobile App Developer\"][['role', 'predicted_role','search_field']].head()"
   ]
  },
  {
   "cell_type": "markdown",
   "metadata": {},
   "source": [
    "As we can see from the examples above, the `search_field` column (created during scrape) did not always align with the actual role. After removing jobs that were not likely to be tech-related and categorizing them using the description snippets, we end up with data that, while not perfect, provides a far better representation of the job landscape."
   ]
  },
  {
   "cell_type": "code",
   "execution_count": 82,
   "metadata": {},
   "outputs": [],
   "source": [
    "jobs.to_csv('jobs_cleaned.csv', sep='|', index=False)"
   ]
  }
 ],
 "metadata": {
  "kernelspec": {
   "display_name": "Python (data-gov)",
   "language": "python",
   "name": "data-gov"
  },
  "language_info": {
   "codemirror_mode": {
    "name": "ipython",
    "version": 3
   },
   "file_extension": ".py",
   "mimetype": "text/x-python",
   "name": "python",
   "nbconvert_exporter": "python",
   "pygments_lexer": "ipython3",
   "version": "3.7.0"
  }
 },
 "nbformat": 4,
 "nbformat_minor": 4
}
