{
 "cells": [
  {
   "cell_type": "markdown",
   "metadata": {},
   "source": [
    "## Questions\n",
    "The data was completely collected on 2020-08-05\n",
    "\n",
    "What are the questions that I want to answer, given the data that I now have?\n",
    "- How many jobs are remote?\n",
    "- For jobs with pay range information, what is the average floor for each job category? Ceiling?\n",
    "- Is there a tendency for a particular job to be remote more than another?\n",
    "- What are the top 20 jobs that are being sought after?\n",
    "- When you remove very old posts (30+ days) how much do these figures change?\n",
    "    - what could be the reason for some of the older jobs hanging out on the job boards?\n",
    "- What are the top 20 companies really pushing to hire?\n",
    "- What are the top 20 locations that are hiring? Does it matter?\n",
    "\n",
    "This could be structured in the typical \"who, what, where, when\"\n",
    "- **Who** -> who are the companies that are recruiting the most?\n",
    "- **What** -> what are the jobs that are most sought after\n",
    "- **Where** -> what states are hiring the most people (with the understanding that a lot of work is remote, but this could change if restrictions begin to lift)\n",
    "- **When** -> are there less newer jobs (7 days or newer). Does it matter?\n",
    "\n",
    "### Extra \n",
    "- how many details are included in the job description snippet?\n",
    "- can we use LDA to extract the most commonly desired topics?"
   ]
  },
  {
   "cell_type": "code",
   "execution_count": 173,
   "metadata": {},
   "outputs": [],
   "source": [
    "import pandas as pd\n",
    "import numpy as np\n",
    "import matplotlib.pyplot as plt\n",
    "\n",
    "\n",
    "from sklearn.neighbors import KNeighborsClassifier\n",
    "from sklearn.naive_bayes import MultinomialNB\n",
    "from sklearn.feature_extraction.text import TfidfVectorizer\n",
    "\n",
    "plt.style.use('fivethirtyeight')"
   ]
  },
  {
   "cell_type": "code",
   "execution_count": 2,
   "metadata": {},
   "outputs": [
    {
     "data": {
      "text/html": [
       "<div>\n",
       "<style scoped>\n",
       "    .dataframe tbody tr th:only-of-type {\n",
       "        vertical-align: middle;\n",
       "    }\n",
       "\n",
       "    .dataframe tbody tr th {\n",
       "        vertical-align: top;\n",
       "    }\n",
       "\n",
       "    .dataframe thead th {\n",
       "        text-align: right;\n",
       "    }\n",
       "</style>\n",
       "<table border=\"1\" class=\"dataframe\">\n",
       "  <thead>\n",
       "    <tr style=\"text-align: right;\">\n",
       "      <th></th>\n",
       "      <th>role</th>\n",
       "      <th>company</th>\n",
       "      <th>location</th>\n",
       "      <th>pay</th>\n",
       "      <th>remote</th>\n",
       "      <th>details</th>\n",
       "      <th>job_post_age</th>\n",
       "      <th>search_field</th>\n",
       "    </tr>\n",
       "  </thead>\n",
       "  <tbody>\n",
       "    <tr>\n",
       "      <th>0</th>\n",
       "      <td>Lead Software Engineer - eCommerce</td>\n",
       "      <td>COVETRUS INC</td>\n",
       "      <td>Birmingham, AL 35203</td>\n",
       "      <td>NaN</td>\n",
       "      <td>0</td>\n",
       "      <td>Our advanced web tools, client marketing progr...</td>\n",
       "      <td>30+ days ago</td>\n",
       "      <td>Marketing Technologist</td>\n",
       "    </tr>\n",
       "    <tr>\n",
       "      <th>1</th>\n",
       "      <td>Associate Director of UAA Student Web Experience</td>\n",
       "      <td>University of Alaska</td>\n",
       "      <td>Anchorage, AK 99508 (Rogers Park area)</td>\n",
       "      <td>NaN</td>\n",
       "      <td>0</td>\n",
       "      <td>Produces clear documentation for marketing pag...</td>\n",
       "      <td>30+ days ago</td>\n",
       "      <td>Marketing Technologist</td>\n",
       "    </tr>\n",
       "    <tr>\n",
       "      <th>2</th>\n",
       "      <td>Sales Support, Coronary Clinical Specialist - ...</td>\n",
       "      <td>Philips</td>\n",
       "      <td>Tucson, AZ</td>\n",
       "      <td>NaN</td>\n",
       "      <td>0</td>\n",
       "      <td>Supports marketing related trade shows and ven...</td>\n",
       "      <td>7 days ago</td>\n",
       "      <td>Marketing Technologist</td>\n",
       "    </tr>\n",
       "    <tr>\n",
       "      <th>3</th>\n",
       "      <td>Laboratory Operations Manager</td>\n",
       "      <td>Lighthouse Lab Services</td>\n",
       "      <td>Phoenix, AZ 85016 (Camelback East area)</td>\n",
       "      <td>NaN</td>\n",
       "      <td>0</td>\n",
       "      <td>Work with hospital strategy department and mar...</td>\n",
       "      <td>13 days ago</td>\n",
       "      <td>Marketing Technologist</td>\n",
       "    </tr>\n",
       "    <tr>\n",
       "      <th>4</th>\n",
       "      <td>Snr Key Account Technology Engineer I - EPI</td>\n",
       "      <td>ASM</td>\n",
       "      <td>Phoenix, AZ</td>\n",
       "      <td>NaN</td>\n",
       "      <td>0</td>\n",
       "      <td>Related work experience can include process en...</td>\n",
       "      <td>30+ days ago</td>\n",
       "      <td>Marketing Technologist</td>\n",
       "    </tr>\n",
       "  </tbody>\n",
       "</table>\n",
       "</div>"
      ],
      "text/plain": [
       "                                                role                  company  \\\n",
       "0                 Lead Software Engineer - eCommerce             COVETRUS INC   \n",
       "1   Associate Director of UAA Student Web Experience     University of Alaska   \n",
       "2  Sales Support, Coronary Clinical Specialist - ...                  Philips   \n",
       "3                      Laboratory Operations Manager  Lighthouse Lab Services   \n",
       "4        Snr Key Account Technology Engineer I - EPI                      ASM   \n",
       "\n",
       "                                  location  pay  remote  \\\n",
       "0                     Birmingham, AL 35203  NaN       0   \n",
       "1   Anchorage, AK 99508 (Rogers Park area)  NaN       0   \n",
       "2                               Tucson, AZ  NaN       0   \n",
       "3  Phoenix, AZ 85016 (Camelback East area)  NaN       0   \n",
       "4                              Phoenix, AZ  NaN       0   \n",
       "\n",
       "                                             details  job_post_age  \\\n",
       "0  Our advanced web tools, client marketing progr...  30+ days ago   \n",
       "1  Produces clear documentation for marketing pag...  30+ days ago   \n",
       "2  Supports marketing related trade shows and ven...    7 days ago   \n",
       "3  Work with hospital strategy department and mar...   13 days ago   \n",
       "4  Related work experience can include process en...  30+ days ago   \n",
       "\n",
       "             search_field  \n",
       "0  Marketing Technologist  \n",
       "1  Marketing Technologist  \n",
       "2  Marketing Technologist  \n",
       "3  Marketing Technologist  \n",
       "4  Marketing Technologist  "
      ]
     },
     "execution_count": 2,
     "metadata": {},
     "output_type": "execute_result"
    }
   ],
   "source": [
    "jobs = pd.read_csv('indeed_jobs.csv', sep='|')\n",
    "jobs.head()"
   ]
  },
  {
   "cell_type": "code",
   "execution_count": 3,
   "metadata": {},
   "outputs": [
    {
     "data": {
      "text/plain": [
       "(248009, 8)"
      ]
     },
     "execution_count": 3,
     "metadata": {},
     "output_type": "execute_result"
    }
   ],
   "source": [
    "jobs.shape"
   ]
  },
  {
   "cell_type": "code",
   "execution_count": 7,
   "metadata": {},
   "outputs": [
    {
     "name": "stdout",
     "output_type": "stream",
     "text": [
      "(181559, 8)\n"
     ]
    }
   ],
   "source": [
    "# There's a good chance there will be duplicates\n",
    "jobs = jobs.drop_duplicates(subset=('role', 'company', 'location'))\n",
    "print(jobs.shape)"
   ]
  },
  {
   "cell_type": "markdown",
   "metadata": {},
   "source": [
    "### Clean Data\n",
    "\n",
    "Because I would like to use the job post age to understand the jobs in the context of removal of older jobs postings, I need to turn the column to integers."
   ]
  },
  {
   "cell_type": "code",
   "execution_count": 8,
   "metadata": {},
   "outputs": [
    {
     "data": {
      "text/plain": [
       "30+ days ago    88895\n",
       "0                8226\n",
       "1 day ago        7390\n",
       "5 days ago       5955\n",
       "6 days ago       5757\n",
       "7 days ago       5422\n",
       "2 days ago       4926\n",
       "8 days ago       4840\n",
       "12 days ago      3945\n",
       "13 days ago      3879\n",
       "14 days ago      3613\n",
       "15 days ago      3337\n",
       "9 days ago       3313\n",
       "20 days ago      2907\n",
       "21 days ago      2903\n",
       "19 days ago      2869\n",
       "22 days ago      2657\n",
       "28 days ago      2456\n",
       "26 days ago      2400\n",
       "16 days ago      2379\n",
       "27 days ago      2298\n",
       "4 days ago       2228\n",
       "23 days ago      2179\n",
       "29 days ago      2142\n",
       "11 days ago      1346\n",
       "18 days ago      1024\n",
       "25 days ago       858\n",
       "3 days ago        544\n",
       "10 days ago       359\n",
       "17 days ago       290\n",
       "24 days ago       222\n",
       "Name: job_post_age, dtype: int64"
      ]
     },
     "execution_count": 8,
     "metadata": {},
     "output_type": "execute_result"
    }
   ],
   "source": [
    "jobs.loc[(jobs['job_post_age'] == 'Just posted') |\n",
    "         (jobs['job_post_age'] == 'Today'), 'job_post_age'] = '0'\n",
    "jobs['job_post_age'].value_counts()"
   ]
  },
  {
   "cell_type": "code",
   "execution_count": 9,
   "metadata": {},
   "outputs": [
    {
     "data": {
      "text/plain": [
       "role            object\n",
       "company         object\n",
       "location        object\n",
       "pay             object\n",
       "remote           int64\n",
       "details         object\n",
       "job_post_age     int64\n",
       "search_field    object\n",
       "dtype: object"
      ]
     },
     "execution_count": 9,
     "metadata": {},
     "output_type": "execute_result"
    }
   ],
   "source": [
    "jobs['job_post_age'] = jobs['job_post_age'].str.replace('[^0-9]', '')\n",
    "jobs['job_post_age'] = jobs['job_post_age'].astype(int)\n",
    "jobs.dtypes"
   ]
  },
  {
   "cell_type": "markdown",
   "metadata": {},
   "source": [
    "Before removing old jobs, what does the distribution of remote and non remote jobs look like? A '1' indicates a remote opportunity."
   ]
  },
  {
   "cell_type": "code",
   "execution_count": 10,
   "metadata": {},
   "outputs": [],
   "source": [
    "jobs['remote'] = jobs['remote'].astype(int)"
   ]
  },
  {
   "cell_type": "code",
   "execution_count": 11,
   "metadata": {},
   "outputs": [
    {
     "name": "stdout",
     "output_type": "stream",
     "text": [
      "0    0.89176\n",
      "1    0.10824\n",
      "Name: remote, dtype: float64\n"
     ]
    },
    {
     "data": {
      "image/png": "[encoded data removed]",
      "text/plain": [
       "<Figure size 432x288 with 1 Axes>"
      ]
     },
     "metadata": {},
     "output_type": "display_data"
    }
   ],
   "source": [
    "print(jobs['remote'].value_counts(normalize=True))\n",
    "jobs['remote'].plot.hist();"
   ]
  },
  {
   "cell_type": "code",
   "execution_count": 12,
   "metadata": {},
   "outputs": [
    {
     "name": "stdout",
     "output_type": "stream",
     "text": [
      "0    0.859719\n",
      "1    0.140281\n",
      "Name: remote, dtype: float64\n"
     ]
    },
    {
     "data": {
      "image/png": "[encoded data removed]",
      "text/plain": [
       "<Figure size 432x288 with 1 Axes>"
      ]
     },
     "metadata": {},
     "output_type": "display_data"
    }
   ],
   "source": [
    "recent_jobs = jobs[jobs['job_post_age'] < 30]\n",
    "print(recent_jobs['remote'].value_counts(normalize=True))\n",
    "recent_jobs['remote'].plot.hist(title=\"Remote Jobs Within This Month\");"
   ]
  },
  {
   "cell_type": "markdown",
   "metadata": {},
   "source": [
    "What about jobs within a week of collection?"
   ]
  },
  {
   "cell_type": "code",
   "execution_count": 13,
   "metadata": {},
   "outputs": [
    {
     "name": "stdout",
     "output_type": "stream",
     "text": [
      "0    0.85359\n",
      "1    0.14641\n",
      "Name: remote, dtype: float64\n"
     ]
    },
    {
     "data": {
      "image/png": "[encoded data removed]",
      "text/plain": [
       "<Figure size 432x288 with 1 Axes>"
      ]
     },
     "metadata": {},
     "output_type": "display_data"
    }
   ],
   "source": [
    "recent_week = jobs[jobs['job_post_age'] <= 7\n",
    "print(recent_week['remote'].value_counts(normalize=True))\n",
    "recent_week['remote'].plot.hist(title=\"Remote, Within 7 Days of Data Collection\");"
   ]
  },
  {
   "cell_type": "markdown",
   "metadata": {},
   "source": [
    "Roughly the same proportion of job opportunities are marked as remote on Indeed as I progressed from looking at all jobs to jobs posted within a week of data collection. It looks like remote jobs are either still not the norm, or it is not typical yet for a job on indeed to explicitly label itself as a remote possibility. Also, since it's the first time I've looked at this data, I have no means of gauging the change from not-remote to remote job opportunities."
   ]
  },
  {
   "cell_type": "markdown",
   "metadata": {},
   "source": [
    "### Pay Range Columns\n",
    "It would be ideal to create pay range columns for the individual pay ranges ('an hour', 'a month', 'a year'. excluding the smallest groups) in order to create two standardized yearly pay columns like so:\n",
    "\n",
    "|pay_floor|pay_ceiling|\n",
    "|---------|-----------|\n",
    "|50000    |90000      |\n",
    "|75000    |125345     |"
   ]
  },
  {
   "cell_type": "code",
   "execution_count": 14,
   "metadata": {},
   "outputs": [
    {
     "data": {
      "text/html": [
       "<div>\n",
       "<style scoped>\n",
       "    .dataframe tbody tr th:only-of-type {\n",
       "        vertical-align: middle;\n",
       "    }\n",
       "\n",
       "    .dataframe tbody tr th {\n",
       "        vertical-align: top;\n",
       "    }\n",
       "\n",
       "    .dataframe thead th {\n",
       "        text-align: right;\n",
       "    }\n",
       "</style>\n",
       "<table border=\"1\" class=\"dataframe\">\n",
       "  <thead>\n",
       "    <tr style=\"text-align: right;\">\n",
       "      <th></th>\n",
       "      <th>role</th>\n",
       "      <th>company</th>\n",
       "      <th>location</th>\n",
       "      <th>pay</th>\n",
       "      <th>remote</th>\n",
       "      <th>details</th>\n",
       "      <th>job_post_age</th>\n",
       "      <th>search_field</th>\n",
       "    </tr>\n",
       "  </thead>\n",
       "  <tbody>\n",
       "    <tr>\n",
       "      <th>0</th>\n",
       "      <td>Lead Software Engineer - eCommerce</td>\n",
       "      <td>COVETRUS INC</td>\n",
       "      <td>Birmingham, AL 35203</td>\n",
       "      <td>N/A</td>\n",
       "      <td>0</td>\n",
       "      <td>Our advanced web tools, client marketing progr...</td>\n",
       "      <td>30</td>\n",
       "      <td>Marketing Technologist</td>\n",
       "    </tr>\n",
       "    <tr>\n",
       "      <th>1</th>\n",
       "      <td>Associate Director of UAA Student Web Experience</td>\n",
       "      <td>University of Alaska</td>\n",
       "      <td>Anchorage, AK 99508 (Rogers Park area)</td>\n",
       "      <td>N/A</td>\n",
       "      <td>0</td>\n",
       "      <td>Produces clear documentation for marketing pag...</td>\n",
       "      <td>30</td>\n",
       "      <td>Marketing Technologist</td>\n",
       "    </tr>\n",
       "    <tr>\n",
       "      <th>2</th>\n",
       "      <td>Sales Support, Coronary Clinical Specialist - ...</td>\n",
       "      <td>Philips</td>\n",
       "      <td>Tucson, AZ</td>\n",
       "      <td>N/A</td>\n",
       "      <td>0</td>\n",
       "      <td>Supports marketing related trade shows and ven...</td>\n",
       "      <td>7</td>\n",
       "      <td>Marketing Technologist</td>\n",
       "    </tr>\n",
       "    <tr>\n",
       "      <th>3</th>\n",
       "      <td>Laboratory Operations Manager</td>\n",
       "      <td>Lighthouse Lab Services</td>\n",
       "      <td>Phoenix, AZ 85016 (Camelback East area)</td>\n",
       "      <td>N/A</td>\n",
       "      <td>0</td>\n",
       "      <td>Work with hospital strategy department and mar...</td>\n",
       "      <td>13</td>\n",
       "      <td>Marketing Technologist</td>\n",
       "    </tr>\n",
       "    <tr>\n",
       "      <th>4</th>\n",
       "      <td>Snr Key Account Technology Engineer I - EPI</td>\n",
       "      <td>ASM</td>\n",
       "      <td>Phoenix, AZ</td>\n",
       "      <td>N/A</td>\n",
       "      <td>0</td>\n",
       "      <td>Related work experience can include process en...</td>\n",
       "      <td>30</td>\n",
       "      <td>Marketing Technologist</td>\n",
       "    </tr>\n",
       "  </tbody>\n",
       "</table>\n",
       "</div>"
      ],
      "text/plain": [
       "                                                role                  company  \\\n",
       "0                 Lead Software Engineer - eCommerce             COVETRUS INC   \n",
       "1   Associate Director of UAA Student Web Experience     University of Alaska   \n",
       "2  Sales Support, Coronary Clinical Specialist - ...                  Philips   \n",
       "3                      Laboratory Operations Manager  Lighthouse Lab Services   \n",
       "4        Snr Key Account Technology Engineer I - EPI                      ASM   \n",
       "\n",
       "                                  location  pay  remote  \\\n",
       "0                     Birmingham, AL 35203  N/A       0   \n",
       "1   Anchorage, AK 99508 (Rogers Park area)  N/A       0   \n",
       "2                               Tucson, AZ  N/A       0   \n",
       "3  Phoenix, AZ 85016 (Camelback East area)  N/A       0   \n",
       "4                              Phoenix, AZ  N/A       0   \n",
       "\n",
       "                                             details  job_post_age  \\\n",
       "0  Our advanced web tools, client marketing progr...            30   \n",
       "1  Produces clear documentation for marketing pag...            30   \n",
       "2  Supports marketing related trade shows and ven...             7   \n",
       "3  Work with hospital strategy department and mar...            13   \n",
       "4  Related work experience can include process en...            30   \n",
       "\n",
       "             search_field  \n",
       "0  Marketing Technologist  \n",
       "1  Marketing Technologist  \n",
       "2  Marketing Technologist  \n",
       "3  Marketing Technologist  \n",
       "4  Marketing Technologist  "
      ]
     },
     "execution_count": 14,
     "metadata": {},
     "output_type": "execute_result"
    }
   ],
   "source": [
    "jobs['pay'] = jobs['pay'].fillna('N/A')\n",
    "jobs.head()"
   ]
  },
  {
   "cell_type": "code",
   "execution_count": 15,
   "metadata": {},
   "outputs": [],
   "source": [
    "jobs['pay'] = jobs['pay'].str.replace('$', '')\n",
    "jobs['pay'] = jobs['pay'].str.replace(',', '')"
   ]
  },
  {
   "cell_type": "markdown",
   "metadata": {},
   "source": [
    "In order to convert the ranges to floor and ceiling, i need to find out how many different categories of pay range there is (i.e. \"a year\", \"a week\", \"an hour\", etc...)"
   ]
  },
  {
   "cell_type": "code",
   "execution_count": 16,
   "metadata": {},
   "outputs": [
    {
     "name": "stderr",
     "output_type": "stream",
     "text": [
      "/home/jose/miniconda3/envs/unit2/lib/python3.7/site-packages/pandas/core/strings.py:1952: UserWarning: This pattern has match groups. To actually get the groups, use str.extract.\n",
      "  return func(self, *args, **kwargs)\n"
     ]
    },
    {
     "data": {
      "text/plain": [
       "ayear     12675\n",
       "anhour     5545\n",
       "amonth      743\n",
       "aweek        51\n",
       "aday         22\n",
       "Name: pay, dtype: int64"
      ]
     },
     "execution_count": 16,
     "metadata": {},
     "output_type": "execute_result"
    }
   ],
   "source": [
    "jobs[jobs['pay'].str.contains('\\d+\\s\\-\\s\\d+\\s(a|an)\\s+.*')]['pay'].str.replace('[^a-zA-z]', '').value_counts()"
   ]
  },
  {
   "cell_type": "markdown",
   "metadata": {},
   "source": [
    "For practicality's sake, I'll only convert ranges with \"a year\", \"a month\", or \"an hour\"."
   ]
  },
  {
   "cell_type": "code",
   "execution_count": 17,
   "metadata": {},
   "outputs": [],
   "source": [
    "jobs['yearly'] = jobs['pay']\n",
    "\n",
    "# convert anything in the yearly column that isnt yearly to 'N/A'\n",
    "jobs.loc[~jobs['yearly'].str.contains('a year'), 'yearly'] = 'N/A' \n",
    "\n",
    "# remove 'a year' from yearly column\n",
    "jobs['yearly'] = jobs['yearly'].str.replace('[^0-9\\-]', '')\n",
    "\n",
    "# create floor pay column\n",
    "jobs['floor_pay_yearly'] = jobs['yearly'].str.replace('\\-\\d+', '')\n",
    "jobs.loc[jobs['floor_pay_yearly'] == '', 'floor_pay_yearly'] = np.nan\n",
    "jobs['floor_pay_yearly'] = jobs['floor_pay_yearly'].astype(float)\n",
    "\n",
    "# create ceiling pay column\n",
    "jobs['ceiling_pay_yearly'] = jobs['yearly'].str.replace('\\d+\\-', '')\n",
    "jobs.loc[jobs['ceiling_pay_yearly'] == '', 'ceiling_pay_yearly'] = np.nan\n",
    "jobs['ceiling_pay_yearly'] = jobs['ceiling_pay_yearly'].astype(float)"
   ]
  },
  {
   "cell_type": "code",
   "execution_count": 18,
   "metadata": {},
   "outputs": [],
   "source": [
    "# repeat the process with monthly pay ranges\n",
    "jobs['monthly'] = jobs['pay']\n",
    "\n",
    "# anything in the new column that isn't part of the category becomes 'N/A'\n",
    "jobs.loc[~jobs['monthly'].str.contains('a month'), 'monthly'] = 'N/A'\n",
    "\n",
    "# remove 'a month' from column\n",
    "jobs['monthly'] = jobs['monthly'].str.replace('[^0-9\\-]', '')\n",
    "jobs.loc[jobs['monthly'] == '', 'monthly'] = np.nan\n",
    "\n",
    "# insert floor and ceiling into the corresponding yearly column\n",
    "jobs.loc[jobs['monthly'].notnull(), 'floor_pay_yearly'] = (jobs['monthly']\n",
    "                                                       .str.replace('\\-\\d+', '')\n",
    "                                                       .astype(float) * 12)\n",
    "jobs.loc[jobs['monthly'].notnull(), 'ceiling_pay_yearly'] = (jobs['monthly']\n",
    "                                                            .str.replace('\\d+\\-', '')\n",
    "                                                            .astype(float) * 12)"
   ]
  },
  {
   "cell_type": "markdown",
   "metadata": {},
   "source": [
    "Here, I'm multiplying hourly rates by 2 and then by 1000. This is operating under the rough assumption that if a person makes 70,000 dollars a year, they are working 40 hours a week for ~52 weeks out of the year:\n",
    "\n",
    "$(\\$35\\ per\\ hour) \\times (40\\ hours\\ per\\ week) \\times (52\\ weeks) \\approx \\$70,000\\ a\\ year$"
   ]
  },
  {
   "cell_type": "code",
   "execution_count": 19,
   "metadata": {},
   "outputs": [],
   "source": [
    "# repeat the process with hourly pay ranges\n",
    "jobs['hourly'] = jobs['pay']\n",
    "\n",
    "# anything in the new column that isn't part of the category becomes 'N/A'\n",
    "jobs.loc[~jobs['hourly'].str.contains('an hour'), 'hourly'] = 'N/A'\n",
    "\n",
    "# remove 'an hour' from new column\n",
    "jobs['hourly'] = jobs['hourly'].str.replace('[^0-9\\-\\.]', '')\n",
    "jobs.loc[jobs['hourly'] == '', 'hourly'] = np.nan\n",
    "\n",
    "# insert floor and ceiling into the corresponding yearly column\n",
    "jobs.loc[jobs['hourly'].notnull(), 'floor_pay_yearly'] = ((jobs['hourly']\n",
    "                                                       .str.replace('\\-\\d+\\.*\\d*', '')\n",
    "                                                       .astype(float) * 2) * 1000)\n",
    "jobs.loc[jobs['hourly'].notnull(), 'ceiling_pay_yearly'] = ((jobs['hourly']\n",
    "                                                            .str.replace('\\d+\\.*\\d*\\-', '')\n",
    "                                                            .astype(float) * 2) * 1000)"
   ]
  },
  {
   "cell_type": "code",
   "execution_count": 20,
   "metadata": {},
   "outputs": [
    {
     "name": "stdout",
     "output_type": "stream",
     "text": [
      "Average Pay Floor: $64984.29\n",
      "Average Pay Ceiling: $82665.46\n"
     ]
    }
   ],
   "source": [
    "print(f\"Average Pay Floor: ${round(jobs['floor_pay_yearly'].mean(), 2)}\")\n",
    "print(f\"Average Pay Ceiling: ${round(jobs['ceiling_pay_yearly'].mean(), 2)}\")"
   ]
  },
  {
   "cell_type": "markdown",
   "metadata": {},
   "source": [
    "Before moving on, I'd like to make sure there aren't any obvious outliers/potential mistakes"
   ]
  },
  {
   "cell_type": "code",
   "execution_count": 21,
   "metadata": {},
   "outputs": [
    {
     "data": {
      "text/plain": [
       "count     25601.000000\n",
       "mean      64984.293153\n",
       "std       34347.985919\n",
       "min        9600.000000\n",
       "25%       40000.000000\n",
       "50%       58200.000000\n",
       "75%       84360.000000\n",
       "max      500000.000000\n",
       "Name: floor_pay_yearly, dtype: float64"
      ]
     },
     "execution_count": 21,
     "metadata": {},
     "output_type": "execute_result"
    }
   ],
   "source": [
    "jobs['floor_pay_yearly'].describe()"
   ]
  },
  {
   "cell_type": "markdown",
   "metadata": {},
   "source": [
    "A max yearly pay of 500k sounds like a mistake or influence from outliers, and so does a minimum of 9600 a year. I'll consider anything over 200k or under 30k suspect."
   ]
  },
  {
   "cell_type": "code",
   "execution_count": 22,
   "metadata": {},
   "outputs": [
    {
     "data": {
      "image/png": "[encoded data removed]",
      "text/plain": [
       "<Figure size 432x288 with 1 Axes>"
      ]
     },
     "metadata": {},
     "output_type": "display_data"
    }
   ],
   "source": [
    "jobs[['floor_pay_yearly']][jobs['floor_pay_yearly'] >= 200000].plot.box();"
   ]
  },
  {
   "cell_type": "code",
   "execution_count": 23,
   "metadata": {},
   "outputs": [
    {
     "data": {
      "text/html": [
       "<div>\n",
       "<style scoped>\n",
       "    .dataframe tbody tr th:only-of-type {\n",
       "        vertical-align: middle;\n",
       "    }\n",
       "\n",
       "    .dataframe tbody tr th {\n",
       "        vertical-align: top;\n",
       "    }\n",
       "\n",
       "    .dataframe thead th {\n",
       "        text-align: right;\n",
       "    }\n",
       "</style>\n",
       "<table border=\"1\" class=\"dataframe\">\n",
       "  <thead>\n",
       "    <tr style=\"text-align: right;\">\n",
       "      <th></th>\n",
       "      <th>role</th>\n",
       "      <th>pay</th>\n",
       "      <th>details</th>\n",
       "      <th>floor_pay_yearly</th>\n",
       "    </tr>\n",
       "  </thead>\n",
       "  <tbody>\n",
       "    <tr>\n",
       "      <th>218496</th>\n",
       "      <td>Senior Customer Onboarding Manager, Enterprise</td>\n",
       "      <td>From 250000 a year</td>\n",
       "      <td>Manage both technical and relationship escalat...</td>\n",
       "      <td>250000.0</td>\n",
       "    </tr>\n",
       "    <tr>\n",
       "      <th>220292</th>\n",
       "      <td>Sales Representative / Key Account Manager</td>\n",
       "      <td>From 200000 a year</td>\n",
       "      <td>Our target candidates will have previous exper...</td>\n",
       "      <td>200000.0</td>\n",
       "    </tr>\n",
       "    <tr>\n",
       "      <th>228418</th>\n",
       "      <td>Physician (Critical Care Noctensivist)</td>\n",
       "      <td>300000 - 330000 a year</td>\n",
       "      <td>Background checks and security clearance.Subje...</td>\n",
       "      <td>300000.0</td>\n",
       "    </tr>\n",
       "    <tr>\n",
       "      <th>232511</th>\n",
       "      <td>Physician - Community Living Center</td>\n",
       "      <td>210000 - 243000 a year</td>\n",
       "      <td>Background checks and security clearance.Subje...</td>\n",
       "      <td>210000.0</td>\n",
       "    </tr>\n",
       "    <tr>\n",
       "      <th>232704</th>\n",
       "      <td>Physician (Neurologist)</td>\n",
       "      <td>200000 - 225000 a year</td>\n",
       "      <td>Background checks and security clearance.Subje...</td>\n",
       "      <td>200000.0</td>\n",
       "    </tr>\n",
       "    <tr>\n",
       "      <th>235319</th>\n",
       "      <td>Physician (Endocrinology)</td>\n",
       "      <td>230000 - 260000 a year</td>\n",
       "      <td>Background checks and security clearance.Subje...</td>\n",
       "      <td>230000.0</td>\n",
       "    </tr>\n",
       "    <tr>\n",
       "      <th>241155</th>\n",
       "      <td>Staff Diagnostic Radiologist</td>\n",
       "      <td>300000 - 400000 a year</td>\n",
       "      <td>Background checks and security clearance.Subje...</td>\n",
       "      <td>300000.0</td>\n",
       "    </tr>\n",
       "    <tr>\n",
       "      <th>241419</th>\n",
       "      <td>Physician (Emergency Medicine)</td>\n",
       "      <td>250000 - 348000 a year</td>\n",
       "      <td>Background checks and security clearance.Subje...</td>\n",
       "      <td>250000.0</td>\n",
       "    </tr>\n",
       "  </tbody>\n",
       "</table>\n",
       "</div>"
      ],
      "text/plain": [
       "                                                  role  \\\n",
       "218496  Senior Customer Onboarding Manager, Enterprise   \n",
       "220292      Sales Representative / Key Account Manager   \n",
       "228418          Physician (Critical Care Noctensivist)   \n",
       "232511             Physician - Community Living Center   \n",
       "232704                         Physician (Neurologist)   \n",
       "235319                       Physician (Endocrinology)   \n",
       "241155                    Staff Diagnostic Radiologist   \n",
       "241419                  Physician (Emergency Medicine)   \n",
       "\n",
       "                           pay  \\\n",
       "218496      From 250000 a year   \n",
       "220292      From 200000 a year   \n",
       "228418  300000 - 330000 a year   \n",
       "232511  210000 - 243000 a year   \n",
       "232704  200000 - 225000 a year   \n",
       "235319  230000 - 260000 a year   \n",
       "241155  300000 - 400000 a year   \n",
       "241419  250000 - 348000 a year   \n",
       "\n",
       "                                                  details  floor_pay_yearly  \n",
       "218496  Manage both technical and relationship escalat...          250000.0  \n",
       "220292  Our target candidates will have previous exper...          200000.0  \n",
       "228418  Background checks and security clearance.Subje...          300000.0  \n",
       "232511  Background checks and security clearance.Subje...          210000.0  \n",
       "232704  Background checks and security clearance.Subje...          200000.0  \n",
       "235319  Background checks and security clearance.Subje...          230000.0  \n",
       "241155  Background checks and security clearance.Subje...          300000.0  \n",
       "241419  Background checks and security clearance.Subje...          250000.0  "
      ]
     },
     "execution_count": 23,
     "metadata": {},
     "output_type": "execute_result"
    }
   ],
   "source": [
    "jobs[['role', 'pay', 'details', 'floor_pay_yearly']][jobs['floor_pay_yearly'] >= 200000][100:150]"
   ]
  },
  {
   "cell_type": "markdown",
   "metadata": {},
   "source": [
    "Upon closer inspection, it seems that some medical industry jobs sneaked into the search. Although they aren't many, they don't fit into the analysis and some of them are paid well enough to be outliers. Some are also sales jobs which do not apply.They will be removed."
   ]
  },
  {
   "cell_type": "code",
   "execution_count": 24,
   "metadata": {},
   "outputs": [],
   "source": [
    "jobs = jobs.drop(jobs[jobs['role']\n",
    "                 .str.contains(\n",
    "                     'Physician|Radiologist|Psychiatrist|Medical Director|Sales[^Salesforce]'\n",
    "                 )].index)"
   ]
  },
  {
   "cell_type": "code",
   "execution_count": 25,
   "metadata": {},
   "outputs": [
    {
     "data": {
      "text/html": [
       "<div>\n",
       "<style scoped>\n",
       "    .dataframe tbody tr th:only-of-type {\n",
       "        vertical-align: middle;\n",
       "    }\n",
       "\n",
       "    .dataframe tbody tr th {\n",
       "        vertical-align: top;\n",
       "    }\n",
       "\n",
       "    .dataframe thead th {\n",
       "        text-align: right;\n",
       "    }\n",
       "</style>\n",
       "<table border=\"1\" class=\"dataframe\">\n",
       "  <thead>\n",
       "    <tr style=\"text-align: right;\">\n",
       "      <th></th>\n",
       "      <th>role</th>\n",
       "      <th>company</th>\n",
       "      <th>location</th>\n",
       "      <th>pay</th>\n",
       "      <th>remote</th>\n",
       "      <th>details</th>\n",
       "      <th>job_post_age</th>\n",
       "      <th>search_field</th>\n",
       "      <th>yearly</th>\n",
       "      <th>floor_pay_yearly</th>\n",
       "      <th>ceiling_pay_yearly</th>\n",
       "      <th>monthly</th>\n",
       "      <th>hourly</th>\n",
       "    </tr>\n",
       "  </thead>\n",
       "  <tbody>\n",
       "    <tr>\n",
       "      <th>19916</th>\n",
       "      <td>Call For Virtual Workshop Presenters (Healthy ...</td>\n",
       "      <td>Ten Spot</td>\n",
       "      <td>New York, NY 10001 (Chelsea area)</td>\n",
       "      <td>150 - 200 an hour</td>\n",
       "      <td>1</td>\n",
       "      <td>We are seeking Live Virtual Workshop Presenter...</td>\n",
       "      <td>20</td>\n",
       "      <td>Content Manager</td>\n",
       "      <td></td>\n",
       "      <td>300000.0</td>\n",
       "      <td>400000.0</td>\n",
       "      <td>NaN</td>\n",
       "      <td>150-200</td>\n",
       "    </tr>\n",
       "    <tr>\n",
       "      <th>19999</th>\n",
       "      <td>Chief Marketing Officer</td>\n",
       "      <td>Access Staffing LLC</td>\n",
       "      <td>New York, NY 10017 (Murray Hill area)</td>\n",
       "      <td>350000 - 500000 a year</td>\n",
       "      <td>0</td>\n",
       "      <td>Execute and assess integrated multi- channel d...</td>\n",
       "      <td>30</td>\n",
       "      <td>Content Manager</td>\n",
       "      <td>350000-500000</td>\n",
       "      <td>350000.0</td>\n",
       "      <td>500000.0</td>\n",
       "      <td>NaN</td>\n",
       "      <td>NaN</td>\n",
       "    </tr>\n",
       "    <tr>\n",
       "      <th>20016</th>\n",
       "      <td>Global Product Management Leader | eCommerce</td>\n",
       "      <td>Glocomms</td>\n",
       "      <td>New York, NY</td>\n",
       "      <td>300000 a year</td>\n",
       "      <td>0</td>\n",
       "      <td>Collaborate with Product Management, Engineeri...</td>\n",
       "      <td>21</td>\n",
       "      <td>Content Manager</td>\n",
       "      <td>300000</td>\n",
       "      <td>300000.0</td>\n",
       "      <td>300000.0</td>\n",
       "      <td>NaN</td>\n",
       "      <td>NaN</td>\n",
       "    </tr>\n",
       "    <tr>\n",
       "      <th>185324</th>\n",
       "      <td>Director, Account Strategy &amp; Corporate Develop...</td>\n",
       "      <td>Boys &amp; Girls Clubs of America</td>\n",
       "      <td>Atlanta, GA 30309 (Midtown area)</td>\n",
       "      <td>500000 a year</td>\n",
       "      <td>0</td>\n",
       "      <td>Primary lead and contributor to the strategy d...</td>\n",
       "      <td>30</td>\n",
       "      <td>Technical Lead</td>\n",
       "      <td>500000</td>\n",
       "      <td>500000.0</td>\n",
       "      <td>500000.0</td>\n",
       "      <td>NaN</td>\n",
       "      <td>NaN</td>\n",
       "    </tr>\n",
       "    <tr>\n",
       "      <th>193773</th>\n",
       "      <td>Project Manager - Potable - Private</td>\n",
       "      <td>HR Green</td>\n",
       "      <td>Saint Paul, MN 55114 (St. Anthony area)</td>\n",
       "      <td>300000 a year</td>\n",
       "      <td>0</td>\n",
       "      <td>Assists with pre-positioning strategies; ident...</td>\n",
       "      <td>30</td>\n",
       "      <td>Technical Lead</td>\n",
       "      <td>300000</td>\n",
       "      <td>300000.0</td>\n",
       "      <td>300000.0</td>\n",
       "      <td>NaN</td>\n",
       "      <td>NaN</td>\n",
       "    </tr>\n",
       "  </tbody>\n",
       "</table>\n",
       "</div>"
      ],
      "text/plain": [
       "                                                     role  \\\n",
       "19916   Call For Virtual Workshop Presenters (Healthy ...   \n",
       "19999                             Chief Marketing Officer   \n",
       "20016        Global Product Management Leader | eCommerce   \n",
       "185324  Director, Account Strategy & Corporate Develop...   \n",
       "193773                Project Manager - Potable - Private   \n",
       "\n",
       "                              company  \\\n",
       "19916                        Ten Spot   \n",
       "19999             Access Staffing LLC   \n",
       "20016                        Glocomms   \n",
       "185324  Boys & Girls Clubs of America   \n",
       "193773                       HR Green   \n",
       "\n",
       "                                       location                     pay  \\\n",
       "19916         New York, NY 10001 (Chelsea area)       150 - 200 an hour   \n",
       "19999     New York, NY 10017 (Murray Hill area)  350000 - 500000 a year   \n",
       "20016                              New York, NY           300000 a year   \n",
       "185324         Atlanta, GA 30309 (Midtown area)           500000 a year   \n",
       "193773  Saint Paul, MN 55114 (St. Anthony area)           300000 a year   \n",
       "\n",
       "        remote                                            details  \\\n",
       "19916        1  We are seeking Live Virtual Workshop Presenter...   \n",
       "19999        0  Execute and assess integrated multi- channel d...   \n",
       "20016        0  Collaborate with Product Management, Engineeri...   \n",
       "185324       0  Primary lead and contributor to the strategy d...   \n",
       "193773       0  Assists with pre-positioning strategies; ident...   \n",
       "\n",
       "        job_post_age     search_field         yearly  floor_pay_yearly  \\\n",
       "19916             20  Content Manager                         300000.0   \n",
       "19999             30  Content Manager  350000-500000          350000.0   \n",
       "20016             21  Content Manager         300000          300000.0   \n",
       "185324            30   Technical Lead         500000          500000.0   \n",
       "193773            30   Technical Lead         300000          300000.0   \n",
       "\n",
       "        ceiling_pay_yearly monthly   hourly  \n",
       "19916             400000.0     NaN  150-200  \n",
       "19999             500000.0     NaN      NaN  \n",
       "20016             300000.0     NaN      NaN  \n",
       "185324            500000.0     NaN      NaN  \n",
       "193773            300000.0     NaN      NaN  "
      ]
     },
     "execution_count": 25,
     "metadata": {},
     "output_type": "execute_result"
    }
   ],
   "source": [
    "jobs[jobs['floor_pay_yearly'] >= 300000]"
   ]
  },
  {
   "cell_type": "markdown",
   "metadata": {},
   "source": [
    "The jobs with \\$500000 per year pay ceilings will be removed, as they are pretty extreme outliers"
   ]
  },
  {
   "cell_type": "code",
   "execution_count": 26,
   "metadata": {},
   "outputs": [],
   "source": [
    "jobs = jobs.drop([19999, 185324])"
   ]
  },
  {
   "cell_type": "code",
   "execution_count": 27,
   "metadata": {},
   "outputs": [
    {
     "data": {
      "text/plain": [
       "count     24817.000000\n",
       "mean      65188.150824\n",
       "std       33842.957087\n",
       "min        9600.000000\n",
       "25%       40000.000000\n",
       "50%       59004.000000\n",
       "75%       85000.000000\n",
       "max      300000.000000\n",
       "Name: floor_pay_yearly, dtype: float64"
      ]
     },
     "execution_count": 27,
     "metadata": {},
     "output_type": "execute_result"
    }
   ],
   "source": [
    "jobs['floor_pay_yearly'].describe()"
   ]
  },
  {
   "cell_type": "markdown",
   "metadata": {},
   "source": [
    "The lower range of pay is a minimum of 9600 a year, this still seems strange. Jobs with a salary less than 20000 will be dropped"
   ]
  },
  {
   "cell_type": "code",
   "execution_count": 28,
   "metadata": {},
   "outputs": [],
   "source": [
    "jobs = jobs.drop(jobs[jobs['floor_pay_yearly'] < 20000].index)"
   ]
  },
  {
   "cell_type": "code",
   "execution_count": 29,
   "metadata": {},
   "outputs": [
    {
     "name": "stdout",
     "output_type": "stream",
     "text": [
      "65847.06718947842\n"
     ]
    },
    {
     "data": {
      "image/png": "[encoded data removed]",
      "text/plain": [
       "<Figure size 432x288 with 1 Axes>"
      ]
     },
     "metadata": {},
     "output_type": "display_data"
    }
   ],
   "source": [
    "print(jobs['floor_pay_yearly'].mean())\n",
    "jobs['floor_pay_yearly'].plot.hist(bins=60);"
   ]
  },
  {
   "cell_type": "code",
   "execution_count": 244,
   "metadata": {},
   "outputs": [
    {
     "name": "stdout",
     "output_type": "stream",
     "text": [
      "87971.73694929467\n"
     ]
    },
    {
     "data": {
      "image/png": "[encoded data removed]",
      "text/plain": [
       "<Figure size 576x396 with 1 Axes>"
      ]
     },
     "metadata": {},
     "output_type": "display_data"
    }
   ],
   "source": [
    "print(jobs['ceiling_pay_yearly'].mean())\n",
    "jobs['ceiling_pay_yearly'].plot.hist(bins=60);"
   ]
  },
  {
   "cell_type": "raw",
   "metadata": {},
   "source": [
    "Since the distributions are right skewed with a somewhat large scale, log transformation can be used to get a more accurate representation of the mean pay floor and ceiling"
   ]
  },
  {
   "cell_type": "code",
   "execution_count": 30,
   "metadata": {},
   "outputs": [
    {
     "name": "stderr",
     "output_type": "stream",
     "text": [
      "/home/jose/miniconda3/envs/unit2/lib/python3.7/site-packages/numpy/lib/histograms.py:839: RuntimeWarning: invalid value encountered in greater_equal\n",
      "  keep = (tmp_a >= first_edge)\n",
      "/home/jose/miniconda3/envs/unit2/lib/python3.7/site-packages/numpy/lib/histograms.py:840: RuntimeWarning: invalid value encountered in less_equal\n",
      "  keep &= (tmp_a <= last_edge)\n"
     ]
    },
    {
     "data": {
      "image/png": "[encoded data removed]",
      "text/plain": [
       "<Figure size 1080x360 with 2 Axes>"
      ]
     },
     "metadata": {},
     "output_type": "display_data"
    }
   ],
   "source": [
    "fig, axes = plt.subplots(1, 2, figsize=(15,5))\n",
    "n_bins = 25\n",
    "floor = np.log1p(jobs['floor_pay_yearly'])\n",
    "ceiling = np.log1p(jobs['ceiling_pay_yearly'])\n",
    "axes[0].hist(floor, bins=n_bins)\n",
    "axes[1].hist(ceiling, bins=n_bins)\n",
    "axes[0].set_title('Pay Floor (Log Transformed)')\n",
    "axes[1].set_title('Pay Ceiling (Log Transformed)')\n",
    "\n",
    "for ax in axes:\n",
    "    ax.grid(True)\n",
    "\n",
    "plt.show()"
   ]
  },
  {
   "cell_type": "code",
   "execution_count": 31,
   "metadata": {},
   "outputs": [
    {
     "name": "stdout",
     "output_type": "stream",
     "text": [
      "Average Pay Floor (Log Transformed): $58167.110664481224\n",
      "Average Pay Ceiling (Log Transformed): $73025.25260212176\n"
     ]
    }
   ],
   "source": [
    "print(f\"Average Pay Floor (Log Transformed): ${np.expm1(floor.mean())}\")\n",
    "print(f\"Average Pay Ceiling (Log Transformed): ${np.expm1(ceiling.mean())}\")"
   ]
  },
  {
   "cell_type": "markdown",
   "metadata": {},
   "source": [
    "### Individual Jobs\n",
    "To answer the question of which jobs have more remote possibilities I'll take a look at the top 20 jobs. This will also help answer the question of average pay range per job. There is one issue, however: The `search_field` result column does not ensure that its value will be related to the `role` column. The job roles have a lot of variation in how they're named, and picking out groups manually would be an impractical waste of time. \n",
    "\n",
    "The proposed method to alleviate this is to take a deterministic and a probabilistic model and use the text details of the job to classify the roles that are named with enough variation to make them appear to be different jobs. Here I will use a Multinomial Naive Bayes and a K-Nearest Neighbors to see which gets better accuracy. The winner will classify the job roles in a new column. Similarity score will also be stored. Scores below a threshold will be discarded. "
   ]
  },
  {
   "cell_type": "code",
   "execution_count": 167,
   "metadata": {},
   "outputs": [],
   "source": [
    "# First, some housekeeping: The software developer role and it's\n",
    "# corresponding search field have a spelling discrepancy\n",
    "jobs.loc[jobs['search_field'] == 'Software Developers', 'search_field'] = \"Software Developer\""
   ]
  },
  {
   "cell_type": "code",
   "execution_count": 171,
   "metadata": {},
   "outputs": [
    {
     "data": {
      "text/plain": [
       "Systems Engineer             559\n",
       "Product Manager              500\n",
       "Software Developer           472\n",
       "Data Scientist               438\n",
       "Data Analyst                 328\n",
       "Database Administrator       251\n",
       "Systems Administrator        235\n",
       "Digital Marketing Manager    228\n",
       "Business Systems Analyst     180\n",
       "UX Designer                  115\n",
       "Technical Account Manager     88\n",
       "Data Architect                88\n",
       "Security Specialist           74\n",
       "Technical Lead                62\n",
       "Python Developer              45\n",
       "Social Media Manager          42\n",
       "Cloud Architect               36\n",
       "Mobile Developer              36\n",
       "Content Strategist            33\n",
       "Front-End Developer           28\n",
       "Content Manager               26\n",
       "UI Designer                   21\n",
       "Agile Project Manager         21\n",
       "Data Modeler                  17\n",
       "Ruby on Rails Developer       13\n",
       "WordPress Developer            9\n",
       "DevOps Manager                 9\n",
       "Growth Hacker                  9\n",
       "Full-Stack Developer           7\n",
       "Interaction Designer           5\n",
       "Accessibility Specialist       5\n",
       "Marketing Technologist         4\n",
       "Information Architect          4\n",
       "Front-End Designer             1\n",
       "Mobile App Developer           1\n",
       "Web Analytics Developer        1\n",
       "SEO Consultant                 1\n",
       "Name: role, dtype: int64"
      ]
     },
     "execution_count": 171,
     "metadata": {},
     "output_type": "execute_result"
    }
   ],
   "source": [
    "# Now, the jobs where the role and search_field align exactly\n",
    "# will become the training data\n",
    "jobs[jobs['role'] == jobs['search_field']]['role'].value_counts()"
   ]
  },
  {
   "cell_type": "code",
   "execution_count": 176,
   "metadata": {},
   "outputs": [
    {
     "data": {
      "text/plain": [
       "'Call on 1-818-852-0399 if you have a proven track record of selling digital marketing services (SEO, Social Media, and PPC/SEM, or video).'"
      ]
     },
     "execution_count": 176,
     "metadata": {},
     "output_type": "execute_result"
    }
   ],
   "source": [
    "jobs['details'].iloc[789]"
   ]
  }
 ],
 "metadata": {
  "kernelspec": {
   "display_name": "Python3 (unit2)",
   "language": "python",
   "name": "unit2"
  },
  "language_info": {
   "codemirror_mode": {
    "name": "ipython",
    "version": 3
   },
   "file_extension": ".py",
   "mimetype": "text/x-python",
   "name": "python",
   "nbconvert_exporter": "python",
   "pygments_lexer": "ipython3",
   "version": "3.7.6"
  }
 },
 "nbformat": 4,
 "nbformat_minor": 4
}
