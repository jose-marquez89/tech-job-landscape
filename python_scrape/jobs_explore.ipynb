{
 "cells": [
  {
   "cell_type": "markdown",
   "metadata": {},
   "source": [
    "## Questions\n",
    "The data was completely collected on 2020-08-05\n",
    "\n",
    "What are the questions that I want to answer, given the data that I now have?\n",
    "- How many jobs are remote?\n",
    "- For jobs with pay range information, what is the average floor for each job category? Ceiling?\n",
    "- Is there a tendency for a particular job to be remote more than another?\n",
    "- What are the top 20 jobs that are being sought after?\n",
    "- When you remove very old posts (30+ days) how much do these figures change?\n",
    "    - what could be the reason for some of the older jobs hanging out on the job boards?\n",
    "- What are the top 20 companies really pushing to hire?\n",
    "- What are the top 20 locations that are hiring? Does it matter?\n",
    "\n",
    "This could be structured in the typical \"who, what, where, when\"\n",
    "- **Who** -> who are the companies that are recruiting the most?\n",
    "- **What** -> what are the jobs that are most sought after\n",
    "- **Where** -> what states are hiring the most people (with the understanding that a lot of work is remote, but this could change if restrictions begin to lift)\n",
    "- **When** -> are there less newer jobs (7 days or newer). Does it matter?\n",
    "\n",
    "### Extra \n",
    "- how many details are included in the job description snippet?\n",
    "- can we use LDA to extract the most commonly desired topics?"
   ]
  },
  {
   "cell_type": "code",
   "execution_count": 242,
   "metadata": {},
   "outputs": [],
   "source": [
    "import pandas as pd\n",
    "import numpy as np\n",
    "import matplotlib.pyplot as plt\n",
    "\n",
    "plt.style.use('fivethirtyeight')"
   ]
  },
  {
   "cell_type": "code",
   "execution_count": 2,
   "metadata": {},
   "outputs": [
    {
     "data": {
      "text/html": [
       "<div>\n",
       "<style scoped>\n",
       "    .dataframe tbody tr th:only-of-type {\n",
       "        vertical-align: middle;\n",
       "    }\n",
       "\n",
       "    .dataframe tbody tr th {\n",
       "        vertical-align: top;\n",
       "    }\n",
       "\n",
       "    .dataframe thead th {\n",
       "        text-align: right;\n",
       "    }\n",
       "</style>\n",
       "<table border=\"1\" class=\"dataframe\">\n",
       "  <thead>\n",
       "    <tr style=\"text-align: right;\">\n",
       "      <th></th>\n",
       "      <th>role</th>\n",
       "      <th>company</th>\n",
       "      <th>location</th>\n",
       "      <th>pay</th>\n",
       "      <th>remote</th>\n",
       "      <th>details</th>\n",
       "      <th>job_post_age</th>\n",
       "      <th>search_field</th>\n",
       "    </tr>\n",
       "  </thead>\n",
       "  <tbody>\n",
       "    <tr>\n",
       "      <th>0</th>\n",
       "      <td>Lead Software Engineer - eCommerce</td>\n",
       "      <td>COVETRUS INC</td>\n",
       "      <td>Birmingham, AL 35203</td>\n",
       "      <td>NaN</td>\n",
       "      <td>0</td>\n",
       "      <td>Our advanced web tools, client marketing progr...</td>\n",
       "      <td>30+ days ago</td>\n",
       "      <td>Marketing Technologist</td>\n",
       "    </tr>\n",
       "    <tr>\n",
       "      <th>1</th>\n",
       "      <td>Associate Director of UAA Student Web Experience</td>\n",
       "      <td>University of Alaska</td>\n",
       "      <td>Anchorage, AK 99508 (Rogers Park area)</td>\n",
       "      <td>NaN</td>\n",
       "      <td>0</td>\n",
       "      <td>Produces clear documentation for marketing pag...</td>\n",
       "      <td>30+ days ago</td>\n",
       "      <td>Marketing Technologist</td>\n",
       "    </tr>\n",
       "    <tr>\n",
       "      <th>2</th>\n",
       "      <td>Sales Support, Coronary Clinical Specialist - ...</td>\n",
       "      <td>Philips</td>\n",
       "      <td>Tucson, AZ</td>\n",
       "      <td>NaN</td>\n",
       "      <td>0</td>\n",
       "      <td>Supports marketing related trade shows and ven...</td>\n",
       "      <td>7 days ago</td>\n",
       "      <td>Marketing Technologist</td>\n",
       "    </tr>\n",
       "    <tr>\n",
       "      <th>3</th>\n",
       "      <td>Laboratory Operations Manager</td>\n",
       "      <td>Lighthouse Lab Services</td>\n",
       "      <td>Phoenix, AZ 85016 (Camelback East area)</td>\n",
       "      <td>NaN</td>\n",
       "      <td>0</td>\n",
       "      <td>Work with hospital strategy department and mar...</td>\n",
       "      <td>13 days ago</td>\n",
       "      <td>Marketing Technologist</td>\n",
       "    </tr>\n",
       "    <tr>\n",
       "      <th>4</th>\n",
       "      <td>Snr Key Account Technology Engineer I - EPI</td>\n",
       "      <td>ASM</td>\n",
       "      <td>Phoenix, AZ</td>\n",
       "      <td>NaN</td>\n",
       "      <td>0</td>\n",
       "      <td>Related work experience can include process en...</td>\n",
       "      <td>30+ days ago</td>\n",
       "      <td>Marketing Technologist</td>\n",
       "    </tr>\n",
       "  </tbody>\n",
       "</table>\n",
       "</div>"
      ],
      "text/plain": [
       "                                                role                  company  \\\n",
       "0                 Lead Software Engineer - eCommerce             COVETRUS INC   \n",
       "1   Associate Director of UAA Student Web Experience     University of Alaska   \n",
       "2  Sales Support, Coronary Clinical Specialist - ...                  Philips   \n",
       "3                      Laboratory Operations Manager  Lighthouse Lab Services   \n",
       "4        Snr Key Account Technology Engineer I - EPI                      ASM   \n",
       "\n",
       "                                  location  pay  remote  \\\n",
       "0                     Birmingham, AL 35203  NaN       0   \n",
       "1   Anchorage, AK 99508 (Rogers Park area)  NaN       0   \n",
       "2                               Tucson, AZ  NaN       0   \n",
       "3  Phoenix, AZ 85016 (Camelback East area)  NaN       0   \n",
       "4                              Phoenix, AZ  NaN       0   \n",
       "\n",
       "                                             details  job_post_age  \\\n",
       "0  Our advanced web tools, client marketing progr...  30+ days ago   \n",
       "1  Produces clear documentation for marketing pag...  30+ days ago   \n",
       "2  Supports marketing related trade shows and ven...    7 days ago   \n",
       "3  Work with hospital strategy department and mar...   13 days ago   \n",
       "4  Related work experience can include process en...  30+ days ago   \n",
       "\n",
       "             search_field  \n",
       "0  Marketing Technologist  \n",
       "1  Marketing Technologist  \n",
       "2  Marketing Technologist  \n",
       "3  Marketing Technologist  \n",
       "4  Marketing Technologist  "
      ]
     },
     "execution_count": 2,
     "metadata": {},
     "output_type": "execute_result"
    }
   ],
   "source": [
    "jobs = pd.read_csv('indeed_jobs.csv', sep='|')\n",
    "jobs.head()"
   ]
  },
  {
   "cell_type": "code",
   "execution_count": 3,
   "metadata": {},
   "outputs": [
    {
     "data": {
      "text/plain": [
       "(248009, 8)"
      ]
     },
     "execution_count": 3,
     "metadata": {},
     "output_type": "execute_result"
    }
   ],
   "source": [
    "jobs.shape"
   ]
  },
  {
   "cell_type": "markdown",
   "metadata": {},
   "source": [
    "### Clean Data\n",
    "\n",
    "Because I would like to use the job post age to understand the jobs in the context of removal of older jobs postings, I need to turn the column to integers."
   ]
  },
  {
   "cell_type": "code",
   "execution_count": 4,
   "metadata": {},
   "outputs": [
    {
     "data": {
      "text/plain": [
       "30+ days ago    120746\n",
       "0                11208\n",
       "1 day ago        10348\n",
       "5 days ago        8358\n",
       "6 days ago        8175\n",
       "7 days ago        7431\n",
       "2 days ago        6931\n",
       "8 days ago        6734\n",
       "13 days ago       5377\n",
       "12 days ago       5324\n",
       "14 days ago       4949\n",
       "9 days ago        4550\n",
       "15 days ago       4525\n",
       "20 days ago       3879\n",
       "19 days ago       3871\n",
       "21 days ago       3856\n",
       "22 days ago       3591\n",
       "28 days ago       3404\n",
       "26 days ago       3229\n",
       "16 days ago       3195\n",
       "4 days ago        3090\n",
       "27 days ago       3069\n",
       "23 days ago       2996\n",
       "29 days ago       2942\n",
       "11 days ago       1797\n",
       "18 days ago       1376\n",
       "25 days ago       1126\n",
       "3 days ago         768\n",
       "10 days ago        493\n",
       "17 days ago        371\n",
       "24 days ago        300\n",
       "Name: job_post_age, dtype: int64"
      ]
     },
     "execution_count": 4,
     "metadata": {},
     "output_type": "execute_result"
    }
   ],
   "source": [
    "jobs.loc[(jobs['job_post_age'] == 'Just posted') |\n",
    "         (jobs['job_post_age'] == 'Today'), 'job_post_age'] = '0'\n",
    "jobs['job_post_age'].value_counts()"
   ]
  },
  {
   "cell_type": "code",
   "execution_count": 5,
   "metadata": {},
   "outputs": [
    {
     "data": {
      "text/plain": [
       "role            object\n",
       "company         object\n",
       "location        object\n",
       "pay             object\n",
       "remote           int64\n",
       "details         object\n",
       "job_post_age     int64\n",
       "search_field    object\n",
       "dtype: object"
      ]
     },
     "execution_count": 5,
     "metadata": {},
     "output_type": "execute_result"
    }
   ],
   "source": [
    "jobs['job_post_age'] = jobs['job_post_age'].str.replace('[^0-9]', '')\n",
    "jobs['job_post_age'] = jobs['job_post_age'].astype(int)\n",
    "jobs.dtypes"
   ]
  },
  {
   "cell_type": "markdown",
   "metadata": {},
   "source": [
    "Before removing old jobs, what does the distribution of remote and non remote jobs look like? A '1' indicates a remote opportunity."
   ]
  },
  {
   "cell_type": "code",
   "execution_count": 6,
   "metadata": {},
   "outputs": [],
   "source": [
    "jobs['remote'] = jobs['remote'].astype(int)"
   ]
  },
  {
   "cell_type": "code",
   "execution_count": 7,
   "metadata": {},
   "outputs": [
    {
     "name": "stdout",
     "output_type": "stream",
     "text": [
      "0    0.876198\n",
      "1    0.123802\n",
      "Name: remote, dtype: float64\n"
     ]
    },
    {
     "data": {
      "image/png": "[encoded data removed]",
      "text/plain": [
       "<Figure size 432x288 with 1 Axes>"
      ]
     },
     "metadata": {
      "needs_background": "light"
     },
     "output_type": "display_data"
    }
   ],
   "source": [
    "print(jobs['remote'].value_counts(normalize=True))\n",
    "jobs['remote'].plot.hist();"
   ]
  },
  {
   "cell_type": "code",
   "execution_count": 8,
   "metadata": {},
   "outputs": [
    {
     "name": "stdout",
     "output_type": "stream",
     "text": [
      "0    0.840614\n",
      "1    0.159386\n",
      "Name: remote, dtype: float64\n"
     ]
    },
    {
     "data": {
      "image/png": "[encoded data removed]",
      "text/plain": [
       "<Figure size 432x288 with 1 Axes>"
      ]
     },
     "metadata": {
      "needs_background": "light"
     },
     "output_type": "display_data"
    }
   ],
   "source": [
    "recent_jobs = jobs[jobs['job_post_age'] < 30]\n",
    "print(recent_jobs['remote'].value_counts(normalize=True))\n",
    "recent_jobs['remote'].plot.hist(title=\"Remote Jobs Within This Month\");"
   ]
  },
  {
   "cell_type": "markdown",
   "metadata": {},
   "source": [
    "What about jobs within a week of collection?"
   ]
  },
  {
   "cell_type": "code",
   "execution_count": 9,
   "metadata": {},
   "outputs": [
    {
     "name": "stdout",
     "output_type": "stream",
     "text": [
      "0    0.833508\n",
      "1    0.166492\n",
      "Name: remote, dtype: float64\n"
     ]
    },
    {
     "data": {
      "image/png": "[encoded data removed]",
      "text/plain": [
       "<Figure size 432x288 with 1 Axes>"
      ]
     },
     "metadata": {
      "needs_background": "light"
     },
     "output_type": "display_data"
    }
   ],
   "source": [
    "recent_week = jobs[jobs['job_post_age'] <= 7]\n",
    "print(recent_week['remote'].value_counts(normalize=True))\n",
    "recent_week['remote'].plot.hist(title=\"Remote, Within 7 Days of Data Collection\");"
   ]
  },
  {
   "cell_type": "markdown",
   "metadata": {},
   "source": [
    "Roughly the same proportion of job opportunities are marked as remote on Indeed as I progressed from looking at all jobs to jobs posted within a week of data collection. It looks like remote jobs are either still not the norm, or it is not typical yet for a job on indeed to explicitly label itself as a remote possibility. Also, since it's the first time I've looked at this data, I have no means of gauging the change from not-remote to remote job opportunities."
   ]
  },
  {
   "cell_type": "markdown",
   "metadata": {},
   "source": [
    "### Pay Range Columns\n",
    "It would be ideal to create pay range columns for the individual pay ranges ('an hour', 'a month', 'a year'. excluding the smallest groups) in order to create two standardized yearly pay columns like so:\n",
    "\n",
    "|pay_floor|pay_ceiling|\n",
    "|---------|-----------|\n",
    "|50000    |90000      |\n",
    "|75000    |125345     |"
   ]
  },
  {
   "cell_type": "code",
   "execution_count": 10,
   "metadata": {},
   "outputs": [
    {
     "data": {
      "text/html": [
       "<div>\n",
       "<style scoped>\n",
       "    .dataframe tbody tr th:only-of-type {\n",
       "        vertical-align: middle;\n",
       "    }\n",
       "\n",
       "    .dataframe tbody tr th {\n",
       "        vertical-align: top;\n",
       "    }\n",
       "\n",
       "    .dataframe thead th {\n",
       "        text-align: right;\n",
       "    }\n",
       "</style>\n",
       "<table border=\"1\" class=\"dataframe\">\n",
       "  <thead>\n",
       "    <tr style=\"text-align: right;\">\n",
       "      <th></th>\n",
       "      <th>role</th>\n",
       "      <th>company</th>\n",
       "      <th>location</th>\n",
       "      <th>pay</th>\n",
       "      <th>remote</th>\n",
       "      <th>details</th>\n",
       "      <th>job_post_age</th>\n",
       "      <th>search_field</th>\n",
       "    </tr>\n",
       "  </thead>\n",
       "  <tbody>\n",
       "    <tr>\n",
       "      <th>0</th>\n",
       "      <td>Lead Software Engineer - eCommerce</td>\n",
       "      <td>COVETRUS INC</td>\n",
       "      <td>Birmingham, AL 35203</td>\n",
       "      <td>N/A</td>\n",
       "      <td>0</td>\n",
       "      <td>Our advanced web tools, client marketing progr...</td>\n",
       "      <td>30</td>\n",
       "      <td>Marketing Technologist</td>\n",
       "    </tr>\n",
       "    <tr>\n",
       "      <th>1</th>\n",
       "      <td>Associate Director of UAA Student Web Experience</td>\n",
       "      <td>University of Alaska</td>\n",
       "      <td>Anchorage, AK 99508 (Rogers Park area)</td>\n",
       "      <td>N/A</td>\n",
       "      <td>0</td>\n",
       "      <td>Produces clear documentation for marketing pag...</td>\n",
       "      <td>30</td>\n",
       "      <td>Marketing Technologist</td>\n",
       "    </tr>\n",
       "    <tr>\n",
       "      <th>2</th>\n",
       "      <td>Sales Support, Coronary Clinical Specialist - ...</td>\n",
       "      <td>Philips</td>\n",
       "      <td>Tucson, AZ</td>\n",
       "      <td>N/A</td>\n",
       "      <td>0</td>\n",
       "      <td>Supports marketing related trade shows and ven...</td>\n",
       "      <td>7</td>\n",
       "      <td>Marketing Technologist</td>\n",
       "    </tr>\n",
       "    <tr>\n",
       "      <th>3</th>\n",
       "      <td>Laboratory Operations Manager</td>\n",
       "      <td>Lighthouse Lab Services</td>\n",
       "      <td>Phoenix, AZ 85016 (Camelback East area)</td>\n",
       "      <td>N/A</td>\n",
       "      <td>0</td>\n",
       "      <td>Work with hospital strategy department and mar...</td>\n",
       "      <td>13</td>\n",
       "      <td>Marketing Technologist</td>\n",
       "    </tr>\n",
       "    <tr>\n",
       "      <th>4</th>\n",
       "      <td>Snr Key Account Technology Engineer I - EPI</td>\n",
       "      <td>ASM</td>\n",
       "      <td>Phoenix, AZ</td>\n",
       "      <td>N/A</td>\n",
       "      <td>0</td>\n",
       "      <td>Related work experience can include process en...</td>\n",
       "      <td>30</td>\n",
       "      <td>Marketing Technologist</td>\n",
       "    </tr>\n",
       "  </tbody>\n",
       "</table>\n",
       "</div>"
      ],
      "text/plain": [
       "                                                role                  company  \\\n",
       "0                 Lead Software Engineer - eCommerce             COVETRUS INC   \n",
       "1   Associate Director of UAA Student Web Experience     University of Alaska   \n",
       "2  Sales Support, Coronary Clinical Specialist - ...                  Philips   \n",
       "3                      Laboratory Operations Manager  Lighthouse Lab Services   \n",
       "4        Snr Key Account Technology Engineer I - EPI                      ASM   \n",
       "\n",
       "                                  location  pay  remote  \\\n",
       "0                     Birmingham, AL 35203  N/A       0   \n",
       "1   Anchorage, AK 99508 (Rogers Park area)  N/A       0   \n",
       "2                               Tucson, AZ  N/A       0   \n",
       "3  Phoenix, AZ 85016 (Camelback East area)  N/A       0   \n",
       "4                              Phoenix, AZ  N/A       0   \n",
       "\n",
       "                                             details  job_post_age  \\\n",
       "0  Our advanced web tools, client marketing progr...            30   \n",
       "1  Produces clear documentation for marketing pag...            30   \n",
       "2  Supports marketing related trade shows and ven...             7   \n",
       "3  Work with hospital strategy department and mar...            13   \n",
       "4  Related work experience can include process en...            30   \n",
       "\n",
       "             search_field  \n",
       "0  Marketing Technologist  \n",
       "1  Marketing Technologist  \n",
       "2  Marketing Technologist  \n",
       "3  Marketing Technologist  \n",
       "4  Marketing Technologist  "
      ]
     },
     "execution_count": 10,
     "metadata": {},
     "output_type": "execute_result"
    }
   ],
   "source": [
    "jobs['pay'] = jobs['pay'].fillna('N/A')\n",
    "jobs.head()"
   ]
  },
  {
   "cell_type": "code",
   "execution_count": 11,
   "metadata": {},
   "outputs": [],
   "source": [
    "jobs['pay'] = jobs['pay'].str.replace('$', '')\n",
    "jobs['pay'] = jobs['pay'].str.replace(',', '')"
   ]
  },
  {
   "cell_type": "markdown",
   "metadata": {},
   "source": [
    "In order to convert the ranges to floor and ceiling, i need to find out how many different categories of pay range there is (i.e. \"a year\", \"a week\", \"an hour\", etc...)"
   ]
  },
  {
   "cell_type": "code",
   "execution_count": 12,
   "metadata": {},
   "outputs": [
    {
     "name": "stderr",
     "output_type": "stream",
     "text": [
      "/home/jose/miniconda3/envs/unit2/lib/python3.7/site-packages/pandas/core/strings.py:1952: UserWarning: This pattern has match groups. To actually get the groups, use str.extract.\n",
      "  return func(self, *args, **kwargs)\n"
     ]
    },
    {
     "data": {
      "text/plain": [
       "ayear     18128\n",
       "anhour     7344\n",
       "amonth      955\n",
       "aweek        58\n",
       "aday         27\n",
       "Name: pay, dtype: int64"
      ]
     },
     "execution_count": 12,
     "metadata": {},
     "output_type": "execute_result"
    }
   ],
   "source": [
    "jobs[jobs['pay'].str.contains('\\d+\\s\\-\\s\\d+\\s(a|an)\\s+.*')]['pay'].str.replace('[^a-zA-z]', '').value_counts()"
   ]
  },
  {
   "cell_type": "markdown",
   "metadata": {},
   "source": [
    "For practicality's sake, I'll only convert ranges with \"a year\", \"a month\", or \"an hour\"."
   ]
  },
  {
   "cell_type": "code",
   "execution_count": 13,
   "metadata": {},
   "outputs": [],
   "source": [
    "jobs['yearly'] = jobs['pay']\n",
    "\n",
    "# convert anything in the yearly column that isnt yearly to 'N/A'\n",
    "jobs.loc[~jobs['yearly'].str.contains('a year'), 'yearly'] = 'N/A' \n",
    "\n",
    "# remove 'a year' from yearly column\n",
    "jobs['yearly'] = jobs['yearly'].str.replace('[^0-9\\-]', '')\n",
    "\n",
    "# create floor pay column\n",
    "jobs['floor_pay_yearly'] = jobs['yearly'].str.replace('\\-\\d+', '')\n",
    "jobs.loc[jobs['floor_pay_yearly'] == '', 'floor_pay_yearly'] = np.nan\n",
    "jobs['floor_pay_yearly'] = jobs['floor_pay_yearly'].astype(float)\n",
    "\n",
    "# create ceiling pay column\n",
    "jobs['ceiling_pay_yearly'] = jobs['yearly'].str.replace('\\d+\\-', '')\n",
    "jobs.loc[jobs['ceiling_pay_yearly'] == '', 'ceiling_pay_yearly'] = np.nan\n",
    "jobs['ceiling_pay_yearly'] = jobs['ceiling_pay_yearly'].astype(float)"
   ]
  },
  {
   "cell_type": "code",
   "execution_count": 14,
   "metadata": {},
   "outputs": [],
   "source": [
    "# repeat the process with monthly pay ranges\n",
    "jobs['monthly'] = jobs['pay']\n",
    "\n",
    "# anything in the new column that isn't part of the category becomes 'N/A'\n",
    "jobs.loc[~jobs['monthly'].str.contains('a month'), 'monthly'] = 'N/A'\n",
    "\n",
    "# remove 'a month' from column\n",
    "jobs['monthly'] = jobs['monthly'].str.replace('[^0-9\\-]', '')\n",
    "jobs.loc[jobs['monthly'] == '', 'monthly'] = np.nan\n",
    "\n",
    "# insert floor and ceiling into the corresponding yearly column\n",
    "jobs.loc[jobs['monthly'].notnull(), 'floor_pay_yearly'] = (jobs['monthly']\n",
    "                                                       .str.replace('\\-\\d+', '')\n",
    "                                                       .astype(float) * 12)\n",
    "jobs.loc[jobs['monthly'].notnull(), 'ceiling_pay_yearly'] = (jobs['monthly']\n",
    "                                                            .str.replace('\\d+\\-', '')\n",
    "                                                            .astype(float) * 12)"
   ]
  },
  {
   "cell_type": "markdown",
   "metadata": {},
   "source": [
    "Here, I'm multiplying hourly rates by 2 and then by 1000. This is operating under the rough assumption that if a person makes 70,000 dollars a year, they are working 40 hours a week for ~52 weeks out of the year:\n",
    "\n",
    "$(\\$35\\ per\\ hour) \\times (40\\ hours\\ per\\ week) \\times (52\\ weeks) \\approx \\$70,000\\ a\\ year$"
   ]
  },
  {
   "cell_type": "code",
   "execution_count": 15,
   "metadata": {},
   "outputs": [],
   "source": [
    "# repeat the process with hourly pay ranges\n",
    "jobs['hourly'] = jobs['pay']\n",
    "\n",
    "# anything in the new column that isn't part of the category becomes 'N/A'\n",
    "jobs.loc[~jobs['hourly'].str.contains('an hour'), 'hourly'] = 'N/A'\n",
    "\n",
    "# remove 'an hour' from new column\n",
    "jobs['hourly'] = jobs['hourly'].str.replace('[^0-9\\-\\.]', '')\n",
    "jobs.loc[jobs['hourly'] == '', 'hourly'] = np.nan\n",
    "\n",
    "# insert floor and ceiling into the corresponding yearly column\n",
    "jobs.loc[jobs['hourly'].notnull(), 'floor_pay_yearly'] = ((jobs['hourly']\n",
    "                                                       .str.replace('\\-\\d+\\.*\\d*', '')\n",
    "                                                       .astype(float) * 2) * 1000)\n",
    "jobs.loc[jobs['hourly'].notnull(), 'ceiling_pay_yearly'] = ((jobs['hourly']\n",
    "                                                            .str.replace('\\d+\\.*\\d*\\-', '')\n",
    "                                                            .astype(float) * 2) * 1000)"
   ]
  },
  {
   "cell_type": "code",
   "execution_count": 16,
   "metadata": {},
   "outputs": [
    {
     "name": "stdout",
     "output_type": "stream",
     "text": [
      "Average Pay Floor: $68350.78\n",
      "Average Pay Ceiling: $87192.27\n"
     ]
    }
   ],
   "source": [
    "print(f\"Average Pay Floor: ${round(jobs['floor_pay_yearly'].mean(), 2)}\")\n",
    "print(f\"Average Pay Ceiling: ${round(jobs['ceiling_pay_yearly'].mean(), 2)}\")"
   ]
  },
  {
   "cell_type": "markdown",
   "metadata": {},
   "source": [
    "Before moving on, I'd like to make sure there aren't any obvious outliers/potential mistakes"
   ]
  },
  {
   "cell_type": "code",
   "execution_count": 17,
   "metadata": {},
   "outputs": [
    {
     "data": {
      "text/plain": [
       "count     34611.000000\n",
       "mean      68350.783970\n",
       "std       34787.362808\n",
       "min        9600.000000\n",
       "25%       40065.000000\n",
       "50%       60000.000000\n",
       "75%       90000.000000\n",
       "max      500000.000000\n",
       "Name: floor_pay_yearly, dtype: float64"
      ]
     },
     "execution_count": 17,
     "metadata": {},
     "output_type": "execute_result"
    }
   ],
   "source": [
    "jobs['floor_pay_yearly'].describe()"
   ]
  },
  {
   "cell_type": "markdown",
   "metadata": {},
   "source": [
    "A max yearly pay of 500k sounds like a mistake or influence from outliers, and so does a minimum of 9600 a year. I'll consider anything over 200k or under 30k suspect."
   ]
  },
  {
   "cell_type": "code",
   "execution_count": 60,
   "metadata": {},
   "outputs": [
    {
     "data": {
      "image/png": "[encoded data removed]",
      "text/plain": [
       "<Figure size 432x288 with 1 Axes>"
      ]
     },
     "metadata": {
      "needs_background": "light"
     },
     "output_type": "display_data"
    }
   ],
   "source": [
    "jobs[['floor_pay_yearly']][jobs['floor_pay_yearly'] >= 200000].plot.box();"
   ]
  },
  {
   "cell_type": "code",
   "execution_count": 91,
   "metadata": {},
   "outputs": [
    {
     "data": {
      "text/html": [
       "<div>\n",
       "<style scoped>\n",
       "    .dataframe tbody tr th:only-of-type {\n",
       "        vertical-align: middle;\n",
       "    }\n",
       "\n",
       "    .dataframe tbody tr th {\n",
       "        vertical-align: top;\n",
       "    }\n",
       "\n",
       "    .dataframe thead th {\n",
       "        text-align: right;\n",
       "    }\n",
       "</style>\n",
       "<table border=\"1\" class=\"dataframe\">\n",
       "  <thead>\n",
       "    <tr style=\"text-align: right;\">\n",
       "      <th></th>\n",
       "      <th>role</th>\n",
       "      <th>pay</th>\n",
       "      <th>details</th>\n",
       "      <th>floor_pay_yearly</th>\n",
       "    </tr>\n",
       "  </thead>\n",
       "  <tbody>\n",
       "    <tr>\n",
       "      <th>150971</th>\n",
       "      <td>Solution Architect Digital Channels</td>\n",
       "      <td>100 - 110 an hour</td>\n",
       "      <td>Inclusive of this is gathering a deep understa...</td>\n",
       "      <td>200000.0</td>\n",
       "    </tr>\n",
       "    <tr>\n",
       "      <th>154747</th>\n",
       "      <td>Principal Front End Engineer | Low Latency Tra...</td>\n",
       "      <td>250000 a year</td>\n",
       "      <td>Freedom and support to define best practice an...</td>\n",
       "      <td>250000.0</td>\n",
       "    </tr>\n",
       "    <tr>\n",
       "      <th>154750</th>\n",
       "      <td>Principal Software Engineer (PostgreSQL) | Low...</td>\n",
       "      <td>250000 a year</td>\n",
       "      <td>Freedom and support to define best practice an...</td>\n",
       "      <td>250000.0</td>\n",
       "    </tr>\n",
       "    <tr>\n",
       "      <th>156643</th>\n",
       "      <td>Senior UX Designer</td>\n",
       "      <td>200000 a year</td>\n",
       "      <td>You have a deep background in complex data pro...</td>\n",
       "      <td>200000.0</td>\n",
       "    </tr>\n",
       "    <tr>\n",
       "      <th>157572</th>\n",
       "      <td>Senior Director of Bioinformatics</td>\n",
       "      <td>From 200000 a year</td>\n",
       "      <td>This role will partner with software engineers...</td>\n",
       "      <td>200000.0</td>\n",
       "    </tr>\n",
       "    <tr>\n",
       "      <th>158962</th>\n",
       "      <td>Systems Architect</td>\n",
       "      <td>200000 - 250000 a year</td>\n",
       "      <td>Together they enable clients to drill faster a...</td>\n",
       "      <td>200000.0</td>\n",
       "    </tr>\n",
       "    <tr>\n",
       "      <th>159070</th>\n",
       "      <td>Data Warehouse Architect</td>\n",
       "      <td>120 an hour</td>\n",
       "      <td>Deep understanding of data warehouse and star ...</td>\n",
       "      <td>240000.0</td>\n",
       "    </tr>\n",
       "    <tr>\n",
       "      <th>159748</th>\n",
       "      <td>2020984 Database Developer – Database Architec...</td>\n",
       "      <td>Up to 215000 a year</td>\n",
       "      <td> Design and develop Oracle database objects t...</td>\n",
       "      <td>215000.0</td>\n",
       "    </tr>\n",
       "    <tr>\n",
       "      <th>166660</th>\n",
       "      <td>Data Analyst</td>\n",
       "      <td>Up to 100 an hour</td>\n",
       "      <td>Responsibilities will include applying knowled...</td>\n",
       "      <td>200000.0</td>\n",
       "    </tr>\n",
       "    <tr>\n",
       "      <th>169006</th>\n",
       "      <td>Data Scientist</td>\n",
       "      <td>250000 - 375000 a year</td>\n",
       "      <td>We’re using rich customer insights, advanced t...</td>\n",
       "      <td>250000.0</td>\n",
       "    </tr>\n",
       "    <tr>\n",
       "      <th>169691</th>\n",
       "      <td>Sr Director - Artificial Intelligence Edge Inf...</td>\n",
       "      <td>200651 - 240000 a year</td>\n",
       "      <td>He/she will be a clear, open, and effective co...</td>\n",
       "      <td>200651.0</td>\n",
       "    </tr>\n",
       "    <tr>\n",
       "      <th>169703</th>\n",
       "      <td>Machine Learning Engineer Principal</td>\n",
       "      <td>200000 a year</td>\n",
       "      <td>These development efforts will generally be sm...</td>\n",
       "      <td>200000.0</td>\n",
       "    </tr>\n",
       "    <tr>\n",
       "      <th>173399</th>\n",
       "      <td>Sr. Project Director / Program Manager/Archite...</td>\n",
       "      <td>100 - 110 an hour</td>\n",
       "      <td>Work with other IT departments and stakeholder...</td>\n",
       "      <td>200000.0</td>\n",
       "    </tr>\n",
       "    <tr>\n",
       "      <th>174524</th>\n",
       "      <td>AWS Cloud Architect</td>\n",
       "      <td>125 - 150 an hour</td>\n",
       "      <td>Analyze cloud implementations and provide reco...</td>\n",
       "      <td>250000.0</td>\n",
       "    </tr>\n",
       "    <tr>\n",
       "      <th>177107</th>\n",
       "      <td>Windows System Engineer / Solutions Architect ...</td>\n",
       "      <td>Up to 100 an hour</td>\n",
       "      <td>The ideal team member will dive into learning ...</td>\n",
       "      <td>200000.0</td>\n",
       "    </tr>\n",
       "    <tr>\n",
       "      <th>177623</th>\n",
       "      <td>Senior Director of Bioinformatics</td>\n",
       "      <td>From 200000 a year</td>\n",
       "      <td>This role will partner with software engineers...</td>\n",
       "      <td>200000.0</td>\n",
       "    </tr>\n",
       "    <tr>\n",
       "      <th>178175</th>\n",
       "      <td>$100/hr &amp; $170k Sr. Azure Architect | 100% Rem...</td>\n",
       "      <td>110 an hour</td>\n",
       "      <td>Minimum of 3+ years in a solution architecture...</td>\n",
       "      <td>220000.0</td>\n",
       "    </tr>\n",
       "    <tr>\n",
       "      <th>178464</th>\n",
       "      <td>Systems Architect</td>\n",
       "      <td>200000 - 250000 a year</td>\n",
       "      <td>Together they enable clients to drill faster a...</td>\n",
       "      <td>200000.0</td>\n",
       "    </tr>\n",
       "    <tr>\n",
       "      <th>178901</th>\n",
       "      <td>Project Manager</td>\n",
       "      <td>200000 a year</td>\n",
       "      <td>Soliel specializes in the design, development,...</td>\n",
       "      <td>200000.0</td>\n",
       "    </tr>\n",
       "    <tr>\n",
       "      <th>180429</th>\n",
       "      <td>Director of Surgical Services Interim / Perm</td>\n",
       "      <td>208000 - 210000 a year</td>\n",
       "      <td>Strong technical understanding of the field's ...</td>\n",
       "      <td>208000.0</td>\n",
       "    </tr>\n",
       "    <tr>\n",
       "      <th>181596</th>\n",
       "      <td>Senior Technical Consultant</td>\n",
       "      <td>104 - 105 an hour</td>\n",
       "      <td>Technical lead/system analyst/software develop...</td>\n",
       "      <td>208000.0</td>\n",
       "    </tr>\n",
       "    <tr>\n",
       "      <th>182093</th>\n",
       "      <td>Outside Sales Representative - Comfort Advisor</td>\n",
       "      <td>200000 a year</td>\n",
       "      <td>§ Conduct needs analysis, measure and perform ...</td>\n",
       "      <td>200000.0</td>\n",
       "    </tr>\n",
       "    <tr>\n",
       "      <th>182134</th>\n",
       "      <td>Chief Technical Officer CTO</td>\n",
       "      <td>200000 - 250000 a year</td>\n",
       "      <td>We are looking for a talented technical leader...</td>\n",
       "      <td>200000.0</td>\n",
       "    </tr>\n",
       "    <tr>\n",
       "      <th>182209</th>\n",
       "      <td>Software Engineering Manager, Site Reliability...</td>\n",
       "      <td>200000 a year</td>\n",
       "      <td>Proactively work with engineering leadership, ...</td>\n",
       "      <td>200000.0</td>\n",
       "    </tr>\n",
       "    <tr>\n",
       "      <th>185324</th>\n",
       "      <td>Director, Account Strategy &amp; Corporate Develop...</td>\n",
       "      <td>500000 a year</td>\n",
       "      <td>Primary lead and contributor to the strategy d...</td>\n",
       "      <td>500000.0</td>\n",
       "    </tr>\n",
       "    <tr>\n",
       "      <th>185831</th>\n",
       "      <td>Vice President Sales, Profile Extrusion</td>\n",
       "      <td>200000 - 275000 a year</td>\n",
       "      <td>Strong technical knowledge of extrusions and t...</td>\n",
       "      <td>200000.0</td>\n",
       "    </tr>\n",
       "    <tr>\n",
       "      <th>190112</th>\n",
       "      <td>Marketing Sales Specialist - Funding Specialist</td>\n",
       "      <td>Up to 250000 a year</td>\n",
       "      <td>Overcoming technical and business objections o...</td>\n",
       "      <td>250000.0</td>\n",
       "    </tr>\n",
       "    <tr>\n",
       "      <th>191020</th>\n",
       "      <td>Co-Director/Scientific Editor</td>\n",
       "      <td>100 - 150 an hour</td>\n",
       "      <td>Must possess the experience and ability to pre...</td>\n",
       "      <td>200000.0</td>\n",
       "    </tr>\n",
       "    <tr>\n",
       "      <th>191471</th>\n",
       "      <td>Lead Software Engineer</td>\n",
       "      <td>106 an hour</td>\n",
       "      <td>Comfortable interacting with customers and ven...</td>\n",
       "      <td>212000.0</td>\n",
       "    </tr>\n",
       "    <tr>\n",
       "      <th>191625</th>\n",
       "      <td>Chief Technology Officer</td>\n",
       "      <td>205000 - 210000 a year</td>\n",
       "      <td>Maintain strong technical relationships with t...</td>\n",
       "      <td>205000.0</td>\n",
       "    </tr>\n",
       "    <tr>\n",
       "      <th>193773</th>\n",
       "      <td>Project Manager - Potable - Private</td>\n",
       "      <td>300000 a year</td>\n",
       "      <td>Assists with pre-positioning strategies; ident...</td>\n",
       "      <td>300000.0</td>\n",
       "    </tr>\n",
       "    <tr>\n",
       "      <th>195174</th>\n",
       "      <td>Chief Medical Officer</td>\n",
       "      <td>215000 - 280000 a year</td>\n",
       "      <td>Understand written and oral instructions of a ...</td>\n",
       "      <td>215000.0</td>\n",
       "    </tr>\n",
       "    <tr>\n",
       "      <th>196713</th>\n",
       "      <td>Customer Experience CX Digital Lead</td>\n",
       "      <td>105 - 107 an hour</td>\n",
       "      <td>They dont want someone with technical backgrou...</td>\n",
       "      <td>210000.0</td>\n",
       "    </tr>\n",
       "    <tr>\n",
       "      <th>197450</th>\n",
       "      <td>Solutions Architect – Network Team Lead</td>\n",
       "      <td>Up to 100 an hour</td>\n",
       "      <td>Provide technical support, strategy and though...</td>\n",
       "      <td>200000.0</td>\n",
       "    </tr>\n",
       "    <tr>\n",
       "      <th>198116</th>\n",
       "      <td>Construction Project Manager</td>\n",
       "      <td>200000 a year</td>\n",
       "      <td>This position requires experience with contrac...</td>\n",
       "      <td>200000.0</td>\n",
       "    </tr>\n",
       "    <tr>\n",
       "      <th>198544</th>\n",
       "      <td>Regional Sales Director</td>\n",
       "      <td>200000 - 300000 a year</td>\n",
       "      <td>At least 5 years of experience in sales with a...</td>\n",
       "      <td>200000.0</td>\n",
       "    </tr>\n",
       "    <tr>\n",
       "      <th>198672</th>\n",
       "      <td>Vlocity COE Lead - Remote working USA</td>\n",
       "      <td>200000 a year</td>\n",
       "      <td>You will help to develop product specification...</td>\n",
       "      <td>200000.0</td>\n",
       "    </tr>\n",
       "    <tr>\n",
       "      <th>198683</th>\n",
       "      <td>Chief Underwriting Officer, Stop Loss &amp; Health...</td>\n",
       "      <td>200000 - 295000 a year</td>\n",
       "      <td>Develop technical underwriting guidelines in c...</td>\n",
       "      <td>200000.0</td>\n",
       "    </tr>\n",
       "    <tr>\n",
       "      <th>202657</th>\n",
       "      <td>Director, Pharmacometrician</td>\n",
       "      <td>200000 - 225000 a year</td>\n",
       "      <td>Ability to interpret a range of model types an...</td>\n",
       "      <td>200000.0</td>\n",
       "    </tr>\n",
       "    <tr>\n",
       "      <th>204631</th>\n",
       "      <td>Director of Engineering for ClassDojo</td>\n",
       "      <td>Up to 210000 a year</td>\n",
       "      <td>Lead and collaborate product manager, designer...</td>\n",
       "      <td>210000.0</td>\n",
       "    </tr>\n",
       "    <tr>\n",
       "      <th>205386</th>\n",
       "      <td>ERP Project Manager</td>\n",
       "      <td>135 an hour</td>\n",
       "      <td>Develops procurement and technical specificati...</td>\n",
       "      <td>270000.0</td>\n",
       "    </tr>\n",
       "    <tr>\n",
       "      <th>206118</th>\n",
       "      <td>Software Engineering Manager, Site Reliability...</td>\n",
       "      <td>200000 a year</td>\n",
       "      <td>Proactively work with engineering leadership, ...</td>\n",
       "      <td>200000.0</td>\n",
       "    </tr>\n",
       "    <tr>\n",
       "      <th>206348</th>\n",
       "      <td>Technical Lead Virginia</td>\n",
       "      <td>110 - 120 an hour</td>\n",
       "      <td>Seeking strong Technical Lead responsible for ...</td>\n",
       "      <td>220000.0</td>\n",
       "    </tr>\n",
       "    <tr>\n",
       "      <th>207152</th>\n",
       "      <td>Director, Software Engineering</td>\n",
       "      <td>241000 - 315000 a year</td>\n",
       "      <td>Strong technical background that allows you to...</td>\n",
       "      <td>241000.0</td>\n",
       "    </tr>\n",
       "    <tr>\n",
       "      <th>209458</th>\n",
       "      <td>Infrastructure Solutions Architects</td>\n",
       "      <td>100 - 125 an hour</td>\n",
       "      <td>Ability to work closely with client/applicatio...</td>\n",
       "      <td>200000.0</td>\n",
       "    </tr>\n",
       "    <tr>\n",
       "      <th>210139</th>\n",
       "      <td>Software Engineering Manager, Site Reliability...</td>\n",
       "      <td>200000 a year</td>\n",
       "      <td>The Site Reliability Engineering(SRE) organiza...</td>\n",
       "      <td>200000.0</td>\n",
       "    </tr>\n",
       "    <tr>\n",
       "      <th>210392</th>\n",
       "      <td>Software Engineering Manager, Site Reliability...</td>\n",
       "      <td>200000 a year</td>\n",
       "      <td>The Site Reliability Engineering(SRE) organiza...</td>\n",
       "      <td>200000.0</td>\n",
       "    </tr>\n",
       "    <tr>\n",
       "      <th>210643</th>\n",
       "      <td>Software Engineering Manager, Site Reliability...</td>\n",
       "      <td>200000 a year</td>\n",
       "      <td>The Site Reliability Engineering(SRE) organiza...</td>\n",
       "      <td>200000.0</td>\n",
       "    </tr>\n",
       "    <tr>\n",
       "      <th>210840</th>\n",
       "      <td>Software Engineering Manager, Site Reliability...</td>\n",
       "      <td>200000 a year</td>\n",
       "      <td>The Site Reliability Engineering(SRE) organiza...</td>\n",
       "      <td>200000.0</td>\n",
       "    </tr>\n",
       "    <tr>\n",
       "      <th>211241</th>\n",
       "      <td>Sr. Project Director / Program Manager/Archite...</td>\n",
       "      <td>100 - 110 an hour</td>\n",
       "      <td>Fluency in agile methods, e.g., Scrum or Kanba...</td>\n",
       "      <td>200000.0</td>\n",
       "    </tr>\n",
       "  </tbody>\n",
       "</table>\n",
       "</div>"
      ],
      "text/plain": [
       "                                                     role  \\\n",
       "150971                Solution Architect Digital Channels   \n",
       "154747  Principal Front End Engineer | Low Latency Tra...   \n",
       "154750  Principal Software Engineer (PostgreSQL) | Low...   \n",
       "156643                                 Senior UX Designer   \n",
       "157572                  Senior Director of Bioinformatics   \n",
       "158962                                  Systems Architect   \n",
       "159070                           Data Warehouse Architect   \n",
       "159748  2020984 Database Developer – Database Architec...   \n",
       "166660                                       Data Analyst   \n",
       "169006                                     Data Scientist   \n",
       "169691  Sr Director - Artificial Intelligence Edge Inf...   \n",
       "169703                Machine Learning Engineer Principal   \n",
       "173399  Sr. Project Director / Program Manager/Archite...   \n",
       "174524                                AWS Cloud Architect   \n",
       "177107  Windows System Engineer / Solutions Architect ...   \n",
       "177623                  Senior Director of Bioinformatics   \n",
       "178175  $100/hr & $170k Sr. Azure Architect | 100% Rem...   \n",
       "178464                                  Systems Architect   \n",
       "178901                                    Project Manager   \n",
       "180429       Director of Surgical Services Interim / Perm   \n",
       "181596                        Senior Technical Consultant   \n",
       "182093     Outside Sales Representative - Comfort Advisor   \n",
       "182134                        Chief Technical Officer CTO   \n",
       "182209  Software Engineering Manager, Site Reliability...   \n",
       "185324  Director, Account Strategy & Corporate Develop...   \n",
       "185831            Vice President Sales, Profile Extrusion   \n",
       "190112    Marketing Sales Specialist - Funding Specialist   \n",
       "191020                      Co-Director/Scientific Editor   \n",
       "191471                             Lead Software Engineer   \n",
       "191625                           Chief Technology Officer   \n",
       "193773                Project Manager - Potable - Private   \n",
       "195174                              Chief Medical Officer   \n",
       "196713                Customer Experience CX Digital Lead   \n",
       "197450            Solutions Architect – Network Team Lead   \n",
       "198116                       Construction Project Manager   \n",
       "198544                            Regional Sales Director   \n",
       "198672              Vlocity COE Lead - Remote working USA   \n",
       "198683  Chief Underwriting Officer, Stop Loss & Health...   \n",
       "202657                        Director, Pharmacometrician   \n",
       "204631              Director of Engineering for ClassDojo   \n",
       "205386                                ERP Project Manager   \n",
       "206118  Software Engineering Manager, Site Reliability...   \n",
       "206348                            Technical Lead Virginia   \n",
       "207152                     Director, Software Engineering   \n",
       "209458                Infrastructure Solutions Architects   \n",
       "210139  Software Engineering Manager, Site Reliability...   \n",
       "210392  Software Engineering Manager, Site Reliability...   \n",
       "210643  Software Engineering Manager, Site Reliability...   \n",
       "210840  Software Engineering Manager, Site Reliability...   \n",
       "211241  Sr. Project Director / Program Manager/Archite...   \n",
       "\n",
       "                           pay  \\\n",
       "150971       100 - 110 an hour   \n",
       "154747           250000 a year   \n",
       "154750           250000 a year   \n",
       "156643           200000 a year   \n",
       "157572      From 200000 a year   \n",
       "158962  200000 - 250000 a year   \n",
       "159070             120 an hour   \n",
       "159748     Up to 215000 a year   \n",
       "166660       Up to 100 an hour   \n",
       "169006  250000 - 375000 a year   \n",
       "169691  200651 - 240000 a year   \n",
       "169703           200000 a year   \n",
       "173399       100 - 110 an hour   \n",
       "174524       125 - 150 an hour   \n",
       "177107       Up to 100 an hour   \n",
       "177623      From 200000 a year   \n",
       "178175             110 an hour   \n",
       "178464  200000 - 250000 a year   \n",
       "178901           200000 a year   \n",
       "180429  208000 - 210000 a year   \n",
       "181596       104 - 105 an hour   \n",
       "182093           200000 a year   \n",
       "182134  200000 - 250000 a year   \n",
       "182209           200000 a year   \n",
       "185324           500000 a year   \n",
       "185831  200000 - 275000 a year   \n",
       "190112     Up to 250000 a year   \n",
       "191020       100 - 150 an hour   \n",
       "191471             106 an hour   \n",
       "191625  205000 - 210000 a year   \n",
       "193773           300000 a year   \n",
       "195174  215000 - 280000 a year   \n",
       "196713       105 - 107 an hour   \n",
       "197450       Up to 100 an hour   \n",
       "198116           200000 a year   \n",
       "198544  200000 - 300000 a year   \n",
       "198672           200000 a year   \n",
       "198683  200000 - 295000 a year   \n",
       "202657  200000 - 225000 a year   \n",
       "204631     Up to 210000 a year   \n",
       "205386             135 an hour   \n",
       "206118           200000 a year   \n",
       "206348       110 - 120 an hour   \n",
       "207152  241000 - 315000 a year   \n",
       "209458       100 - 125 an hour   \n",
       "210139           200000 a year   \n",
       "210392           200000 a year   \n",
       "210643           200000 a year   \n",
       "210840           200000 a year   \n",
       "211241       100 - 110 an hour   \n",
       "\n",
       "                                                  details  floor_pay_yearly  \n",
       "150971  Inclusive of this is gathering a deep understa...          200000.0  \n",
       "154747  Freedom and support to define best practice an...          250000.0  \n",
       "154750  Freedom and support to define best practice an...          250000.0  \n",
       "156643  You have a deep background in complex data pro...          200000.0  \n",
       "157572  This role will partner with software engineers...          200000.0  \n",
       "158962  Together they enable clients to drill faster a...          200000.0  \n",
       "159070  Deep understanding of data warehouse and star ...          240000.0  \n",
       "159748   Design and develop Oracle database objects t...          215000.0  \n",
       "166660  Responsibilities will include applying knowled...          200000.0  \n",
       "169006  We’re using rich customer insights, advanced t...          250000.0  \n",
       "169691  He/she will be a clear, open, and effective co...          200651.0  \n",
       "169703  These development efforts will generally be sm...          200000.0  \n",
       "173399  Work with other IT departments and stakeholder...          200000.0  \n",
       "174524  Analyze cloud implementations and provide reco...          250000.0  \n",
       "177107  The ideal team member will dive into learning ...          200000.0  \n",
       "177623  This role will partner with software engineers...          200000.0  \n",
       "178175  Minimum of 3+ years in a solution architecture...          220000.0  \n",
       "178464  Together they enable clients to drill faster a...          200000.0  \n",
       "178901  Soliel specializes in the design, development,...          200000.0  \n",
       "180429  Strong technical understanding of the field's ...          208000.0  \n",
       "181596  Technical lead/system analyst/software develop...          208000.0  \n",
       "182093  § Conduct needs analysis, measure and perform ...          200000.0  \n",
       "182134  We are looking for a talented technical leader...          200000.0  \n",
       "182209  Proactively work with engineering leadership, ...          200000.0  \n",
       "185324  Primary lead and contributor to the strategy d...          500000.0  \n",
       "185831  Strong technical knowledge of extrusions and t...          200000.0  \n",
       "190112  Overcoming technical and business objections o...          250000.0  \n",
       "191020  Must possess the experience and ability to pre...          200000.0  \n",
       "191471  Comfortable interacting with customers and ven...          212000.0  \n",
       "191625  Maintain strong technical relationships with t...          205000.0  \n",
       "193773  Assists with pre-positioning strategies; ident...          300000.0  \n",
       "195174  Understand written and oral instructions of a ...          215000.0  \n",
       "196713  They dont want someone with technical backgrou...          210000.0  \n",
       "197450  Provide technical support, strategy and though...          200000.0  \n",
       "198116  This position requires experience with contrac...          200000.0  \n",
       "198544  At least 5 years of experience in sales with a...          200000.0  \n",
       "198672  You will help to develop product specification...          200000.0  \n",
       "198683  Develop technical underwriting guidelines in c...          200000.0  \n",
       "202657  Ability to interpret a range of model types an...          200000.0  \n",
       "204631  Lead and collaborate product manager, designer...          210000.0  \n",
       "205386  Develops procurement and technical specificati...          270000.0  \n",
       "206118  Proactively work with engineering leadership, ...          200000.0  \n",
       "206348  Seeking strong Technical Lead responsible for ...          220000.0  \n",
       "207152  Strong technical background that allows you to...          241000.0  \n",
       "209458  Ability to work closely with client/applicatio...          200000.0  \n",
       "210139  The Site Reliability Engineering(SRE) organiza...          200000.0  \n",
       "210392  The Site Reliability Engineering(SRE) organiza...          200000.0  \n",
       "210643  The Site Reliability Engineering(SRE) organiza...          200000.0  \n",
       "210840  The Site Reliability Engineering(SRE) organiza...          200000.0  \n",
       "211241  Fluency in agile methods, e.g., Scrum or Kanba...          200000.0  "
      ]
     },
     "execution_count": 91,
     "metadata": {},
     "output_type": "execute_result"
    }
   ],
   "source": [
    "jobs[['role', 'pay', 'details', 'floor_pay_yearly']][jobs['floor_pay_yearly'] >= 200000][100:150]"
   ]
  },
  {
   "cell_type": "markdown",
   "metadata": {},
   "source": [
    "Upon closer inspection, it seems that some medical industry jobs sneaked into the search. Although they aren't many, they don't fit into the analysis and some of them are paid well enough to be outliers. Some are also sales jobs which do not apply.They will be removed."
   ]
  },
  {
   "cell_type": "code",
   "execution_count": 109,
   "metadata": {},
   "outputs": [],
   "source": [
    "jobs = jobs.drop(jobs[jobs['role']\n",
    "                 .str.contains(\n",
    "                     'Physician|Radiologist|Psychiatrist|Medical Director|Sales[^Salesforce]'\n",
    "                 )].index)"
   ]
  },
  {
   "cell_type": "code",
   "execution_count": 115,
   "metadata": {},
   "outputs": [
    {
     "data": {
      "text/html": [
       "<div>\n",
       "<style scoped>\n",
       "    .dataframe tbody tr th:only-of-type {\n",
       "        vertical-align: middle;\n",
       "    }\n",
       "\n",
       "    .dataframe tbody tr th {\n",
       "        vertical-align: top;\n",
       "    }\n",
       "\n",
       "    .dataframe thead th {\n",
       "        text-align: right;\n",
       "    }\n",
       "</style>\n",
       "<table border=\"1\" class=\"dataframe\">\n",
       "  <thead>\n",
       "    <tr style=\"text-align: right;\">\n",
       "      <th></th>\n",
       "      <th>role</th>\n",
       "      <th>company</th>\n",
       "      <th>location</th>\n",
       "      <th>pay</th>\n",
       "      <th>remote</th>\n",
       "      <th>details</th>\n",
       "      <th>job_post_age</th>\n",
       "      <th>search_field</th>\n",
       "      <th>yearly</th>\n",
       "      <th>floor_pay_yearly</th>\n",
       "      <th>ceiling_pay_yearly</th>\n",
       "      <th>monthly</th>\n",
       "      <th>hourly</th>\n",
       "    </tr>\n",
       "  </thead>\n",
       "  <tbody>\n",
       "    <tr>\n",
       "      <th>19916</th>\n",
       "      <td>Call For Virtual Workshop Presenters (Healthy ...</td>\n",
       "      <td>Ten Spot</td>\n",
       "      <td>New York, NY 10001 (Chelsea area)</td>\n",
       "      <td>150 - 200 an hour</td>\n",
       "      <td>1</td>\n",
       "      <td>We are seeking Live Virtual Workshop Presenter...</td>\n",
       "      <td>20</td>\n",
       "      <td>Content Manager</td>\n",
       "      <td></td>\n",
       "      <td>300000.0</td>\n",
       "      <td>400000.0</td>\n",
       "      <td>NaN</td>\n",
       "      <td>150-200</td>\n",
       "    </tr>\n",
       "    <tr>\n",
       "      <th>19999</th>\n",
       "      <td>Chief Marketing Officer</td>\n",
       "      <td>Access Staffing LLC</td>\n",
       "      <td>New York, NY 10017 (Murray Hill area)</td>\n",
       "      <td>350000 - 500000 a year</td>\n",
       "      <td>0</td>\n",
       "      <td>Execute and assess integrated multi- channel d...</td>\n",
       "      <td>30</td>\n",
       "      <td>Content Manager</td>\n",
       "      <td>350000-500000</td>\n",
       "      <td>350000.0</td>\n",
       "      <td>500000.0</td>\n",
       "      <td>NaN</td>\n",
       "      <td>NaN</td>\n",
       "    </tr>\n",
       "    <tr>\n",
       "      <th>20016</th>\n",
       "      <td>Global Product Management Leader | eCommerce</td>\n",
       "      <td>Glocomms</td>\n",
       "      <td>New York, NY</td>\n",
       "      <td>300000 a year</td>\n",
       "      <td>0</td>\n",
       "      <td>Collaborate with Product Management, Engineeri...</td>\n",
       "      <td>21</td>\n",
       "      <td>Content Manager</td>\n",
       "      <td>300000</td>\n",
       "      <td>300000.0</td>\n",
       "      <td>300000.0</td>\n",
       "      <td>NaN</td>\n",
       "      <td>NaN</td>\n",
       "    </tr>\n",
       "    <tr>\n",
       "      <th>185324</th>\n",
       "      <td>Director, Account Strategy &amp; Corporate Develop...</td>\n",
       "      <td>Boys &amp; Girls Clubs of America</td>\n",
       "      <td>Atlanta, GA 30309 (Midtown area)</td>\n",
       "      <td>500000 a year</td>\n",
       "      <td>0</td>\n",
       "      <td>Primary lead and contributor to the strategy d...</td>\n",
       "      <td>30</td>\n",
       "      <td>Technical Lead</td>\n",
       "      <td>500000</td>\n",
       "      <td>500000.0</td>\n",
       "      <td>500000.0</td>\n",
       "      <td>NaN</td>\n",
       "      <td>NaN</td>\n",
       "    </tr>\n",
       "    <tr>\n",
       "      <th>193773</th>\n",
       "      <td>Project Manager - Potable - Private</td>\n",
       "      <td>HR Green</td>\n",
       "      <td>Saint Paul, MN 55114 (St. Anthony area)</td>\n",
       "      <td>300000 a year</td>\n",
       "      <td>0</td>\n",
       "      <td>Assists with pre-positioning strategies; ident...</td>\n",
       "      <td>30</td>\n",
       "      <td>Technical Lead</td>\n",
       "      <td>300000</td>\n",
       "      <td>300000.0</td>\n",
       "      <td>300000.0</td>\n",
       "      <td>NaN</td>\n",
       "      <td>NaN</td>\n",
       "    </tr>\n",
       "  </tbody>\n",
       "</table>\n",
       "</div>"
      ],
      "text/plain": [
       "                                                     role  \\\n",
       "19916   Call For Virtual Workshop Presenters (Healthy ...   \n",
       "19999                             Chief Marketing Officer   \n",
       "20016        Global Product Management Leader | eCommerce   \n",
       "185324  Director, Account Strategy & Corporate Develop...   \n",
       "193773                Project Manager - Potable - Private   \n",
       "\n",
       "                              company  \\\n",
       "19916                        Ten Spot   \n",
       "19999             Access Staffing LLC   \n",
       "20016                        Glocomms   \n",
       "185324  Boys & Girls Clubs of America   \n",
       "193773                       HR Green   \n",
       "\n",
       "                                       location                     pay  \\\n",
       "19916         New York, NY 10001 (Chelsea area)       150 - 200 an hour   \n",
       "19999     New York, NY 10017 (Murray Hill area)  350000 - 500000 a year   \n",
       "20016                              New York, NY           300000 a year   \n",
       "185324         Atlanta, GA 30309 (Midtown area)           500000 a year   \n",
       "193773  Saint Paul, MN 55114 (St. Anthony area)           300000 a year   \n",
       "\n",
       "        remote                                            details  \\\n",
       "19916        1  We are seeking Live Virtual Workshop Presenter...   \n",
       "19999        0  Execute and assess integrated multi- channel d...   \n",
       "20016        0  Collaborate with Product Management, Engineeri...   \n",
       "185324       0  Primary lead and contributor to the strategy d...   \n",
       "193773       0  Assists with pre-positioning strategies; ident...   \n",
       "\n",
       "        job_post_age     search_field         yearly  floor_pay_yearly  \\\n",
       "19916             20  Content Manager                         300000.0   \n",
       "19999             30  Content Manager  350000-500000          350000.0   \n",
       "20016             21  Content Manager         300000          300000.0   \n",
       "185324            30   Technical Lead         500000          500000.0   \n",
       "193773            30   Technical Lead         300000          300000.0   \n",
       "\n",
       "        ceiling_pay_yearly monthly   hourly  \n",
       "19916             400000.0     NaN  150-200  \n",
       "19999             500000.0     NaN      NaN  \n",
       "20016             300000.0     NaN      NaN  \n",
       "185324            500000.0     NaN      NaN  \n",
       "193773            300000.0     NaN      NaN  "
      ]
     },
     "execution_count": 115,
     "metadata": {},
     "output_type": "execute_result"
    }
   ],
   "source": [
    "jobs[jobs['floor_pay_yearly'] >= 300000]"
   ]
  },
  {
   "cell_type": "markdown",
   "metadata": {},
   "source": [
    "The jobs with \\$500000 per year pay ceilings will be removed, as they are pretty extreme outliers"
   ]
  },
  {
   "cell_type": "code",
   "execution_count": 118,
   "metadata": {},
   "outputs": [],
   "source": [
    "jobs = jobs.drop([19999, 185324])"
   ]
  },
  {
   "cell_type": "code",
   "execution_count": 119,
   "metadata": {},
   "outputs": [
    {
     "data": {
      "text/plain": [
       "count     33748.000000\n",
       "mean      68617.178796\n",
       "std       34421.741163\n",
       "min        9600.000000\n",
       "25%       41000.000000\n",
       "50%       61131.000000\n",
       "75%       90000.000000\n",
       "max      300000.000000\n",
       "Name: floor_pay_yearly, dtype: float64"
      ]
     },
     "execution_count": 119,
     "metadata": {},
     "output_type": "execute_result"
    }
   ],
   "source": [
    "jobs['floor_pay_yearly'].describe()"
   ]
  },
  {
   "cell_type": "markdown",
   "metadata": {},
   "source": [
    "The lower range of pay is a minimum of 9600 a year, this still seems strange. Jobs with a salary less than 20000 will be dropped"
   ]
  },
  {
   "cell_type": "code",
   "execution_count": 135,
   "metadata": {},
   "outputs": [],
   "source": [
    "jobs = jobs.drop(jobs[jobs['floor_pay_yearly'] < 20000].index)"
   ]
  },
  {
   "cell_type": "code",
   "execution_count": 243,
   "metadata": {},
   "outputs": [
    {
     "name": "stdout",
     "output_type": "stream",
     "text": [
      "69175.25029201234\n"
     ]
    },
    {
     "data": {
      "image/png": "[encoded data removed]",
      "text/plain": [
       "<Figure size 576x396 with 1 Axes>"
      ]
     },
     "metadata": {},
     "output_type": "display_data"
    }
   ],
   "source": [
    "print(jobs['floor_pay_yearly'].mean())\n",
    "jobs['floor_pay_yearly'].plot.hist(bins=60);"
   ]
  },
  {
   "cell_type": "code",
   "execution_count": 244,
   "metadata": {},
   "outputs": [
    {
     "name": "stdout",
     "output_type": "stream",
     "text": [
      "87971.73694929467\n"
     ]
    },
    {
     "data": {
      "image/png": "[encoded data removed]",
      "text/plain": [
       "<Figure size 576x396 with 1 Axes>"
      ]
     },
     "metadata": {},
     "output_type": "display_data"
    }
   ],
   "source": [
    "print(jobs['ceiling_pay_yearly'].mean())\n",
    "jobs['ceiling_pay_yearly'].plot.hist(bins=60);"
   ]
  },
  {
   "cell_type": "raw",
   "metadata": {},
   "source": [
    "Since the distributions are right skewed with a somewhat large scale, log transformation can be used to get a more accurate representation of the mean pay floor and ceiling"
   ]
  },
  {
   "cell_type": "code",
   "execution_count": 253,
   "metadata": {},
   "outputs": [
    {
     "data": {
      "image/png": "[encoded data removed]",
      "text/plain": [
       "<Figure size 1080x360 with 2 Axes>"
      ]
     },
     "metadata": {},
     "output_type": "display_data"
    }
   ],
   "source": [
    "fig, axes = plt.subplots(1, 2, figsize=(15,5))\n",
    "n_bins = 25\n",
    "floor = np.log1p(jobs['floor_pay_yearly'])\n",
    "ceiling = np.log1p(jobs['ceiling_pay_yearly'])\n",
    "axes[0].hist(floor, bins=n_bins)\n",
    "axes[1].hist(ceiling, bins=n_bins)\n",
    "axes[0].set_title('Pay Floor (Log Transformed)')\n",
    "axes[1].set_title('Pay Ceiling (Log Transformed)')\n",
    "\n",
    "for ax in axes:\n",
    "    ax.grid(True)\n",
    "\n",
    "plt.show()"
   ]
  },
  {
   "cell_type": "code",
   "execution_count": 260,
   "metadata": {},
   "outputs": [
    {
     "name": "stdout",
     "output_type": "stream",
     "text": [
      "Average Pay Floor (Log Transformed): $61381.40588207277\n",
      "Average Pay Ceiling (Log Transformed): $77564.08024571718\n"
     ]
    }
   ],
   "source": [
    "print(f\"Average Pay Floor (Log Transformed): ${np.expm1(floor.mean())}\")\n",
    "print(f\"Average Pay Ceiling (Log Transformed): ${np.expm1(ceiling.mean())}\")"
   ]
  }
 ],
 "metadata": {
  "kernelspec": {
   "display_name": "Python3 (unit2)",
   "language": "python",
   "name": "unit2"
  },
  "language_info": {
   "codemirror_mode": {
    "name": "ipython",
    "version": 3
   },
   "file_extension": ".py",
   "mimetype": "text/x-python",
   "name": "python",
   "nbconvert_exporter": "python",
   "pygments_lexer": "ipython3",
   "version": "3.7.6"
  }
 },
 "nbformat": 4,
 "nbformat_minor": 4
}
