{
 "cells": [
  {
   "cell_type": "markdown",
   "metadata": {},
   "source": [
    "## Questions\n",
    "The data was completely collected on 2020-08-05\n",
    "\n",
    "What are the questions that I want to answer, given the data that I now have?\n",
    "- How many jobs are remote?\n",
    "- For jobs with pay range information, what is the average floor for each job category? Ceiling?\n",
    "- Is there a tendency for a particular job to be remote more than another?\n",
    "- What are the top 20 jobs that are being sought after?\n",
    "- When you remove very old posts (30+ days) how much do these figures change?\n",
    "    - what could be the reason for some of the older jobs hanging out on the job boards?\n",
    "- What are the top 20 companies really pushing to hire?\n",
    "- What are the top 20 locations that are hiring? Does it matter?\n",
    "\n",
    "This could be structured in the typical \"who, what, where, when\"\n",
    "- **Who** -> who are the companies that are recruiting the most?\n",
    "- **What** -> what are the jobs that are most sought after\n",
    "- **Where** -> what states are hiring the most people (with the understanding that a lot of work is remote, but this could change if restrictions begin to lift)\n",
    "- **When** -> are there less newer jobs (7 days or newer). Does it matter?\n",
    "\n",
    "### Extra \n",
    "- how many details are included in the job description snippet?\n",
    "- can we use LDA to extract the most commonly desired topics?"
   ]
  },
  {
   "cell_type": "code",
   "execution_count": 1,
   "metadata": {},
   "outputs": [],
   "source": [
    "import pandas as pd\n",
    "import numpy as np\n",
    "import matplotlib.pyplot as plt"
   ]
  },
  {
   "cell_type": "code",
   "execution_count": 138,
   "metadata": {},
   "outputs": [
    {
     "data": {
      "text/html": [
       "<div>\n",
       "<style scoped>\n",
       "    .dataframe tbody tr th:only-of-type {\n",
       "        vertical-align: middle;\n",
       "    }\n",
       "\n",
       "    .dataframe tbody tr th {\n",
       "        vertical-align: top;\n",
       "    }\n",
       "\n",
       "    .dataframe thead th {\n",
       "        text-align: right;\n",
       "    }\n",
       "</style>\n",
       "<table border=\"1\" class=\"dataframe\">\n",
       "  <thead>\n",
       "    <tr style=\"text-align: right;\">\n",
       "      <th></th>\n",
       "      <th>role</th>\n",
       "      <th>company</th>\n",
       "      <th>location</th>\n",
       "      <th>pay</th>\n",
       "      <th>remote</th>\n",
       "      <th>details</th>\n",
       "      <th>job_post_age</th>\n",
       "      <th>search_field</th>\n",
       "    </tr>\n",
       "  </thead>\n",
       "  <tbody>\n",
       "    <tr>\n",
       "      <th>0</th>\n",
       "      <td>Lead Software Engineer - eCommerce</td>\n",
       "      <td>COVETRUS INC</td>\n",
       "      <td>Birmingham, AL 35203</td>\n",
       "      <td>NaN</td>\n",
       "      <td>0</td>\n",
       "      <td>Our advanced web tools, client marketing progr...</td>\n",
       "      <td>30+ days ago</td>\n",
       "      <td>Marketing Technologist</td>\n",
       "    </tr>\n",
       "    <tr>\n",
       "      <th>1</th>\n",
       "      <td>Associate Director of UAA Student Web Experience</td>\n",
       "      <td>University of Alaska</td>\n",
       "      <td>Anchorage, AK 99508 (Rogers Park area)</td>\n",
       "      <td>NaN</td>\n",
       "      <td>0</td>\n",
       "      <td>Produces clear documentation for marketing pag...</td>\n",
       "      <td>30+ days ago</td>\n",
       "      <td>Marketing Technologist</td>\n",
       "    </tr>\n",
       "    <tr>\n",
       "      <th>2</th>\n",
       "      <td>Sales Support, Coronary Clinical Specialist - ...</td>\n",
       "      <td>Philips</td>\n",
       "      <td>Tucson, AZ</td>\n",
       "      <td>NaN</td>\n",
       "      <td>0</td>\n",
       "      <td>Supports marketing related trade shows and ven...</td>\n",
       "      <td>7 days ago</td>\n",
       "      <td>Marketing Technologist</td>\n",
       "    </tr>\n",
       "    <tr>\n",
       "      <th>3</th>\n",
       "      <td>Laboratory Operations Manager</td>\n",
       "      <td>Lighthouse Lab Services</td>\n",
       "      <td>Phoenix, AZ 85016 (Camelback East area)</td>\n",
       "      <td>NaN</td>\n",
       "      <td>0</td>\n",
       "      <td>Work with hospital strategy department and mar...</td>\n",
       "      <td>13 days ago</td>\n",
       "      <td>Marketing Technologist</td>\n",
       "    </tr>\n",
       "    <tr>\n",
       "      <th>4</th>\n",
       "      <td>Snr Key Account Technology Engineer I - EPI</td>\n",
       "      <td>ASM</td>\n",
       "      <td>Phoenix, AZ</td>\n",
       "      <td>NaN</td>\n",
       "      <td>0</td>\n",
       "      <td>Related work experience can include process en...</td>\n",
       "      <td>30+ days ago</td>\n",
       "      <td>Marketing Technologist</td>\n",
       "    </tr>\n",
       "  </tbody>\n",
       "</table>\n",
       "</div>"
      ],
      "text/plain": [
       "                                                role                  company  \\\n",
       "0                 Lead Software Engineer - eCommerce             COVETRUS INC   \n",
       "1   Associate Director of UAA Student Web Experience     University of Alaska   \n",
       "2  Sales Support, Coronary Clinical Specialist - ...                  Philips   \n",
       "3                      Laboratory Operations Manager  Lighthouse Lab Services   \n",
       "4        Snr Key Account Technology Engineer I - EPI                      ASM   \n",
       "\n",
       "                                  location  pay  remote  \\\n",
       "0                     Birmingham, AL 35203  NaN       0   \n",
       "1   Anchorage, AK 99508 (Rogers Park area)  NaN       0   \n",
       "2                               Tucson, AZ  NaN       0   \n",
       "3  Phoenix, AZ 85016 (Camelback East area)  NaN       0   \n",
       "4                              Phoenix, AZ  NaN       0   \n",
       "\n",
       "                                             details  job_post_age  \\\n",
       "0  Our advanced web tools, client marketing progr...  30+ days ago   \n",
       "1  Produces clear documentation for marketing pag...  30+ days ago   \n",
       "2  Supports marketing related trade shows and ven...    7 days ago   \n",
       "3  Work with hospital strategy department and mar...   13 days ago   \n",
       "4  Related work experience can include process en...  30+ days ago   \n",
       "\n",
       "             search_field  \n",
       "0  Marketing Technologist  \n",
       "1  Marketing Technologist  \n",
       "2  Marketing Technologist  \n",
       "3  Marketing Technologist  \n",
       "4  Marketing Technologist  "
      ]
     },
     "execution_count": 138,
     "metadata": {},
     "output_type": "execute_result"
    }
   ],
   "source": [
    "jobs = pd.read_csv('indeed_jobs.csv', sep='|')\n",
    "jobs.head()"
   ]
  },
  {
   "cell_type": "code",
   "execution_count": 139,
   "metadata": {},
   "outputs": [
    {
     "data": {
      "text/plain": [
       "(248009, 8)"
      ]
     },
     "execution_count": 139,
     "metadata": {},
     "output_type": "execute_result"
    }
   ],
   "source": [
    "jobs.shape"
   ]
  },
  {
   "cell_type": "markdown",
   "metadata": {},
   "source": [
    "### Clean Data\n",
    "\n",
    "Because I would like to use the job post age to understand the jobs in the context of removal of older jobs postings, I need to turn the column to integers."
   ]
  },
  {
   "cell_type": "code",
   "execution_count": 140,
   "metadata": {},
   "outputs": [
    {
     "data": {
      "text/plain": [
       "30+ days ago    120746\n",
       "0                11208\n",
       "1 day ago        10348\n",
       "5 days ago        8358\n",
       "6 days ago        8175\n",
       "7 days ago        7431\n",
       "2 days ago        6931\n",
       "8 days ago        6734\n",
       "13 days ago       5377\n",
       "12 days ago       5324\n",
       "14 days ago       4949\n",
       "9 days ago        4550\n",
       "15 days ago       4525\n",
       "20 days ago       3879\n",
       "19 days ago       3871\n",
       "21 days ago       3856\n",
       "22 days ago       3591\n",
       "28 days ago       3404\n",
       "26 days ago       3229\n",
       "16 days ago       3195\n",
       "4 days ago        3090\n",
       "27 days ago       3069\n",
       "23 days ago       2996\n",
       "29 days ago       2942\n",
       "11 days ago       1797\n",
       "18 days ago       1376\n",
       "25 days ago       1126\n",
       "3 days ago         768\n",
       "10 days ago        493\n",
       "17 days ago        371\n",
       "24 days ago        300\n",
       "Name: job_post_age, dtype: int64"
      ]
     },
     "execution_count": 140,
     "metadata": {},
     "output_type": "execute_result"
    }
   ],
   "source": [
    "jobs.loc[(jobs['job_post_age'] == 'Just posted') |\n",
    "         (jobs['job_post_age'] == 'Today'), 'job_post_age'] = '0'\n",
    "jobs['job_post_age'].value_counts()"
   ]
  },
  {
   "cell_type": "code",
   "execution_count": 141,
   "metadata": {},
   "outputs": [
    {
     "data": {
      "text/plain": [
       "role            object\n",
       "company         object\n",
       "location        object\n",
       "pay             object\n",
       "remote           int64\n",
       "details         object\n",
       "job_post_age     int64\n",
       "search_field    object\n",
       "dtype: object"
      ]
     },
     "execution_count": 141,
     "metadata": {},
     "output_type": "execute_result"
    }
   ],
   "source": [
    "jobs['job_post_age'] = jobs['job_post_age'].str.replace('[^0-9]', '')\n",
    "jobs['job_post_age'] = jobs['job_post_age'].astype(int)\n",
    "jobs.dtypes"
   ]
  },
  {
   "cell_type": "markdown",
   "metadata": {},
   "source": [
    "Before removing old jobs, what does the distribution of remote and non remote jobs look like? A '1' indicates a remote opportunity."
   ]
  },
  {
   "cell_type": "code",
   "execution_count": 142,
   "metadata": {},
   "outputs": [],
   "source": [
    "jobs['remote'] = jobs['remote'].astype(int)"
   ]
  },
  {
   "cell_type": "code",
   "execution_count": 143,
   "metadata": {},
   "outputs": [
    {
     "name": "stdout",
     "output_type": "stream",
     "text": [
      "0    0.876198\n",
      "1    0.123802\n",
      "Name: remote, dtype: float64\n"
     ]
    },
    {
     "data": {
      "image/png": "[encoded data removed]",
      "text/plain": [
       "<Figure size 432x288 with 1 Axes>"
      ]
     },
     "metadata": {
      "needs_background": "light"
     },
     "output_type": "display_data"
    }
   ],
   "source": [
    "print(jobs['remote'].value_counts(normalize=True))\n",
    "jobs['remote'].plot.hist();"
   ]
  },
  {
   "cell_type": "code",
   "execution_count": 144,
   "metadata": {},
   "outputs": [
    {
     "name": "stdout",
     "output_type": "stream",
     "text": [
      "0    0.840614\n",
      "1    0.159386\n",
      "Name: remote, dtype: float64\n"
     ]
    },
    {
     "data": {
      "image/png": "[encoded data removed]",
      "text/plain": [
       "<Figure size 432x288 with 1 Axes>"
      ]
     },
     "metadata": {
      "needs_background": "light"
     },
     "output_type": "display_data"
    }
   ],
   "source": [
    "recent_jobs = jobs[jobs['job_post_age'] < 30]\n",
    "print(recent_jobs['remote'].value_counts(normalize=True))\n",
    "recent_jobs['remote'].plot.hist(title=\"Remote Jobs Within This Month\");"
   ]
  },
  {
   "cell_type": "markdown",
   "metadata": {},
   "source": [
    "What about jobs within a week of collection?"
   ]
  },
  {
   "cell_type": "code",
   "execution_count": 145,
   "metadata": {},
   "outputs": [
    {
     "name": "stdout",
     "output_type": "stream",
     "text": [
      "0    0.833508\n",
      "1    0.166492\n",
      "Name: remote, dtype: float64\n"
     ]
    },
    {
     "data": {
      "image/png": "[encoded data removed]",
      "text/plain": [
       "<Figure size 432x288 with 1 Axes>"
      ]
     },
     "metadata": {
      "needs_background": "light"
     },
     "output_type": "display_data"
    }
   ],
   "source": [
    "recent_week = jobs[jobs['job_post_age'] <= 7]\n",
    "print(recent_week['remote'].value_counts(normalize=True))\n",
    "recent_week['remote'].plot.hist(title=\"Remote, Within 7 Days of Data Collection\");"
   ]
  },
  {
   "cell_type": "markdown",
   "metadata": {},
   "source": [
    "Roughly the same proportion of job opportunities are marked as remote on Indeed as I progressed from looking at all jobs to jobs posted within a week of data collection. It looks like remote jobs are either still not the norm, or it is not typical yet for a job on indeed to explicitly label itself as a remote possibility. Also, since it's the first time I've looked at this data, I have no means of gauging the change from not-remote to remote job opportunities."
   ]
  },
  {
   "cell_type": "markdown",
   "metadata": {},
   "source": [
    "### Pay Range Columns\n",
    "It would be ideal to create pay range columns for the individual pay ranges ('an hour', 'a month', 'a year'. excluding the smallest groups) in order to create two standardized yearly pay columns like so:\n",
    "\n",
    "|pay_floor|pay_ceiling|\n",
    "|---------|-----------|\n",
    "|50000    |90000      |\n",
    "|75000    |125345     |"
   ]
  },
  {
   "cell_type": "code",
   "execution_count": 146,
   "metadata": {},
   "outputs": [
    {
     "data": {
      "text/html": [
       "<div>\n",
       "<style scoped>\n",
       "    .dataframe tbody tr th:only-of-type {\n",
       "        vertical-align: middle;\n",
       "    }\n",
       "\n",
       "    .dataframe tbody tr th {\n",
       "        vertical-align: top;\n",
       "    }\n",
       "\n",
       "    .dataframe thead th {\n",
       "        text-align: right;\n",
       "    }\n",
       "</style>\n",
       "<table border=\"1\" class=\"dataframe\">\n",
       "  <thead>\n",
       "    <tr style=\"text-align: right;\">\n",
       "      <th></th>\n",
       "      <th>role</th>\n",
       "      <th>company</th>\n",
       "      <th>location</th>\n",
       "      <th>pay</th>\n",
       "      <th>remote</th>\n",
       "      <th>details</th>\n",
       "      <th>job_post_age</th>\n",
       "      <th>search_field</th>\n",
       "    </tr>\n",
       "  </thead>\n",
       "  <tbody>\n",
       "    <tr>\n",
       "      <th>0</th>\n",
       "      <td>Lead Software Engineer - eCommerce</td>\n",
       "      <td>COVETRUS INC</td>\n",
       "      <td>Birmingham, AL 35203</td>\n",
       "      <td>N/A</td>\n",
       "      <td>0</td>\n",
       "      <td>Our advanced web tools, client marketing progr...</td>\n",
       "      <td>30</td>\n",
       "      <td>Marketing Technologist</td>\n",
       "    </tr>\n",
       "    <tr>\n",
       "      <th>1</th>\n",
       "      <td>Associate Director of UAA Student Web Experience</td>\n",
       "      <td>University of Alaska</td>\n",
       "      <td>Anchorage, AK 99508 (Rogers Park area)</td>\n",
       "      <td>N/A</td>\n",
       "      <td>0</td>\n",
       "      <td>Produces clear documentation for marketing pag...</td>\n",
       "      <td>30</td>\n",
       "      <td>Marketing Technologist</td>\n",
       "    </tr>\n",
       "    <tr>\n",
       "      <th>2</th>\n",
       "      <td>Sales Support, Coronary Clinical Specialist - ...</td>\n",
       "      <td>Philips</td>\n",
       "      <td>Tucson, AZ</td>\n",
       "      <td>N/A</td>\n",
       "      <td>0</td>\n",
       "      <td>Supports marketing related trade shows and ven...</td>\n",
       "      <td>7</td>\n",
       "      <td>Marketing Technologist</td>\n",
       "    </tr>\n",
       "    <tr>\n",
       "      <th>3</th>\n",
       "      <td>Laboratory Operations Manager</td>\n",
       "      <td>Lighthouse Lab Services</td>\n",
       "      <td>Phoenix, AZ 85016 (Camelback East area)</td>\n",
       "      <td>N/A</td>\n",
       "      <td>0</td>\n",
       "      <td>Work with hospital strategy department and mar...</td>\n",
       "      <td>13</td>\n",
       "      <td>Marketing Technologist</td>\n",
       "    </tr>\n",
       "    <tr>\n",
       "      <th>4</th>\n",
       "      <td>Snr Key Account Technology Engineer I - EPI</td>\n",
       "      <td>ASM</td>\n",
       "      <td>Phoenix, AZ</td>\n",
       "      <td>N/A</td>\n",
       "      <td>0</td>\n",
       "      <td>Related work experience can include process en...</td>\n",
       "      <td>30</td>\n",
       "      <td>Marketing Technologist</td>\n",
       "    </tr>\n",
       "  </tbody>\n",
       "</table>\n",
       "</div>"
      ],
      "text/plain": [
       "                                                role                  company  \\\n",
       "0                 Lead Software Engineer - eCommerce             COVETRUS INC   \n",
       "1   Associate Director of UAA Student Web Experience     University of Alaska   \n",
       "2  Sales Support, Coronary Clinical Specialist - ...                  Philips   \n",
       "3                      Laboratory Operations Manager  Lighthouse Lab Services   \n",
       "4        Snr Key Account Technology Engineer I - EPI                      ASM   \n",
       "\n",
       "                                  location  pay  remote  \\\n",
       "0                     Birmingham, AL 35203  N/A       0   \n",
       "1   Anchorage, AK 99508 (Rogers Park area)  N/A       0   \n",
       "2                               Tucson, AZ  N/A       0   \n",
       "3  Phoenix, AZ 85016 (Camelback East area)  N/A       0   \n",
       "4                              Phoenix, AZ  N/A       0   \n",
       "\n",
       "                                             details  job_post_age  \\\n",
       "0  Our advanced web tools, client marketing progr...            30   \n",
       "1  Produces clear documentation for marketing pag...            30   \n",
       "2  Supports marketing related trade shows and ven...             7   \n",
       "3  Work with hospital strategy department and mar...            13   \n",
       "4  Related work experience can include process en...            30   \n",
       "\n",
       "             search_field  \n",
       "0  Marketing Technologist  \n",
       "1  Marketing Technologist  \n",
       "2  Marketing Technologist  \n",
       "3  Marketing Technologist  \n",
       "4  Marketing Technologist  "
      ]
     },
     "execution_count": 146,
     "metadata": {},
     "output_type": "execute_result"
    }
   ],
   "source": [
    "jobs['pay'] = jobs['pay'].fillna('N/A')\n",
    "jobs.head()"
   ]
  },
  {
   "cell_type": "code",
   "execution_count": 147,
   "metadata": {},
   "outputs": [],
   "source": [
    "jobs['pay'] = jobs['pay'].str.replace('$', '')\n",
    "jobs['pay'] = jobs['pay'].str.replace(',', '')"
   ]
  },
  {
   "cell_type": "markdown",
   "metadata": {},
   "source": [
    "In order to convert the ranges to floor and ceiling, i need to find out how many different categories of pay range there is (i.e. \"a year\", \"a week\", \"an hour\", etc...)"
   ]
  },
  {
   "cell_type": "code",
   "execution_count": 148,
   "metadata": {},
   "outputs": [
    {
     "name": "stderr",
     "output_type": "stream",
     "text": [
      "/home/jose/miniconda3/envs/unit2/lib/python3.7/site-packages/pandas/core/strings.py:1952: UserWarning: This pattern has match groups. To actually get the groups, use str.extract.\n",
      "  return func(self, *args, **kwargs)\n"
     ]
    },
    {
     "data": {
      "text/plain": [
       "ayear     18128\n",
       "anhour     7344\n",
       "amonth      955\n",
       "aweek        58\n",
       "aday         27\n",
       "Name: pay, dtype: int64"
      ]
     },
     "execution_count": 148,
     "metadata": {},
     "output_type": "execute_result"
    }
   ],
   "source": [
    "jobs[jobs['pay'].str.contains('\\d+\\s\\-\\s\\d+\\s(a|an)\\s+.*')]['pay'].str.replace('[^a-zA-z]', '').value_counts()"
   ]
  },
  {
   "cell_type": "markdown",
   "metadata": {},
   "source": [
    "For practicality's sake, I'll only convert ranges with \"a year\", \"a month\", or \"an hour\"."
   ]
  },
  {
   "cell_type": "code",
   "execution_count": 187,
   "metadata": {},
   "outputs": [],
   "source": [
    "jobs['yearly'] = jobs['pay']"
   ]
  },
  {
   "cell_type": "code",
   "execution_count": 188,
   "metadata": {},
   "outputs": [],
   "source": [
    "# convert anything in the yearly column that isnt yearly to 'N/A'\n",
    "jobs.loc[~jobs['yearly'].str.contains('a year'), 'yearly'] = 'N/A' "
   ]
  },
  {
   "cell_type": "code",
   "execution_count": 189,
   "metadata": {},
   "outputs": [
    {
     "data": {
      "text/html": [
       "<div>\n",
       "<style scoped>\n",
       "    .dataframe tbody tr th:only-of-type {\n",
       "        vertical-align: middle;\n",
       "    }\n",
       "\n",
       "    .dataframe tbody tr th {\n",
       "        vertical-align: top;\n",
       "    }\n",
       "\n",
       "    .dataframe thead th {\n",
       "        text-align: right;\n",
       "    }\n",
       "</style>\n",
       "<table border=\"1\" class=\"dataframe\">\n",
       "  <thead>\n",
       "    <tr style=\"text-align: right;\">\n",
       "      <th></th>\n",
       "      <th>role</th>\n",
       "      <th>company</th>\n",
       "      <th>location</th>\n",
       "      <th>pay</th>\n",
       "      <th>remote</th>\n",
       "      <th>details</th>\n",
       "      <th>job_post_age</th>\n",
       "      <th>search_field</th>\n",
       "      <th>yearly</th>\n",
       "      <th>floor_pay_yearly</th>\n",
       "      <th>ceiling_pay_yearly</th>\n",
       "      <th>monthly</th>\n",
       "      <th>hourly</th>\n",
       "    </tr>\n",
       "  </thead>\n",
       "  <tbody>\n",
       "    <tr>\n",
       "      <th>0</th>\n",
       "      <td>Lead Software Engineer - eCommerce</td>\n",
       "      <td>COVETRUS INC</td>\n",
       "      <td>Birmingham, AL 35203</td>\n",
       "      <td>N/A</td>\n",
       "      <td>0</td>\n",
       "      <td>Our advanced web tools, client marketing progr...</td>\n",
       "      <td>30</td>\n",
       "      <td>Marketing Technologist</td>\n",
       "      <td></td>\n",
       "      <td>NaN</td>\n",
       "      <td>NaN</td>\n",
       "      <td>NaN</td>\n",
       "      <td>NaN</td>\n",
       "    </tr>\n",
       "    <tr>\n",
       "      <th>1</th>\n",
       "      <td>Associate Director of UAA Student Web Experience</td>\n",
       "      <td>University of Alaska</td>\n",
       "      <td>Anchorage, AK 99508 (Rogers Park area)</td>\n",
       "      <td>N/A</td>\n",
       "      <td>0</td>\n",
       "      <td>Produces clear documentation for marketing pag...</td>\n",
       "      <td>30</td>\n",
       "      <td>Marketing Technologist</td>\n",
       "      <td></td>\n",
       "      <td>NaN</td>\n",
       "      <td>NaN</td>\n",
       "      <td>NaN</td>\n",
       "      <td>NaN</td>\n",
       "    </tr>\n",
       "    <tr>\n",
       "      <th>2</th>\n",
       "      <td>Sales Support, Coronary Clinical Specialist - ...</td>\n",
       "      <td>Philips</td>\n",
       "      <td>Tucson, AZ</td>\n",
       "      <td>N/A</td>\n",
       "      <td>0</td>\n",
       "      <td>Supports marketing related trade shows and ven...</td>\n",
       "      <td>7</td>\n",
       "      <td>Marketing Technologist</td>\n",
       "      <td></td>\n",
       "      <td>NaN</td>\n",
       "      <td>NaN</td>\n",
       "      <td>NaN</td>\n",
       "      <td>NaN</td>\n",
       "    </tr>\n",
       "    <tr>\n",
       "      <th>3</th>\n",
       "      <td>Laboratory Operations Manager</td>\n",
       "      <td>Lighthouse Lab Services</td>\n",
       "      <td>Phoenix, AZ 85016 (Camelback East area)</td>\n",
       "      <td>N/A</td>\n",
       "      <td>0</td>\n",
       "      <td>Work with hospital strategy department and mar...</td>\n",
       "      <td>13</td>\n",
       "      <td>Marketing Technologist</td>\n",
       "      <td></td>\n",
       "      <td>NaN</td>\n",
       "      <td>NaN</td>\n",
       "      <td>NaN</td>\n",
       "      <td>NaN</td>\n",
       "    </tr>\n",
       "    <tr>\n",
       "      <th>4</th>\n",
       "      <td>Snr Key Account Technology Engineer I - EPI</td>\n",
       "      <td>ASM</td>\n",
       "      <td>Phoenix, AZ</td>\n",
       "      <td>N/A</td>\n",
       "      <td>0</td>\n",
       "      <td>Related work experience can include process en...</td>\n",
       "      <td>30</td>\n",
       "      <td>Marketing Technologist</td>\n",
       "      <td></td>\n",
       "      <td>NaN</td>\n",
       "      <td>NaN</td>\n",
       "      <td>NaN</td>\n",
       "      <td>NaN</td>\n",
       "    </tr>\n",
       "  </tbody>\n",
       "</table>\n",
       "</div>"
      ],
      "text/plain": [
       "                                                role                  company  \\\n",
       "0                 Lead Software Engineer - eCommerce             COVETRUS INC   \n",
       "1   Associate Director of UAA Student Web Experience     University of Alaska   \n",
       "2  Sales Support, Coronary Clinical Specialist - ...                  Philips   \n",
       "3                      Laboratory Operations Manager  Lighthouse Lab Services   \n",
       "4        Snr Key Account Technology Engineer I - EPI                      ASM   \n",
       "\n",
       "                                  location  pay  remote  \\\n",
       "0                     Birmingham, AL 35203  N/A       0   \n",
       "1   Anchorage, AK 99508 (Rogers Park area)  N/A       0   \n",
       "2                               Tucson, AZ  N/A       0   \n",
       "3  Phoenix, AZ 85016 (Camelback East area)  N/A       0   \n",
       "4                              Phoenix, AZ  N/A       0   \n",
       "\n",
       "                                             details  job_post_age  \\\n",
       "0  Our advanced web tools, client marketing progr...            30   \n",
       "1  Produces clear documentation for marketing pag...            30   \n",
       "2  Supports marketing related trade shows and ven...             7   \n",
       "3  Work with hospital strategy department and mar...            13   \n",
       "4  Related work experience can include process en...            30   \n",
       "\n",
       "             search_field yearly  floor_pay_yearly  ceiling_pay_yearly  \\\n",
       "0  Marketing Technologist                      NaN                 NaN   \n",
       "1  Marketing Technologist                      NaN                 NaN   \n",
       "2  Marketing Technologist                      NaN                 NaN   \n",
       "3  Marketing Technologist                      NaN                 NaN   \n",
       "4  Marketing Technologist                      NaN                 NaN   \n",
       "\n",
       "  monthly hourly  \n",
       "0     NaN    NaN  \n",
       "1     NaN    NaN  \n",
       "2     NaN    NaN  \n",
       "3     NaN    NaN  \n",
       "4     NaN    NaN  "
      ]
     },
     "execution_count": 189,
     "metadata": {},
     "output_type": "execute_result"
    }
   ],
   "source": [
    "# remove 'a year' from yearly column\n",
    "jobs['yearly'] = jobs['yearly'].str.replace('[^0-9\\-]', '')\n",
    "jobs.head()"
   ]
  },
  {
   "cell_type": "code",
   "execution_count": 190,
   "metadata": {},
   "outputs": [],
   "source": [
    "jobs['floor_pay_yearly'] = jobs['yearly'].str.replace('\\-\\d+', '')"
   ]
  },
  {
   "cell_type": "code",
   "execution_count": 191,
   "metadata": {},
   "outputs": [],
   "source": [
    "jobs.loc[jobs['floor_pay_yearly'] == '', 'floor_pay_yearly'] = np.nan"
   ]
  },
  {
   "cell_type": "code",
   "execution_count": 192,
   "metadata": {},
   "outputs": [],
   "source": [
    "jobs['floor_pay_yearly'] = jobs['floor_pay_yearly'].astype(float)"
   ]
  },
  {
   "cell_type": "code",
   "execution_count": 193,
   "metadata": {},
   "outputs": [],
   "source": [
    "jobs['ceiling_pay_yearly'] = jobs['yearly'].str.replace('\\d+\\-', '')\n",
    "jobs.loc[jobs['ceiling_pay_yearly'] == '', 'ceiling_pay_yearly'] = np.nan\n",
    "jobs['ceiling_pay_yearly'] = jobs['ceiling_pay_yearly'].astype(float)"
   ]
  },
  {
   "cell_type": "code",
   "execution_count": 194,
   "metadata": {},
   "outputs": [
    {
     "data": {
      "text/plain": [
       "96209.16738660907"
      ]
     },
     "execution_count": 194,
     "metadata": {},
     "output_type": "execute_result"
    }
   ],
   "source": [
    "jobs['ceiling_pay_yearly'].mean()"
   ]
  },
  {
   "cell_type": "code",
   "execution_count": 195,
   "metadata": {},
   "outputs": [],
   "source": [
    "# repeat the process with monthly pay ranges\n",
    "jobs['monthly'] = jobs['pay']\n",
    "\n",
    "# anything in the new column that isn't part of the category becomes 'N/A'\n",
    "jobs.loc[~jobs['monthly'].str.contains('a month'), 'monthly'] = 'N/A'\n",
    "\n",
    "# remove 'a month' from column\n",
    "jobs['monthly'] = jobs['monthly'].str.replace('[^0-9\\-]', '')\n",
    "jobs.loc[jobs['monthly'] == '', 'monthly'] = np.nan\n",
    "\n",
    "# insert floor and ceiling into the corresponding yearly column\n",
    "jobs.loc[jobs['monthly'].notnull(), 'floor_pay_yearly'] = (jobs['monthly']\n",
    "                                                       .str.replace('\\-\\d+', '')\n",
    "                                                       .astype(float) * 12)\n",
    "jobs.loc[jobs['monthly'].notnull(), 'ceiling_pay_yearly'] = (jobs['monthly']\n",
    "                                                            .str.replace('\\d+\\-', '')\n",
    "                                                            .astype(float) * 12)"
   ]
  },
  {
   "cell_type": "markdown",
   "metadata": {},
   "source": [
    "Here, I'm multiplying hourly rates by 2 and then by 1000. This is operating under the rough assumption that if a person makes 70,000 dollars a year, they are working 40 hours a week for ~52 weeks out of the year:\n",
    "\n",
    "$(\\$35\\ per\\ hour) \\times (40\\ hours\\ per\\ week) \\times (52\\ weeks) \\approx \\$70,000\\ a\\ year$"
   ]
  },
  {
   "cell_type": "code",
   "execution_count": 196,
   "metadata": {},
   "outputs": [],
   "source": [
    "# repeat the process with hourly pay ranges\n",
    "jobs['hourly'] = jobs['pay']\n",
    "\n",
    "# anything in the new column that isn't part of the category becomes 'N/A'\n",
    "jobs.loc[~jobs['hourly'].str.contains('an hour'), 'hourly'] = 'N/A'\n",
    "\n",
    "# remove 'an hour' from new column\n",
    "jobs['hourly'] = jobs['hourly'].str.replace('[^0-9\\-\\.]', '')\n",
    "jobs.loc[jobs['hourly'] == '', 'hourly'] = np.nan\n",
    "\n",
    "# insert floor and ceiling into the corresponding yearly column\n",
    "jobs.loc[jobs['hourly'].notnull(), 'floor_pay_yearly'] = ((jobs['hourly']\n",
    "                                                       .str.replace('\\-\\d+\\.*\\d*', '')\n",
    "                                                       .astype(float) * 2) * 1000)\n",
    "jobs.loc[jobs['hourly'].notnull(), 'ceiling_pay_yearly'] = ((jobs['hourly']\n",
    "                                                            .str.replace('\\d+\\.*\\d*\\-', '')\n",
    "                                                            .astype(float) * 2) * 1000)"
   ]
  },
  {
   "cell_type": "code",
   "execution_count": 209,
   "metadata": {},
   "outputs": [
    {
     "name": "stdout",
     "output_type": "stream",
     "text": [
      "Average Pay Floor: $68350.78\n",
      "Average Pay Ceiling: $87192.27\n"
     ]
    }
   ],
   "source": [
    "print(f\"Average Pay Floor: ${round(jobs['floor_pay_yearly'].mean(), 2)}\")\n",
    "print(f\"Average Pay Ceiling: ${round(jobs['ceiling_pay_yearly'].mean(), 2)}\")"
   ]
  }
 ],
 "metadata": {
  "kernelspec": {
   "display_name": "Python3 (unit2)",
   "language": "python",
   "name": "unit2"
  },
  "language_info": {
   "codemirror_mode": {
    "name": "ipython",
    "version": 3
   },
   "file_extension": ".py",
   "mimetype": "text/x-python",
   "name": "python",
   "nbconvert_exporter": "python",
   "pygments_lexer": "ipython3",
   "version": "3.7.6"
  }
 },
 "nbformat": 4,
 "nbformat_minor": 4
}
