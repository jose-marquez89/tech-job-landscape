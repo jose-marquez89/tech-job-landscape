{
 "cells": [
  {
   "cell_type": "markdown",
   "metadata": {},
   "source": [
    "## Questions\n",
    "The data was completely collected on 2020-08-05\n",
    "\n",
    "What are the questions that I want to answer, given the data that I now have?\n",
    "- How many jobs are remote?\n",
    "- For jobs with pay range information, what is the average floor for each job category? Ceiling?\n",
    "- Is there a tendency for a particular job to be remote more than another?\n",
    "- What are the top 20 jobs that are being sought after?\n",
    "- When you remove very old posts (30+ days) how much do these figures change?\n",
    "    - what could be the reason for some of the older jobs hanging out on the job boards?\n",
    "- What are the top 20 companies really pushing to hire?\n",
    "- What are the top 20 locations that are hiring? Does it matter?\n",
    "\n",
    "This could be structured in the typical \"who, what, where, when\"\n",
    "- **Who** -> who are the companies that are recruiting the most?\n",
    "- **What** -> what are the jobs that are most sought after\n",
    "- **Where** -> what states are hiring the most people (with the understanding that a lot of work is remote, but this could change if restrictions begin to lift)\n",
    "- **When** -> are there less newer jobs (7 days or newer). Does it matter?\n",
    "\n",
    "### Extra \n",
    "- how many details are included in the job description snippet?\n",
    "- can we use LDA to extract the most commonly desired topics?"
   ]
  },
  {
   "cell_type": "code",
   "execution_count": 82,
   "metadata": {},
   "outputs": [],
   "source": [
    "import pandas as pd\n",
    "import numpy as np\n",
    "import matplotlib.pyplot as plt\n",
    "\n",
    "plt.style.use(\"fivethirtyeight\")"
   ]
  },
  {
   "cell_type": "code",
   "execution_count": 2,
   "metadata": {},
   "outputs": [
    {
     "data": {
      "text/html": [
       "<div>\n",
       "<style scoped>\n",
       "    .dataframe tbody tr th:only-of-type {\n",
       "        vertical-align: middle;\n",
       "    }\n",
       "\n",
       "    .dataframe tbody tr th {\n",
       "        vertical-align: top;\n",
       "    }\n",
       "\n",
       "    .dataframe thead th {\n",
       "        text-align: right;\n",
       "    }\n",
       "</style>\n",
       "<table border=\"1\" class=\"dataframe\">\n",
       "  <thead>\n",
       "    <tr style=\"text-align: right;\">\n",
       "      <th></th>\n",
       "      <th>role</th>\n",
       "      <th>company</th>\n",
       "      <th>location</th>\n",
       "      <th>pay</th>\n",
       "      <th>remote</th>\n",
       "      <th>details</th>\n",
       "      <th>job_post_age</th>\n",
       "      <th>search_field</th>\n",
       "      <th>role_formatted</th>\n",
       "      <th>distances</th>\n",
       "      <th>job_label</th>\n",
       "      <th>role_plus_details</th>\n",
       "      <th>predicted_role</th>\n",
       "    </tr>\n",
       "  </thead>\n",
       "  <tbody>\n",
       "    <tr>\n",
       "      <th>0</th>\n",
       "      <td>Lead Software Engineer - eCommerce</td>\n",
       "      <td>COVETRUS INC</td>\n",
       "      <td>Birmingham, AL 35203</td>\n",
       "      <td>NaN</td>\n",
       "      <td>0</td>\n",
       "      <td>Our advanced web tools, client marketing progr...</td>\n",
       "      <td>30+ days ago</td>\n",
       "      <td>Marketing Technologist</td>\n",
       "      <td>lead software engineer  ecommerce</td>\n",
       "      <td>0.000000</td>\n",
       "      <td>Lead Software Engineer - eCommerce</td>\n",
       "      <td>lead software engineer  ecommerce our advanced...</td>\n",
       "      <td>Software Developer</td>\n",
       "    </tr>\n",
       "    <tr>\n",
       "      <th>1</th>\n",
       "      <td>Snr Key Account Technology Engineer II - ALD</td>\n",
       "      <td>ASM</td>\n",
       "      <td>Phoenix, AZ</td>\n",
       "      <td>NaN</td>\n",
       "      <td>0</td>\n",
       "      <td>Related work experience can include process en...</td>\n",
       "      <td>30+ days ago</td>\n",
       "      <td>Marketing Technologist</td>\n",
       "      <td>snr key account technology engineer ii  ald</td>\n",
       "      <td>0.273471</td>\n",
       "      <td>Snr Key Account Technology Engineer II - ALD</td>\n",
       "      <td>snr key account technology engineer ii  ald re...</td>\n",
       "      <td>Systems Engineer</td>\n",
       "    </tr>\n",
       "    <tr>\n",
       "      <th>2</th>\n",
       "      <td>Salesforce Developer - US Delivery Center</td>\n",
       "      <td>Deloitte</td>\n",
       "      <td>Gilbert, AZ 85297</td>\n",
       "      <td>NaN</td>\n",
       "      <td>0</td>\n",
       "      <td>Build Salesforce solutions on Salesforce Cloud...</td>\n",
       "      <td>28 days ago</td>\n",
       "      <td>Marketing Technologist</td>\n",
       "      <td>salesforce developer  us delivery center</td>\n",
       "      <td>0.000000</td>\n",
       "      <td>Salesforce Developer - US Delivery Center</td>\n",
       "      <td>salesforce developer  us delivery center build...</td>\n",
       "      <td>Cloud Architect</td>\n",
       "    </tr>\n",
       "    <tr>\n",
       "      <th>3</th>\n",
       "      <td>Lead Software Engineer - eCommerce</td>\n",
       "      <td>COVETRUS INC</td>\n",
       "      <td>Phoenix, AZ 85085 (North Gateway area)</td>\n",
       "      <td>NaN</td>\n",
       "      <td>0</td>\n",
       "      <td>Our advanced web tools, client marketing progr...</td>\n",
       "      <td>30+ days ago</td>\n",
       "      <td>Marketing Technologist</td>\n",
       "      <td>lead software engineer  ecommerce</td>\n",
       "      <td>0.000000</td>\n",
       "      <td>Lead Software Engineer - eCommerce</td>\n",
       "      <td>lead software engineer  ecommerce our advanced...</td>\n",
       "      <td>Software Developer</td>\n",
       "    </tr>\n",
       "    <tr>\n",
       "      <th>4</th>\n",
       "      <td>UI/UX Designer-Clearance Required</td>\n",
       "      <td>Deloitte</td>\n",
       "      <td>Gilbert, AZ 85297</td>\n",
       "      <td>NaN</td>\n",
       "      <td>0</td>\n",
       "      <td>We implement and operate the technology platfo...</td>\n",
       "      <td>18 days ago</td>\n",
       "      <td>Marketing Technologist</td>\n",
       "      <td>ui ux designer clearance required</td>\n",
       "      <td>0.000000</td>\n",
       "      <td>UI/UX Designer-Clearance Required</td>\n",
       "      <td>ui ux designer clearance required we implement...</td>\n",
       "      <td>UX Designer</td>\n",
       "    </tr>\n",
       "  </tbody>\n",
       "</table>\n",
       "</div>"
      ],
      "text/plain": [
       "                                           role       company  \\\n",
       "0            Lead Software Engineer - eCommerce  COVETRUS INC   \n",
       "1  Snr Key Account Technology Engineer II - ALD           ASM   \n",
       "2     Salesforce Developer - US Delivery Center      Deloitte   \n",
       "3            Lead Software Engineer - eCommerce  COVETRUS INC   \n",
       "4             UI/UX Designer-Clearance Required      Deloitte   \n",
       "\n",
       "                                 location  pay  remote  \\\n",
       "0                    Birmingham, AL 35203  NaN       0   \n",
       "1                             Phoenix, AZ  NaN       0   \n",
       "2                       Gilbert, AZ 85297  NaN       0   \n",
       "3  Phoenix, AZ 85085 (North Gateway area)  NaN       0   \n",
       "4                       Gilbert, AZ 85297  NaN       0   \n",
       "\n",
       "                                             details  job_post_age  \\\n",
       "0  Our advanced web tools, client marketing progr...  30+ days ago   \n",
       "1  Related work experience can include process en...  30+ days ago   \n",
       "2  Build Salesforce solutions on Salesforce Cloud...   28 days ago   \n",
       "3  Our advanced web tools, client marketing progr...  30+ days ago   \n",
       "4  We implement and operate the technology platfo...   18 days ago   \n",
       "\n",
       "             search_field                               role_formatted  \\\n",
       "0  Marketing Technologist            lead software engineer  ecommerce   \n",
       "1  Marketing Technologist  snr key account technology engineer ii  ald   \n",
       "2  Marketing Technologist     salesforce developer  us delivery center   \n",
       "3  Marketing Technologist            lead software engineer  ecommerce   \n",
       "4  Marketing Technologist            ui ux designer clearance required   \n",
       "\n",
       "   distances                                     job_label  \\\n",
       "0   0.000000            Lead Software Engineer - eCommerce   \n",
       "1   0.273471  Snr Key Account Technology Engineer II - ALD   \n",
       "2   0.000000     Salesforce Developer - US Delivery Center   \n",
       "3   0.000000            Lead Software Engineer - eCommerce   \n",
       "4   0.000000             UI/UX Designer-Clearance Required   \n",
       "\n",
       "                                   role_plus_details      predicted_role  \n",
       "0  lead software engineer  ecommerce our advanced...  Software Developer  \n",
       "1  snr key account technology engineer ii  ald re...    Systems Engineer  \n",
       "2  salesforce developer  us delivery center build...     Cloud Architect  \n",
       "3  lead software engineer  ecommerce our advanced...  Software Developer  \n",
       "4  ui ux designer clearance required we implement...         UX Designer  "
      ]
     },
     "execution_count": 2,
     "metadata": {},
     "output_type": "execute_result"
    }
   ],
   "source": [
    "jobs = pd.read_csv('jobs_cleaned.csv', sep='|')\n",
    "jobs.head()"
   ]
  },
  {
   "cell_type": "code",
   "execution_count": 3,
   "metadata": {},
   "outputs": [
    {
     "data": {
      "text/plain": [
       "(117809, 13)"
      ]
     },
     "execution_count": 3,
     "metadata": {},
     "output_type": "execute_result"
    }
   ],
   "source": [
    "jobs.shape"
   ]
  },
  {
   "cell_type": "code",
   "execution_count": 4,
   "metadata": {},
   "outputs": [
    {
     "name": "stdout",
     "output_type": "stream",
     "text": [
      "(76373, 13)\n"
     ]
    }
   ],
   "source": [
    "# There's a good chance there will be duplicates\n",
    "jobs = jobs.drop_duplicates(subset=('role', 'company', 'location'))\n",
    "print(jobs.shape)"
   ]
  },
  {
   "cell_type": "markdown",
   "metadata": {},
   "source": [
    "### Clean Data\n",
    "\n",
    "Because I would like to use the job post age to understand the jobs in the context of removal of older jobs postings, I need to turn the column to integers."
   ]
  },
  {
   "cell_type": "code",
   "execution_count": 5,
   "metadata": {},
   "outputs": [
    {
     "data": {
      "text/plain": [
       "30+ days ago    40715\n",
       "0                2799\n",
       "1 day ago        2731\n",
       "6 days ago       2199\n",
       "5 days ago       2192\n",
       "7 days ago       2084\n",
       "8 days ago       1808\n",
       "2 days ago       1729\n",
       "13 days ago      1551\n",
       "12 days ago      1504\n",
       "14 days ago      1423\n",
       "15 days ago      1373\n",
       "9 days ago       1204\n",
       "21 days ago      1164\n",
       "20 days ago      1162\n",
       "19 days ago      1092\n",
       "22 days ago      1089\n",
       "28 days ago      1032\n",
       "27 days ago      1006\n",
       "26 days ago       993\n",
       "16 days ago       928\n",
       "29 days ago       928\n",
       "4 days ago        924\n",
       "23 days ago       889\n",
       "11 days ago       569\n",
       "18 days ago       451\n",
       "25 days ago       310\n",
       "3 days ago        204\n",
       "10 days ago       124\n",
       "17 days ago       102\n",
       "24 days ago        94\n",
       "Name: job_post_age, dtype: int64"
      ]
     },
     "execution_count": 5,
     "metadata": {},
     "output_type": "execute_result"
    }
   ],
   "source": [
    "jobs.loc[(jobs['job_post_age'] == 'Just posted') |\n",
    "         (jobs['job_post_age'] == 'Today'), 'job_post_age'] = '0'\n",
    "jobs['job_post_age'].value_counts()"
   ]
  },
  {
   "cell_type": "code",
   "execution_count": 6,
   "metadata": {},
   "outputs": [
    {
     "data": {
      "text/plain": [
       "role                  object\n",
       "company               object\n",
       "location              object\n",
       "pay                   object\n",
       "remote                 int64\n",
       "details               object\n",
       "job_post_age           int64\n",
       "search_field          object\n",
       "role_formatted        object\n",
       "distances            float64\n",
       "job_label             object\n",
       "role_plus_details     object\n",
       "predicted_role        object\n",
       "dtype: object"
      ]
     },
     "execution_count": 6,
     "metadata": {},
     "output_type": "execute_result"
    }
   ],
   "source": [
    "jobs['job_post_age'] = jobs['job_post_age'].str.replace('[^0-9]', '')\n",
    "jobs['job_post_age'] = jobs['job_post_age'].astype(int)\n",
    "jobs.dtypes"
   ]
  },
  {
   "cell_type": "markdown",
   "metadata": {},
   "source": [
    "Before removing old jobs, what does the distribution of remote and non remote jobs look like? A '1' indicates a remote opportunity. *NOTE*: The absence of a 'Remote' tag on a job does not necessarily mean that a job is *not* remote, especially in the context of the COVID-19 outbreak, where many companies temporarily moved to a remote work situation."
   ]
  },
  {
   "cell_type": "code",
   "execution_count": 7,
   "metadata": {},
   "outputs": [],
   "source": [
    "jobs['remote'] = jobs['remote'].astype(int)"
   ]
  },
  {
   "cell_type": "code",
   "execution_count": 83,
   "metadata": {},
   "outputs": [
    {
     "name": "stdout",
     "output_type": "stream",
     "text": [
      "0    0.874013\n",
      "1    0.125987\n",
      "Name: remote, dtype: float64\n"
     ]
    },
    {
     "data": {
      "image/png": "[encoded data removed]",
      "text/plain": [
       "<Figure size 432x288 with 1 Axes>"
      ]
     },
     "metadata": {},
     "output_type": "display_data"
    }
   ],
   "source": [
    "# the goal here is to see if there is any major difference\n",
    "# in the 'Remote' status of a job when job_post_age changes\n",
    "print(jobs['remote'].value_counts(normalize=True))\n",
    "jobs['remote'].plot.hist(title=\"Remote Jobs (All)\");"
   ]
  },
  {
   "cell_type": "code",
   "execution_count": 84,
   "metadata": {},
   "outputs": [
    {
     "name": "stdout",
     "output_type": "stream",
     "text": [
      "0    0.824612\n",
      "1    0.175388\n",
      "Name: remote, dtype: float64\n"
     ]
    },
    {
     "data": {
      "image/png": "[encoded data removed]",
      "text/plain": [
       "<Figure size 432x288 with 1 Axes>"
      ]
     },
     "metadata": {},
     "output_type": "display_data"
    }
   ],
   "source": [
    "recent_jobs = jobs[jobs['job_post_age'] < 30]\n",
    "print(recent_jobs['remote'].value_counts(normalize=True))\n",
    "recent_jobs['remote'].plot.hist(title=\"Remote Jobs Within This Month\");"
   ]
  },
  {
   "cell_type": "markdown",
   "metadata": {},
   "source": [
    "What about jobs within a week of collection?"
   ]
  },
  {
   "cell_type": "code",
   "execution_count": 85,
   "metadata": {},
   "outputs": [
    {
     "name": "stdout",
     "output_type": "stream",
     "text": [
      "0    0.811667\n",
      "1    0.188333\n",
      "Name: remote, dtype: float64\n"
     ]
    },
    {
     "data": {
      "image/png": "[encoded data removed]",
      "text/plain": [
       "<Figure size 432x288 with 1 Axes>"
      ]
     },
     "metadata": {},
     "output_type": "display_data"
    }
   ],
   "source": [
    "recent_week = jobs[jobs['job_post_age'] <= 7]\n",
    "print(recent_week['remote'].value_counts(normalize=True))\n",
    "recent_week['remote'].plot.hist(title=\"Remote, Within 7 Days of Data Collection\");"
   ]
  },
  {
   "cell_type": "markdown",
   "metadata": {},
   "source": [
    "There does appear to be a noticeable change in the proportion of jobs that choose to display the 'Remote' flag. As the posts get newer, the proportion shifts slightly in favor of remote jobs. Although this is obvious, it's an interesting dynamic to document."
   ]
  },
  {
   "cell_type": "code",
   "execution_count": 168,
   "metadata": {},
   "outputs": [
    {
     "data": {
      "image/png": "[encoded data removed]",
      "text/plain": [
       "<Figure size 432x288 with 1 Axes>"
      ]
     },
     "metadata": {},
     "output_type": "display_data"
    }
   ],
   "source": [
    "# plot the change in proportion of remote jobs\n",
    "remote_jobs_proportion = [\n",
    "    jobs[jobs['job_post_age'] <= i]['remote']\n",
    "    .value_counts(normalize=True)[1]\n",
    "    for i in range(30, 0, -1)\n",
    "]\n",
    "\n",
    "plt.plot(remote_jobs_proportion)\n",
    "plt.xticks(range(0, 31, 5), \n",
    "           labels=['30','25','20','15','10','5','0'],\n",
    "           alpha=0.5)\n",
    "\n",
    "plt.grid(True)\n",
    "# plt.ylabel(\"Proportion\", fontsize=13)\n",
    "plt.yticks([.13, .15, .17, .19],\n",
    "           labels=['13', '15', '17', '19%'],\n",
    "           alpha=0.5)\n",
    "\n",
    "plt.ylim(0.125, 0.20)\n",
    "plt.title(\"Remote Job Proportion\", x=-0.1, y=1.2,\n",
    "          fontweight='bold',horizontalalignment='left',\n",
    "          fontsize=16)\n",
    "plt.suptitle(\"Proportion of jobs marked as remote\\n\"\n",
    "             \"by companies posting their jobs on Indeed.com\",\n",
    "             x=-0.005, y=1.03, horizontalalignment='left',\n",
    "             fontsize=15)\n",
    "plt.xlabel(\"Age in Days\", fontsize=13)\n",
    "plt.show()"
   ]
  },
  {
   "cell_type": "markdown",
   "metadata": {},
   "source": [
    "### Pay Range Columns\n",
    "It would be ideal to create pay range columns for the individual pay ranges ('an hour', 'a month', 'a year'. excluding the smallest groups) in order to create two standardized yearly pay columns like so:\n",
    "\n",
    "|pay_floor|pay_ceiling|\n",
    "|---------|-----------|\n",
    "|50000    |90000      |\n",
    "|75000    |125345     |"
   ]
  },
  {
   "cell_type": "code",
   "execution_count": 169,
   "metadata": {},
   "outputs": [
    {
     "data": {
      "text/html": [
       "<div>\n",
       "<style scoped>\n",
       "    .dataframe tbody tr th:only-of-type {\n",
       "        vertical-align: middle;\n",
       "    }\n",
       "\n",
       "    .dataframe tbody tr th {\n",
       "        vertical-align: top;\n",
       "    }\n",
       "\n",
       "    .dataframe thead th {\n",
       "        text-align: right;\n",
       "    }\n",
       "</style>\n",
       "<table border=\"1\" class=\"dataframe\">\n",
       "  <thead>\n",
       "    <tr style=\"text-align: right;\">\n",
       "      <th></th>\n",
       "      <th>role</th>\n",
       "      <th>company</th>\n",
       "      <th>location</th>\n",
       "      <th>pay</th>\n",
       "      <th>remote</th>\n",
       "      <th>details</th>\n",
       "      <th>job_post_age</th>\n",
       "      <th>search_field</th>\n",
       "      <th>role_formatted</th>\n",
       "      <th>distances</th>\n",
       "      <th>job_label</th>\n",
       "      <th>role_plus_details</th>\n",
       "      <th>predicted_role</th>\n",
       "    </tr>\n",
       "  </thead>\n",
       "  <tbody>\n",
       "    <tr>\n",
       "      <th>0</th>\n",
       "      <td>Lead Software Engineer - eCommerce</td>\n",
       "      <td>COVETRUS INC</td>\n",
       "      <td>Birmingham, AL 35203</td>\n",
       "      <td>N/A</td>\n",
       "      <td>0</td>\n",
       "      <td>Our advanced web tools, client marketing progr...</td>\n",
       "      <td>30</td>\n",
       "      <td>Marketing Technologist</td>\n",
       "      <td>lead software engineer  ecommerce</td>\n",
       "      <td>0.000000</td>\n",
       "      <td>Lead Software Engineer - eCommerce</td>\n",
       "      <td>lead software engineer  ecommerce our advanced...</td>\n",
       "      <td>Software Developer</td>\n",
       "    </tr>\n",
       "    <tr>\n",
       "      <th>1</th>\n",
       "      <td>Snr Key Account Technology Engineer II - ALD</td>\n",
       "      <td>ASM</td>\n",
       "      <td>Phoenix, AZ</td>\n",
       "      <td>N/A</td>\n",
       "      <td>0</td>\n",
       "      <td>Related work experience can include process en...</td>\n",
       "      <td>30</td>\n",
       "      <td>Marketing Technologist</td>\n",
       "      <td>snr key account technology engineer ii  ald</td>\n",
       "      <td>0.273471</td>\n",
       "      <td>Snr Key Account Technology Engineer II - ALD</td>\n",
       "      <td>snr key account technology engineer ii  ald re...</td>\n",
       "      <td>Systems Engineer</td>\n",
       "    </tr>\n",
       "    <tr>\n",
       "      <th>2</th>\n",
       "      <td>Salesforce Developer - US Delivery Center</td>\n",
       "      <td>Deloitte</td>\n",
       "      <td>Gilbert, AZ 85297</td>\n",
       "      <td>N/A</td>\n",
       "      <td>0</td>\n",
       "      <td>Build Salesforce solutions on Salesforce Cloud...</td>\n",
       "      <td>28</td>\n",
       "      <td>Marketing Technologist</td>\n",
       "      <td>salesforce developer  us delivery center</td>\n",
       "      <td>0.000000</td>\n",
       "      <td>Salesforce Developer - US Delivery Center</td>\n",
       "      <td>salesforce developer  us delivery center build...</td>\n",
       "      <td>Cloud Architect</td>\n",
       "    </tr>\n",
       "    <tr>\n",
       "      <th>3</th>\n",
       "      <td>Lead Software Engineer - eCommerce</td>\n",
       "      <td>COVETRUS INC</td>\n",
       "      <td>Phoenix, AZ 85085 (North Gateway area)</td>\n",
       "      <td>N/A</td>\n",
       "      <td>0</td>\n",
       "      <td>Our advanced web tools, client marketing progr...</td>\n",
       "      <td>30</td>\n",
       "      <td>Marketing Technologist</td>\n",
       "      <td>lead software engineer  ecommerce</td>\n",
       "      <td>0.000000</td>\n",
       "      <td>Lead Software Engineer - eCommerce</td>\n",
       "      <td>lead software engineer  ecommerce our advanced...</td>\n",
       "      <td>Software Developer</td>\n",
       "    </tr>\n",
       "    <tr>\n",
       "      <th>4</th>\n",
       "      <td>UI/UX Designer-Clearance Required</td>\n",
       "      <td>Deloitte</td>\n",
       "      <td>Gilbert, AZ 85297</td>\n",
       "      <td>N/A</td>\n",
       "      <td>0</td>\n",
       "      <td>We implement and operate the technology platfo...</td>\n",
       "      <td>18</td>\n",
       "      <td>Marketing Technologist</td>\n",
       "      <td>ui ux designer clearance required</td>\n",
       "      <td>0.000000</td>\n",
       "      <td>UI/UX Designer-Clearance Required</td>\n",
       "      <td>ui ux designer clearance required we implement...</td>\n",
       "      <td>UX Designer</td>\n",
       "    </tr>\n",
       "  </tbody>\n",
       "</table>\n",
       "</div>"
      ],
      "text/plain": [
       "                                           role       company  \\\n",
       "0            Lead Software Engineer - eCommerce  COVETRUS INC   \n",
       "1  Snr Key Account Technology Engineer II - ALD           ASM   \n",
       "2     Salesforce Developer - US Delivery Center      Deloitte   \n",
       "3            Lead Software Engineer - eCommerce  COVETRUS INC   \n",
       "4             UI/UX Designer-Clearance Required      Deloitte   \n",
       "\n",
       "                                 location  pay  remote  \\\n",
       "0                    Birmingham, AL 35203  N/A       0   \n",
       "1                             Phoenix, AZ  N/A       0   \n",
       "2                       Gilbert, AZ 85297  N/A       0   \n",
       "3  Phoenix, AZ 85085 (North Gateway area)  N/A       0   \n",
       "4                       Gilbert, AZ 85297  N/A       0   \n",
       "\n",
       "                                             details  job_post_age  \\\n",
       "0  Our advanced web tools, client marketing progr...            30   \n",
       "1  Related work experience can include process en...            30   \n",
       "2  Build Salesforce solutions on Salesforce Cloud...            28   \n",
       "3  Our advanced web tools, client marketing progr...            30   \n",
       "4  We implement and operate the technology platfo...            18   \n",
       "\n",
       "             search_field                               role_formatted  \\\n",
       "0  Marketing Technologist            lead software engineer  ecommerce   \n",
       "1  Marketing Technologist  snr key account technology engineer ii  ald   \n",
       "2  Marketing Technologist     salesforce developer  us delivery center   \n",
       "3  Marketing Technologist            lead software engineer  ecommerce   \n",
       "4  Marketing Technologist            ui ux designer clearance required   \n",
       "\n",
       "   distances                                     job_label  \\\n",
       "0   0.000000            Lead Software Engineer - eCommerce   \n",
       "1   0.273471  Snr Key Account Technology Engineer II - ALD   \n",
       "2   0.000000     Salesforce Developer - US Delivery Center   \n",
       "3   0.000000            Lead Software Engineer - eCommerce   \n",
       "4   0.000000             UI/UX Designer-Clearance Required   \n",
       "\n",
       "                                   role_plus_details      predicted_role  \n",
       "0  lead software engineer  ecommerce our advanced...  Software Developer  \n",
       "1  snr key account technology engineer ii  ald re...    Systems Engineer  \n",
       "2  salesforce developer  us delivery center build...     Cloud Architect  \n",
       "3  lead software engineer  ecommerce our advanced...  Software Developer  \n",
       "4  ui ux designer clearance required we implement...         UX Designer  "
      ]
     },
     "execution_count": 169,
     "metadata": {},
     "output_type": "execute_result"
    }
   ],
   "source": [
    "jobs['pay'] = jobs['pay'].fillna('N/A')\n",
    "jobs.head()"
   ]
  },
  {
   "cell_type": "code",
   "execution_count": 170,
   "metadata": {},
   "outputs": [],
   "source": [
    "jobs['pay'] = jobs['pay'].str.replace('$', '')\n",
    "jobs['pay'] = jobs['pay'].str.replace(',', '')"
   ]
  },
  {
   "cell_type": "markdown",
   "metadata": {},
   "source": [
    "In order to convert the ranges to floor and ceiling, i need to find out how many different categories of pay range there is (i.e. \"a year\", \"a week\", \"an hour\", etc...)"
   ]
  },
  {
   "cell_type": "code",
   "execution_count": 171,
   "metadata": {},
   "outputs": [
    {
     "name": "stderr",
     "output_type": "stream",
     "text": [
      "/home/jose/miniconda3/envs/unit2/lib/python3.7/site-packages/pandas/core/strings.py:1952: UserWarning: This pattern has match groups. To actually get the groups, use str.extract.\n",
      "  return func(self, *args, **kwargs)\n"
     ]
    },
    {
     "data": {
      "text/plain": [
       "ayear     4733\n",
       "anhour    2062\n",
       "amonth     162\n",
       "aweek       17\n",
       "aday        10\n",
       "Name: pay, dtype: int64"
      ]
     },
     "execution_count": 171,
     "metadata": {},
     "output_type": "execute_result"
    }
   ],
   "source": [
    "jobs[jobs['pay'].str.contains('\\d+\\s\\-\\s\\d+\\s(a|an)\\s+.*')]['pay'].str.replace('[^a-zA-z]', '').value_counts()"
   ]
  },
  {
   "cell_type": "markdown",
   "metadata": {},
   "source": [
    "For practicality's sake, I'll only convert ranges with \"a year\", \"a month\", or \"an hour\"."
   ]
  },
  {
   "cell_type": "code",
   "execution_count": 172,
   "metadata": {},
   "outputs": [],
   "source": [
    "jobs['yearly'] = jobs['pay']\n",
    "\n",
    "# convert anything in the yearly column that isnt yearly to 'N/A'\n",
    "jobs.loc[~jobs['yearly'].str.contains('a year'), 'yearly'] = 'N/A' \n",
    "\n",
    "# remove 'a year' from yearly column\n",
    "jobs['yearly'] = jobs['yearly'].str.replace('[^0-9\\-]', '')\n",
    "\n",
    "# create floor pay column\n",
    "jobs['floor_pay_yearly'] = jobs['yearly'].str.replace('\\-\\d+', '')\n",
    "jobs.loc[jobs['floor_pay_yearly'] == '', 'floor_pay_yearly'] = np.nan\n",
    "jobs['floor_pay_yearly'] = jobs['floor_pay_yearly'].astype(float)\n",
    "\n",
    "# create ceiling pay column\n",
    "jobs['ceiling_pay_yearly'] = jobs['yearly'].str.replace('\\d+\\-', '')\n",
    "jobs.loc[jobs['ceiling_pay_yearly'] == '', 'ceiling_pay_yearly'] = np.nan\n",
    "jobs['ceiling_pay_yearly'] = jobs['ceiling_pay_yearly'].astype(float)"
   ]
  },
  {
   "cell_type": "code",
   "execution_count": 173,
   "metadata": {},
   "outputs": [],
   "source": [
    "# repeat the process with monthly pay ranges\n",
    "jobs['monthly'] = jobs['pay']\n",
    "\n",
    "# anything in the new column that isn't part of the category becomes 'N/A'\n",
    "jobs.loc[~jobs['monthly'].str.contains('a month'), 'monthly'] = 'N/A'\n",
    "\n",
    "# remove 'a month' from column\n",
    "jobs['monthly'] = jobs['monthly'].str.replace('[^0-9\\-]', '')\n",
    "jobs.loc[jobs['monthly'] == '', 'monthly'] = np.nan\n",
    "\n",
    "# insert floor and ceiling into the corresponding yearly column\n",
    "jobs.loc[jobs['monthly'].notnull(), 'floor_pay_yearly'] = (jobs['monthly']\n",
    "                                                       .str.replace('\\-\\d+', '')\n",
    "                                                       .astype(float) * 12)\n",
    "jobs.loc[jobs['monthly'].notnull(), 'ceiling_pay_yearly'] = (jobs['monthly']\n",
    "                                                            .str.replace('\\d+\\-', '')\n",
    "                                                            .astype(float) * 12)"
   ]
  },
  {
   "cell_type": "markdown",
   "metadata": {},
   "source": [
    "Here, I'm multiplying hourly rates by 2 and then by 1000. This is operating under the rough assumption that if a person makes 70,000 dollars a year, they are working 40 hours a week for ~52 weeks out of the year:\n",
    "\n",
    "$(\\$35\\ per\\ hour) \\times (40\\ hours\\ per\\ week) \\times (52\\ weeks) \\approx \\$70,000\\ a\\ year$"
   ]
  },
  {
   "cell_type": "code",
   "execution_count": 174,
   "metadata": {},
   "outputs": [],
   "source": [
    "# repeat the process with hourly pay ranges\n",
    "jobs['hourly'] = jobs['pay']\n",
    "\n",
    "# anything in the new column that isn't part of the category becomes 'N/A'\n",
    "jobs.loc[~jobs['hourly'].str.contains('an hour'), 'hourly'] = 'N/A'\n",
    "\n",
    "# remove 'an hour' from new column\n",
    "jobs['hourly'] = jobs['hourly'].str.replace('[^0-9\\-\\.]', '')\n",
    "jobs.loc[jobs['hourly'] == '', 'hourly'] = np.nan\n",
    "\n",
    "# insert floor and ceiling into the corresponding yearly column\n",
    "jobs.loc[jobs['hourly'].notnull(), 'floor_pay_yearly'] = ((jobs['hourly']\n",
    "                                                       .str.replace('\\-\\d+\\.*\\d*', '')\n",
    "                                                       .astype(float) * 2) * 1000)\n",
    "jobs.loc[jobs['hourly'].notnull(), 'ceiling_pay_yearly'] = ((jobs['hourly']\n",
    "                                                            .str.replace('\\d+\\.*\\d*\\-', '')\n",
    "                                                            .astype(float) * 2) * 1000)"
   ]
  },
  {
   "cell_type": "code",
   "execution_count": 175,
   "metadata": {},
   "outputs": [
    {
     "name": "stdout",
     "output_type": "stream",
     "text": [
      "Average Pay Floor: $75129.11\n",
      "Average Pay Ceiling: $95086.54\n"
     ]
    }
   ],
   "source": [
    "print(f\"Average Pay Floor: ${round(jobs['floor_pay_yearly'].mean(), 2)}\")\n",
    "print(f\"Average Pay Ceiling: ${round(jobs['ceiling_pay_yearly'].mean(), 2)}\")"
   ]
  },
  {
   "cell_type": "markdown",
   "metadata": {},
   "source": [
    "Before moving on, I'd like to make sure there aren't any obvious outliers/potential mistakes"
   ]
  },
  {
   "cell_type": "code",
   "execution_count": 176,
   "metadata": {},
   "outputs": [
    {
     "data": {
      "text/plain": [
       "count      8796.000000\n",
       "mean      75129.109936\n",
       "std       34013.281179\n",
       "min        9600.000000\n",
       "25%       50000.000000\n",
       "50%       70000.000000\n",
       "75%       98000.000000\n",
       "max      300000.000000\n",
       "Name: floor_pay_yearly, dtype: float64"
      ]
     },
     "execution_count": 176,
     "metadata": {},
     "output_type": "execute_result"
    }
   ],
   "source": [
    "jobs['floor_pay_yearly'].describe()"
   ]
  },
  {
   "cell_type": "markdown",
   "metadata": {},
   "source": [
    "A max yearly pay of 300k sounds like a mistake or influence from outliers, and so does a minimum of 9600 a year. I'll consider anything over 200k or under 30k suspect."
   ]
  },
  {
   "cell_type": "code",
   "execution_count": 177,
   "metadata": {},
   "outputs": [
    {
     "data": {
      "image/png": "[encoded data removed]",
      "text/plain": [
       "<Figure size 432x288 with 1 Axes>"
      ]
     },
     "metadata": {},
     "output_type": "display_data"
    }
   ],
   "source": [
    "jobs[['floor_pay_yearly']][jobs['floor_pay_yearly'] >= 200000].plot.box();"
   ]
  },
  {
   "cell_type": "code",
   "execution_count": 193,
   "metadata": {},
   "outputs": [
    {
     "data": {
      "text/plain": [
       "(45, 4)"
      ]
     },
     "execution_count": 193,
     "metadata": {},
     "output_type": "execute_result"
    }
   ],
   "source": [
    "jobs[['role', 'pay', 'details', 'floor_pay_yearly']][jobs['floor_pay_yearly'] >= 200000].shape"
   ]
  },
  {
   "cell_type": "code",
   "execution_count": 179,
   "metadata": {},
   "outputs": [
    {
     "data": {
      "text/html": [
       "<div>\n",
       "<style scoped>\n",
       "    .dataframe tbody tr th:only-of-type {\n",
       "        vertical-align: middle;\n",
       "    }\n",
       "\n",
       "    .dataframe tbody tr th {\n",
       "        vertical-align: top;\n",
       "    }\n",
       "\n",
       "    .dataframe thead th {\n",
       "        text-align: right;\n",
       "    }\n",
       "</style>\n",
       "<table border=\"1\" class=\"dataframe\">\n",
       "  <thead>\n",
       "    <tr style=\"text-align: right;\">\n",
       "      <th></th>\n",
       "      <th>role</th>\n",
       "      <th>company</th>\n",
       "      <th>location</th>\n",
       "      <th>pay</th>\n",
       "      <th>remote</th>\n",
       "      <th>details</th>\n",
       "      <th>job_post_age</th>\n",
       "      <th>search_field</th>\n",
       "      <th>role_formatted</th>\n",
       "      <th>distances</th>\n",
       "      <th>job_label</th>\n",
       "      <th>role_plus_details</th>\n",
       "      <th>predicted_role</th>\n",
       "      <th>yearly</th>\n",
       "      <th>floor_pay_yearly</th>\n",
       "      <th>ceiling_pay_yearly</th>\n",
       "      <th>monthly</th>\n",
       "      <th>hourly</th>\n",
       "    </tr>\n",
       "  </thead>\n",
       "  <tbody>\n",
       "    <tr>\n",
       "      <th>100301</th>\n",
       "      <td>Project Manager - Potable - Private</td>\n",
       "      <td>HR Green</td>\n",
       "      <td>Saint Paul, MN 55114 (St. Anthony area)</td>\n",
       "      <td>300000 a year</td>\n",
       "      <td>0</td>\n",
       "      <td>Assists with pre-positioning strategies; ident...</td>\n",
       "      <td>30</td>\n",
       "      <td>Technical Lead</td>\n",
       "      <td>project manager  potable  private</td>\n",
       "      <td>0.0</td>\n",
       "      <td>Project Manager - Potable - Private</td>\n",
       "      <td>project manager  potable  private assists with...</td>\n",
       "      <td>Product Manager</td>\n",
       "      <td>300000</td>\n",
       "      <td>300000.0</td>\n",
       "      <td>300000.0</td>\n",
       "      <td>NaN</td>\n",
       "      <td>NaN</td>\n",
       "    </tr>\n",
       "  </tbody>\n",
       "</table>\n",
       "</div>"
      ],
      "text/plain": [
       "                                       role   company  \\\n",
       "100301  Project Manager - Potable - Private  HR Green   \n",
       "\n",
       "                                       location            pay  remote  \\\n",
       "100301  Saint Paul, MN 55114 (St. Anthony area)  300000 a year       0   \n",
       "\n",
       "                                                  details  job_post_age  \\\n",
       "100301  Assists with pre-positioning strategies; ident...            30   \n",
       "\n",
       "          search_field                     role_formatted  distances  \\\n",
       "100301  Technical Lead  project manager  potable  private        0.0   \n",
       "\n",
       "                                  job_label  \\\n",
       "100301  Project Manager - Potable - Private   \n",
       "\n",
       "                                        role_plus_details   predicted_role  \\\n",
       "100301  project manager  potable  private assists with...  Product Manager   \n",
       "\n",
       "        yearly  floor_pay_yearly  ceiling_pay_yearly monthly hourly  \n",
       "100301  300000          300000.0            300000.0     NaN    NaN  "
      ]
     },
     "execution_count": 179,
     "metadata": {},
     "output_type": "execute_result"
    }
   ],
   "source": [
    "jobs[jobs['floor_pay_yearly'] >= 300000]"
   ]
  },
  {
   "cell_type": "markdown",
   "metadata": {},
   "source": [
    "The jobs with \\$300000 per year pay ceilings will be removed, as they are pretty extreme outliers"
   ]
  },
  {
   "cell_type": "code",
   "execution_count": 180,
   "metadata": {},
   "outputs": [],
   "source": [
    "jobs = jobs.drop([100301])"
   ]
  },
  {
   "cell_type": "code",
   "execution_count": 181,
   "metadata": {},
   "outputs": [
    {
     "data": {
      "text/plain": [
       "count      8795.000000\n",
       "mean      75103.541899\n",
       "std       33930.576735\n",
       "min        9600.000000\n",
       "25%       50000.000000\n",
       "50%       70000.000000\n",
       "75%       97987.500000\n",
       "max      270000.000000\n",
       "Name: floor_pay_yearly, dtype: float64"
      ]
     },
     "execution_count": 181,
     "metadata": {},
     "output_type": "execute_result"
    }
   ],
   "source": [
    "jobs['floor_pay_yearly'].describe()"
   ]
  },
  {
   "cell_type": "markdown",
   "metadata": {},
   "source": [
    "The lower range of pay is a minimum of 9600 a year, this still seems strange. Jobs with a salary less than 20000 will be dropped"
   ]
  },
  {
   "cell_type": "code",
   "execution_count": 182,
   "metadata": {},
   "outputs": [],
   "source": [
    "jobs = jobs.drop(jobs[jobs['floor_pay_yearly'] < 20000].index)"
   ]
  },
  {
   "cell_type": "code",
   "execution_count": 183,
   "metadata": {},
   "outputs": [
    {
     "name": "stdout",
     "output_type": "stream",
     "text": [
      "75422.12654320987\n"
     ]
    },
    {
     "data": {
      "image/png": "[encoded data removed]",
      "text/plain": [
       "<Figure size 432x288 with 1 Axes>"
      ]
     },
     "metadata": {},
     "output_type": "display_data"
    }
   ],
   "source": [
    "print(jobs['floor_pay_yearly'].mean())\n",
    "jobs['floor_pay_yearly'].plot.hist(bins=60);"
   ]
  },
  {
   "cell_type": "code",
   "execution_count": 190,
   "metadata": {},
   "outputs": [
    {
     "name": "stdout",
     "output_type": "stream",
     "text": [
      "95446.8565386374\n"
     ]
    },
    {
     "data": {
      "image/png": "[encoded data removed]",
      "text/plain": [
       "<Figure size 576x288 with 1 Axes>"
      ]
     },
     "metadata": {},
     "output_type": "display_data"
    }
   ],
   "source": [
    "print(jobs['ceiling_pay_yearly'].mean())\n",
    "jobs['ceiling_pay_yearly'].plot.hist(bins=60, figsize=(8, 4));"
   ]
  },
  {
   "cell_type": "markdown",
   "metadata": {},
   "source": [
    "Since the distributions are right skewed with a somewhat large scale, log transformation can be used to get a more accurate representation of the mean pay floor and ceiling"
   ]
  },
  {
   "cell_type": "code",
   "execution_count": 185,
   "metadata": {},
   "outputs": [
    {
     "name": "stderr",
     "output_type": "stream",
     "text": [
      "/home/jose/miniconda3/envs/unit2/lib/python3.7/site-packages/numpy/lib/histograms.py:839: RuntimeWarning: invalid value encountered in greater_equal\n",
      "  keep = (tmp_a >= first_edge)\n",
      "/home/jose/miniconda3/envs/unit2/lib/python3.7/site-packages/numpy/lib/histograms.py:840: RuntimeWarning: invalid value encountered in less_equal\n",
      "  keep &= (tmp_a <= last_edge)\n"
     ]
    },
    {
     "data": {
      "image/png": "[encoded data removed]",
      "text/plain": [
       "<Figure size 1080x360 with 2 Axes>"
      ]
     },
     "metadata": {},
     "output_type": "display_data"
    }
   ],
   "source": [
    "fig, axes = plt.subplots(1, 2, figsize=(15,5))\n",
    "n_bins = 25\n",
    "floor = np.log1p(jobs['floor_pay_yearly'])\n",
    "ceiling = np.log1p(jobs['ceiling_pay_yearly'])\n",
    "axes[0].hist(floor, bins=n_bins)\n",
    "axes[1].hist(ceiling, bins=n_bins)\n",
    "axes[0].set_title('Pay Floor (Log Transformed)')\n",
    "axes[1].set_title('Pay Ceiling (Log Transformed)')\n",
    "\n",
    "for ax in axes:\n",
    "    ax.grid(True)\n",
    "\n",
    "plt.show()"
   ]
  },
  {
   "cell_type": "code",
   "execution_count": 186,
   "metadata": {},
   "outputs": [
    {
     "name": "stdout",
     "output_type": "stream",
     "text": [
      "Average Pay Floor (Log Transformed): $68099.15565609495\n",
      "Average Pay Ceiling (Log Transformed): $86262.74328753405\n"
     ]
    }
   ],
   "source": [
    "print(f\"Average Pay Floor (Log Transformed): ${np.expm1(floor.mean())}\")\n",
    "print(f\"Average Pay Ceiling (Log Transformed): ${np.expm1(ceiling.mean())}\")"
   ]
  }
 ],
 "metadata": {
  "kernelspec": {
   "display_name": "Python3 (unit2)",
   "language": "python",
   "name": "unit2"
  },
  "language_info": {
   "codemirror_mode": {
    "name": "ipython",
    "version": 3
   },
   "file_extension": ".py",
   "mimetype": "text/x-python",
   "name": "python",
   "nbconvert_exporter": "python",
   "pygments_lexer": "ipython3",
   "version": "3.7.6"
  }
 },
 "nbformat": 4,
 "nbformat_minor": 4
}
